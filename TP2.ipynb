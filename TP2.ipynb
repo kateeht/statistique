{
 "cells": [
  {
   "cell_type": "code",
   "execution_count": 41,
   "id": "5069c6c0-ce21-49af-a153-1b77906bb9c6",
   "metadata": {},
   "outputs": [],
   "source": [
    "import numpy as np\n",
    "import matplotlib.pyplot as plt\n",
    "import pandas as pan\n",
    "import scipy.stats.mstats as ms\n",
    "df=pan.read_csv(\"https://math.univ-lyon1.fr/~dabrowski/nutriage.csv\",sep=\"\\t\")\n",
    "Air=pan.read_csv(\"https://math.univ-lyon1.fr/~dabrowski/pollution.csv\",sep=\"\\t\", na_values=\"-\")\n",
    "\n",
    "for nom in df.keys():\n",
    "    globals()[nom] = df[nom]"
   ]
  },
  {
   "cell_type": "code",
   "execution_count": 42,
   "id": "544f83e9-5fff-4e3b-82d8-be5dca3eaf65",
   "metadata": {},
   "outputs": [
    {
     "name": "stdout",
     "output_type": "stream",
     "text": [
      "[1 8 5 1]\n",
      "[0 1 3 5 7 9]\n"
     ]
    }
   ],
   "source": [
    "x = np.array([1,8,5,1])\n",
    "y = np.array([0,1,3,5,7,9])\n",
    "print(x)\n",
    "print(y)"
   ]
  },
  {
   "cell_type": "code",
   "execution_count": 43,
   "id": "c7315d32-2364-4a28-afe4-4155bf950145",
   "metadata": {},
   "outputs": [
    {
     "data": {
      "text/plain": [
       "'plt.plot(x,y) x and y must have same first dimension, but have shapes (4,) and (6,)'"
      ]
     },
     "execution_count": 43,
     "metadata": {},
     "output_type": "execute_result"
    }
   ],
   "source": [
    "'''plt.plot(x,y) x and y must have same first dimension, but have shapes (4,) and (6,)'''"
   ]
  },
  {
   "cell_type": "code",
   "execution_count": 44,
   "id": "456eee3c-583a-4a2f-acd7-5b1106f2c842",
   "metadata": {},
   "outputs": [
    {
     "name": "stdout",
     "output_type": "stream",
     "text": [
      "[1 8 5 1 3 5]\n"
     ]
    },
    {
     "data": {
      "text/plain": [
       "<matplotlib.collections.PathCollection at 0x7fce10860a00>"
      ]
     },
     "execution_count": 44,
     "metadata": {},
     "output_type": "execute_result"
    },
    {
     "data": {
      "text/plain": [
       "<Figure size 432x288 with 0 Axes>"
      ]
     },
     "metadata": {},
     "output_type": "display_data"
    },
    {
     "data": {
      "image/png": "[encoded data removed]",
      "text/plain": [
       "<Figure size 432x288 with 1 Axes>"
      ]
     },
     "metadata": {
      "needs_background": "light"
     },
     "output_type": "display_data"
    }
   ],
   "source": [
    "x = np.concatenate((x,[3,5]))\n",
    "print(x) \n",
    "plt.clf()\n",
    "fig, ax = plt.subplots()\n",
    "ax.plot(x,y,'b.')\n",
    "#autre solution\n",
    "plt.scatter(x,y)\n"
   ]
  },
  {
   "cell_type": "code",
   "execution_count": 45,
   "id": "ac0513b4-7795-4770-ab1d-0db48c5b4887",
   "metadata": {},
   "outputs": [
    {
     "data": {
      "text/plain": [
       "[<matplotlib.lines.Line2D at 0x7fce10623f10>]"
      ]
     },
     "execution_count": 45,
     "metadata": {},
     "output_type": "execute_result"
    },
    {
     "data": {
      "image/png": "[encoded data removed]",
      "text/plain": [
       "<Figure size 432x288 with 1 Axes>"
      ]
     },
     "metadata": {
      "needs_background": "light"
     },
     "output_type": "display_data"
    }
   ],
   "source": [
    "fig, ax = plt.subplots()\n",
    "ax.plot(x,y,'.')\n",
    "plt.plot(np.mean(x), np.mean(y), 'r+')"
   ]
  },
  {
   "cell_type": "code",
   "execution_count": 46,
   "id": "3043dc6d-fb51-4f58-b182-80888bbf19db",
   "metadata": {},
   "outputs": [
    {
     "name": "stdout",
     "output_type": "stream",
     "text": [
      "La droite de regression est y=-0.04977375565610855 x + 4.357466063348417\n"
     ]
    },
    {
     "data": {
      "text/plain": [
       "Text(0.5, 0.98, 'Droite de regression de y en fonction de x')"
      ]
     },
     "execution_count": 46,
     "metadata": {},
     "output_type": "execute_result"
    },
    {
     "data": {
      "image/png": "[encoded data removed]",
      "text/plain": [
       "<Figure size 432x288 with 1 Axes>"
      ]
     },
     "metadata": {
      "needs_background": "light"
     },
     "output_type": "display_data"
    }
   ],
   "source": [
    "a,b = ms.linregress(x,y)[:2]\n",
    "print(\"La droite de regression est y=%s x + %s\" %(a,b))\n",
    "fig, ax = plt.subplots()\n",
    "ax.plot(x,y,'.')\n",
    "plt.plot(np.mean(x), np.mean(y), 'r+')\n",
    "ax.axline(xy1=(0,b), slope = a, color='green')\n",
    "fig.suptitle(\"Droite de regression de y en fonction de x\")"
   ]
  },
  {
   "cell_type": "code",
   "execution_count": 47,
   "id": "53d7a95c-7efd-4b76-bdd2-1e512f983a83",
   "metadata": {},
   "outputs": [
    {
     "data": {
      "text/plain": [
       "-0.03873023356985952"
      ]
     },
     "execution_count": 47,
     "metadata": {},
     "output_type": "execute_result"
    }
   ],
   "source": [
    "np.corrcoef(x,y)[0,1]"
   ]
  },
  {
   "cell_type": "code",
   "execution_count": 48,
   "id": "092f9957-5b24-4108-83b7-d4fcf61ce9db",
   "metadata": {},
   "outputs": [
    {
     "data": {
      "text/plain": [
       "66.48230088495575"
      ]
     },
     "execution_count": 48,
     "metadata": {},
     "output_type": "execute_result"
    }
   ],
   "source": [
    "np.mean(poids) #moyen"
   ]
  },
  {
   "cell_type": "code",
   "execution_count": 49,
   "id": "3f3b5e18-bd88-4c52-8045-f46b024cfb2b",
   "metadata": {},
   "outputs": [
    {
     "data": {
      "text/plain": [
       "144.1611911661054"
      ]
     },
     "execution_count": 49,
     "metadata": {},
     "output_type": "execute_result"
    }
   ],
   "source": [
    "np.var(poids) #variance"
   ]
  },
  {
   "cell_type": "code",
   "execution_count": 50,
   "id": "fe894fba-f382-4f67-b650-8def74b00b4c",
   "metadata": {},
   "outputs": [
    {
     "data": {
      "text/plain": [
       "144.80190757128807"
      ]
     },
     "execution_count": 50,
     "metadata": {},
     "output_type": "execute_result"
    }
   ],
   "source": [
    "np.var(poids,ddof=1) #variance sans biais"
   ]
  },
  {
   "cell_type": "code",
   "execution_count": 51,
   "id": "731e43e0-2ed7-45b6-bf76-823df22c36ee",
   "metadata": {},
   "outputs": [
    {
     "data": {
      "text/plain": [
       "12.033366427200995"
      ]
     },
     "execution_count": 51,
     "metadata": {},
     "output_type": "execute_result"
    }
   ],
   "source": [
    "np.std(poids,ddof=1) #ecart-type sans biais"
   ]
  },
  {
   "cell_type": "code",
   "execution_count": 52,
   "id": "e2af8794-d4c0-4251-bfbd-7c32999e2a99",
   "metadata": {},
   "outputs": [
    {
     "data": {
      "text/plain": [
       "66.0"
      ]
     },
     "execution_count": 52,
     "metadata": {},
     "output_type": "execute_result"
    }
   ],
   "source": [
    "np.median(poids)"
   ]
  },
  {
   "cell_type": "code",
   "execution_count": 53,
   "id": "18a2419c-f150-4f52-bad1-207c4c8f7b0f",
   "metadata": {},
   "outputs": [
    {
     "data": {
      "text/plain": [
       "163.96017699115043"
      ]
     },
     "execution_count": 53,
     "metadata": {},
     "output_type": "execute_result"
    }
   ],
   "source": [
    "np.mean(taille)"
   ]
  },
  {
   "cell_type": "code",
   "execution_count": 54,
   "id": "0fc6d7b1-275e-4689-a75d-a21e865b92a3",
   "metadata": {},
   "outputs": [
    {
     "data": {
      "text/plain": [
       "80.701953950975"
      ]
     },
     "execution_count": 54,
     "metadata": {},
     "output_type": "execute_result"
    }
   ],
   "source": [
    "np.var(taille)"
   ]
  },
  {
   "cell_type": "code",
   "execution_count": 55,
   "id": "8f542495-d92b-4aa7-98b9-62e79b05760e",
   "metadata": {},
   "outputs": [
    {
     "data": {
      "text/plain": [
       "81.06062930186822"
      ]
     },
     "execution_count": 55,
     "metadata": {},
     "output_type": "execute_result"
    }
   ],
   "source": [
    "np.var(taille,ddof=1)"
   ]
  },
  {
   "cell_type": "code",
   "execution_count": 56,
   "id": "4d105185-0442-466d-a13a-cb23fa95b617",
   "metadata": {},
   "outputs": [
    {
     "data": {
      "text/plain": [
       "9.003367664483564"
      ]
     },
     "execution_count": 56,
     "metadata": {},
     "output_type": "execute_result"
    }
   ],
   "source": [
    "np.std(taille,ddof=1)"
   ]
  },
  {
   "cell_type": "code",
   "execution_count": 57,
   "id": "90eea033-8120-407d-afc2-fbf63797fdff",
   "metadata": {},
   "outputs": [
    {
     "data": {
      "text/plain": [
       "163.0"
      ]
     },
     "execution_count": 57,
     "metadata": {},
     "output_type": "execute_result"
    }
   ],
   "source": [
    "np.median(taille)"
   ]
  },
  {
   "cell_type": "code",
   "execution_count": 58,
   "id": "b7a317f3-99e3-4028-8459-86f5713a7fce",
   "metadata": {},
   "outputs": [
    {
     "name": "stderr",
     "output_type": "stream",
     "text": [
      "/tmp/ipykernel_650422/3625385135.py:1: DeprecationWarning: the `interpolation=` argument to quantile was renamed to `method=`, which has additional options.\n",
      "Users of the modes 'nearest', 'lower', 'higher', or 'midpoint' are encouraged to review the method they used. (Deprecated NumPy 1.22)\n",
      "  np.quantile(poids, [0.25,0.5,0.75], interpolation =\"lower\")\n"
     ]
    },
    {
     "data": {
      "text/plain": [
       "array([57, 66, 75])"
      ]
     },
     "execution_count": 58,
     "metadata": {},
     "output_type": "execute_result"
    }
   ],
   "source": [
    "np.quantile(poids, [0.25,0.5,0.75], interpolation =\"lower\")\n",
    "np.quantile(poids, [0.25,0.5,0.75], method =\"lower\")\n"
   ]
  },
  {
   "cell_type": "code",
   "execution_count": 59,
   "id": "956062a4-048e-4956-a1e2-c372023509b3",
   "metadata": {},
   "outputs": [],
   "source": [
    "##help(pan.DataFrame)"
   ]
  },
  {
   "cell_type": "code",
   "execution_count": 60,
   "id": "8da22853-bcd1-477f-a13b-553302fa7b68",
   "metadata": {},
   "outputs": [],
   "source": [
    "tp=pan.DataFrame({\"taille\": taille, \"poids\": poids})\n",
    "#ne marche pas: pan.DataFrame([taille,poid])"
   ]
  },
  {
   "cell_type": "code",
   "execution_count": 61,
   "id": "6caf35ed-cc38-481d-bd1f-0376d0b5483f",
   "metadata": {},
   "outputs": [
    {
     "data": {
      "text/html": [
       "<div>\n",
       "<style scoped>\n",
       "    .dataframe tbody tr th:only-of-type {\n",
       "        vertical-align: middle;\n",
       "    }\n",
       "\n",
       "    .dataframe tbody tr th {\n",
       "        vertical-align: top;\n",
       "    }\n",
       "\n",
       "    .dataframe thead th {\n",
       "        text-align: right;\n",
       "    }\n",
       "</style>\n",
       "<table border=\"1\" class=\"dataframe\">\n",
       "  <thead>\n",
       "    <tr style=\"text-align: right;\">\n",
       "      <th></th>\n",
       "      <th>0</th>\n",
       "      <th>1</th>\n",
       "    </tr>\n",
       "  </thead>\n",
       "  <tbody>\n",
       "    <tr>\n",
       "      <th>0</th>\n",
       "      <td>151</td>\n",
       "      <td>58</td>\n",
       "    </tr>\n",
       "    <tr>\n",
       "      <th>1</th>\n",
       "      <td>162</td>\n",
       "      <td>60</td>\n",
       "    </tr>\n",
       "    <tr>\n",
       "      <th>2</th>\n",
       "      <td>162</td>\n",
       "      <td>75</td>\n",
       "    </tr>\n",
       "    <tr>\n",
       "      <th>3</th>\n",
       "      <td>154</td>\n",
       "      <td>45</td>\n",
       "    </tr>\n",
       "    <tr>\n",
       "      <th>4</th>\n",
       "      <td>154</td>\n",
       "      <td>50</td>\n",
       "    </tr>\n",
       "    <tr>\n",
       "      <th>...</th>\n",
       "      <td>...</td>\n",
       "      <td>...</td>\n",
       "    </tr>\n",
       "    <tr>\n",
       "      <th>221</th>\n",
       "      <td>160</td>\n",
       "      <td>73</td>\n",
       "    </tr>\n",
       "    <tr>\n",
       "      <th>222</th>\n",
       "      <td>163</td>\n",
       "      <td>62</td>\n",
       "    </tr>\n",
       "    <tr>\n",
       "      <th>223</th>\n",
       "      <td>170</td>\n",
       "      <td>74</td>\n",
       "    </tr>\n",
       "    <tr>\n",
       "      <th>224</th>\n",
       "      <td>154</td>\n",
       "      <td>45</td>\n",
       "    </tr>\n",
       "    <tr>\n",
       "      <th>225</th>\n",
       "      <td>159</td>\n",
       "      <td>63</td>\n",
       "    </tr>\n",
       "  </tbody>\n",
       "</table>\n",
       "<p>226 rows × 2 columns</p>\n",
       "</div>"
      ],
      "text/plain": [
       "       0   1\n",
       "0    151  58\n",
       "1    162  60\n",
       "2    162  75\n",
       "3    154  45\n",
       "4    154  50\n",
       "..   ...  ..\n",
       "221  160  73\n",
       "222  163  62\n",
       "223  170  74\n",
       "224  154  45\n",
       "225  159  63\n",
       "\n",
       "[226 rows x 2 columns]"
      ]
     },
     "execution_count": 61,
     "metadata": {},
     "output_type": "execute_result"
    }
   ],
   "source": [
    "#autre solution:\n",
    "pan.DataFrame(np.transpose(np.array([taille,poids])))"
   ]
  },
  {
   "cell_type": "code",
   "execution_count": 62,
   "id": "9142a2da-0d15-407a-a05c-aa212c18ad4a",
   "metadata": {},
   "outputs": [
    {
     "data": {
      "text/html": [
       "<div>\n",
       "<style scoped>\n",
       "    .dataframe tbody tr th:only-of-type {\n",
       "        vertical-align: middle;\n",
       "    }\n",
       "\n",
       "    .dataframe tbody tr th {\n",
       "        vertical-align: top;\n",
       "    }\n",
       "\n",
       "    .dataframe thead th {\n",
       "        text-align: right;\n",
       "    }\n",
       "</style>\n",
       "<table border=\"1\" class=\"dataframe\">\n",
       "  <thead>\n",
       "    <tr style=\"text-align: right;\">\n",
       "      <th></th>\n",
       "      <th>taille</th>\n",
       "      <th>poids</th>\n",
       "    </tr>\n",
       "  </thead>\n",
       "  <tbody>\n",
       "    <tr>\n",
       "      <th>count</th>\n",
       "      <td>226.000000</td>\n",
       "      <td>226.000000</td>\n",
       "    </tr>\n",
       "    <tr>\n",
       "      <th>mean</th>\n",
       "      <td>163.960177</td>\n",
       "      <td>66.482301</td>\n",
       "    </tr>\n",
       "    <tr>\n",
       "      <th>std</th>\n",
       "      <td>9.003368</td>\n",
       "      <td>12.033366</td>\n",
       "    </tr>\n",
       "    <tr>\n",
       "      <th>min</th>\n",
       "      <td>140.000000</td>\n",
       "      <td>38.000000</td>\n",
       "    </tr>\n",
       "    <tr>\n",
       "      <th>25%</th>\n",
       "      <td>157.000000</td>\n",
       "      <td>57.250000</td>\n",
       "    </tr>\n",
       "    <tr>\n",
       "      <th>50%</th>\n",
       "      <td>163.000000</td>\n",
       "      <td>66.000000</td>\n",
       "    </tr>\n",
       "    <tr>\n",
       "      <th>75%</th>\n",
       "      <td>170.000000</td>\n",
       "      <td>75.000000</td>\n",
       "    </tr>\n",
       "    <tr>\n",
       "      <th>max</th>\n",
       "      <td>188.000000</td>\n",
       "      <td>96.000000</td>\n",
       "    </tr>\n",
       "  </tbody>\n",
       "</table>\n",
       "</div>"
      ],
      "text/plain": [
       "           taille       poids\n",
       "count  226.000000  226.000000\n",
       "mean   163.960177   66.482301\n",
       "std      9.003368   12.033366\n",
       "min    140.000000   38.000000\n",
       "25%    157.000000   57.250000\n",
       "50%    163.000000   66.000000\n",
       "75%    170.000000   75.000000\n",
       "max    188.000000   96.000000"
      ]
     },
     "execution_count": 62,
     "metadata": {},
     "output_type": "execute_result"
    }
   ],
   "source": [
    "tp.describe() #resume des variables stats: moyenne, ecart-type, quantile"
   ]
  },
  {
   "cell_type": "code",
   "execution_count": 63,
   "id": "720490a3-6bd7-41fe-8326-eee401dfb338",
   "metadata": {},
   "outputs": [
    {
     "data": {
      "text/plain": [
       "(35.0, 100.0)"
      ]
     },
     "execution_count": 63,
     "metadata": {},
     "output_type": "execute_result"
    },
    {
     "data": {
      "image/png": "[encoded data removed]",
      "text/plain": [
       "<Figure size 432x288 with 1 Axes>"
      ]
     },
     "metadata": {
      "needs_background": "light"
     },
     "output_type": "display_data"
    }
   ],
   "source": [
    "##2.4\n",
    "x = taille\n",
    "y = poids\n",
    "fig, ax=plt.subplots()\n",
    "ax.plot(x,y,'b.')\n",
    "ax.plot(np.mean(x),np.mean(y),'r+')\n",
    "ax.set_xlim(135,195)\n",
    "ax.set_ylim(35,100)"
   ]
  },
  {
   "cell_type": "code",
   "execution_count": 64,
   "id": "84ebb09d-15e9-48f1-8348-81dee67e1dcb",
   "metadata": {},
   "outputs": [
    {
     "data": {
      "text/plain": [
       "(35.0, 100.0)"
      ]
     },
     "execution_count": 64,
     "metadata": {},
     "output_type": "execute_result"
    },
    {
     "data": {
      "image/png": "[encoded data removed]",
      "text/plain": [
       "<Figure size 432x288 with 1 Axes>"
      ]
     },
     "metadata": {
      "needs_background": "light"
     },
     "output_type": "display_data"
    }
   ],
   "source": [
    "#5\n",
    "x=taille\n",
    "y=poids\n",
    "fig,ax=plt.subplots()\n",
    "ax.plot(x,y,'b.')\n",
    "ax.plot(np.mean(x),np.mean(y),'r+')\n",
    "ax.set_xlim((135,195))\n",
    "ax.set_ylim((35,100))\n"
   ]
  },
  {
   "cell_type": "code",
   "execution_count": 65,
   "id": "dcba68fe-f6ac-4f85-8f1c-da7d97cc71b3",
   "metadata": {},
   "outputs": [
    {
     "name": "stdout",
     "output_type": "stream",
     "text": [
      "la droite de RÃ©gression est y= 0.8428994357744277 x+ -71.71963979036025\n"
     ]
    },
    {
     "data": {
      "text/plain": [
       "<matplotlib.lines._AxLine at 0x7fce10529bb0>"
      ]
     },
     "execution_count": 65,
     "metadata": {},
     "output_type": "execute_result"
    }
   ],
   "source": [
    "#6\n",
    "\n",
    "a,b=ms.linregress(x,y)[:2]\n",
    "print(\"la droite de RÃ©gression est y=\",a,\"x+\",b)\n",
    "ax.axline((0,b), slope=a,color='g')\n",
    "fig.suptitle(\"Droite de rÃ©gression de y en fonction de x\")\n",
    "\n",
    "#autre solution\n",
    "ax.axline((np.mean(x),np.mean(y)), slope=a,color='g')\n",
    "\n",
    "#DerniÃ¨re solution ax.axline(((0,b), (np.mean(x),np.mean(y)),color='g')\n",
    "\n",
    "\n",
    "\n",
    "#Un point au dessus de la droite de rÃ©gression est une personne dont \n",
    "#le poids est au dessus de celui attendu pour sa taille.\n",
    "#En langage courant, on dirait au \"dessus de la moyenne\", mÃªme si ce n'est pas exactement une valeur moyenne\n",
    "#que donne la droite de rÃ©gression."
   ]
  },
  {
   "cell_type": "code",
   "execution_count": 66,
   "id": "592a3b99-8f16-4782-84e5-dee986eef340",
   "metadata": {},
   "outputs": [
    {
     "data": {
      "text/plain": [
       "74.34042553191489"
      ]
     },
     "execution_count": 66,
     "metadata": {},
     "output_type": "execute_result"
    }
   ],
   "source": [
    "###################Exercice 3#########################\n",
    " \n",
    "#1\n",
    "np.mean(age[sexe=='F'])#74.34042553191489\n"
   ]
  },
  {
   "cell_type": "code",
   "execution_count": 67,
   "id": "7cc00093-ce68-499b-848e-f867385a1da3",
   "metadata": {},
   "outputs": [
    {
     "data": {
      "text/plain": [
       "(35.0, 100.0)"
      ]
     },
     "execution_count": 67,
     "metadata": {},
     "output_type": "execute_result"
    },
    {
     "data": {
      "image/png": "[encoded data removed]",
      "text/plain": [
       "<Figure size 432x288 with 1 Axes>"
      ]
     },
     "metadata": {
      "needs_background": "light"
     },
     "output_type": "display_data"
    }
   ],
   "source": [
    "#2\n",
    "y1=poids[sexe=='F']\n",
    "x1=age[sexe=='F']\n",
    "\n",
    "y2=poids[sexe=='H']\n",
    "x2=age[sexe=='H']\n",
    "fig,ax=plt.subplots()\n",
    "ax.plot(x1,y1,'r.')\n",
    "ax.plot(x2,y2,'b.')\n",
    "ax.set_xlim((60,95))\n",
    "ax.set_ylim((35,100))"
   ]
  },
  {
   "cell_type": "code",
   "execution_count": 40,
   "id": "235da749-8b7b-4d11-b6fc-cda17c4b1f21",
   "metadata": {},
   "outputs": [
    {
     "name": "stdout",
     "output_type": "stream",
     "text": [
      "la droite de RÃ©gression pour les femmes est y= 0.11471737041878638 x+ 52.57824484588852\n",
      "la droite de RÃ©gression pour les hommes est y= 0.04401462077368256 x+ 72.11184891867195\n"
     ]
    },
    {
     "data": {
      "text/plain": [
       "<matplotlib.lines._AxLine at 0x7fce10796520>"
      ]
     },
     "execution_count": 40,
     "metadata": {},
     "output_type": "execute_result"
    }
   ],
   "source": [
    "#3\n",
    "a1,b1=ms.linregress(x1,y1)[:2]\n",
    "print(\"la droite de RÃ©gression pour les femmes est y=\",a1,\"x+\",b1)\n",
    "\n",
    "a2,b2=ms.linregress(x2,y2)[:2]\n",
    "print(\"la droite de RÃ©gression pour les hommes est y=\",a2,\"x+\",b2)\n",
    "ax.axline((0,b1), slope=a1,color='pink')\n",
    "ax.axline((0,b2), slope=a2,color='cyan')"
   ]
  },
  {
   "cell_type": "code",
   "execution_count": 68,
   "id": "652dcc27-58bd-4195-8fd9-7113c3a1fac8",
   "metadata": {},
   "outputs": [
    {
     "name": "stdout",
     "output_type": "stream",
     "text": [
      "la droite de RÃ©gression pour les femmes est y= 0.11471737041878638 x+ 52.57824484588852\n",
      "la droite de RÃ©gression pour les hommes est y= 0.04401462077368256 x+ 72.11184891867195\n"
     ]
    },
    {
     "data": {
      "text/plain": [
       "<matplotlib.lines._AxLine at 0x7fce1040f0d0>"
      ]
     },
     "execution_count": 68,
     "metadata": {},
     "output_type": "execute_result"
    }
   ],
   "source": [
    "#3\n",
    "a1,b1=ms.linregress(x1,y1)[:2]\n",
    "print(\"la droite de RÃ©gression pour les femmes est y=\",a1,\"x+\",b1)\n",
    "\n",
    "a2,b2=ms.linregress(x2,y2)[:2]\n",
    "print(\"la droite de RÃ©gression pour les hommes est y=\",a2,\"x+\",b2)\n",
    "ax.axline((0,b1), slope=a1,color='pink')\n",
    "ax.axline((0,b2), slope=a2,color='cyan')"
   ]
  },
  {
   "cell_type": "code",
   "execution_count": 1,
   "id": "94fd00e7-6b6c-4bca-af36-1139f4f7a604",
   "metadata": {},
   "outputs": [],
   "source": [
    "import numpy as np\n",
    "import matplotlib.pyplot as plt\n",
    "import pandas as pan\n",
    "import scipy.stats as st\n",
    "from scipy.stats import bernoulli, binom, geom, poisson\n",
    "import scipy.stats as st"
   ]
  },
  {
   "cell_type": "code",
   "execution_count": null,
   "id": "0558396f-767e-4aa0-910a-d9191789bbd4",
   "metadata": {},
   "outputs": [],
   "source": []
  },
  {
   "cell_type": "code",
   "execution_count": null,
   "id": "d2244836-dd0d-4b44-8d7b-129291672730",
   "metadata": {},
   "outputs": [],
   "source": []
  }
 ],
 "metadata": {
  "kernelspec": {
   "display_name": "Python 3 (ipykernel)",
   "language": "python",
   "name": "python3"
  },
  "language_info": {
   "codemirror_mode": {
    "name": "ipython",
    "version": 3
   },
   "file_extension": ".py",
   "mimetype": "text/x-python",
   "name": "python",
   "nbconvert_exporter": "python",
   "pygments_lexer": "ipython3",
   "version": "3.9.13"
  }
 },
 "nbformat": 4,
 "nbformat_minor": 5
}
