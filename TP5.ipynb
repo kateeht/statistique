{
 "cells": [
  {
   "cell_type": "code",
   "execution_count": 12,
   "id": "7c1ee490-3307-4620-a84a-f25287eea6d7",
   "metadata": {},
   "outputs": [],
   "source": [
    "import numpy as np\n",
    "import matplotlib.pyplot as plt\n",
    "import scipy.stats as st\n",
    "import pandas as pan\n",
    "import scipy.stats.mstats as ms\n",
    "import statsmodels.api as sm"
   ]
  },
  {
   "cell_type": "code",
   "execution_count": 13,
   "id": "a0f31fba-a461-4a18-a6d3-1f7c6679f74e",
   "metadata": {},
   "outputs": [
    {
     "data": {
      "text/plain": [
       "(163.38881498488192, 168.07785168178472)"
      ]
     },
     "execution_count": 13,
     "metadata": {},
     "output_type": "execute_result"
    }
   ],
   "source": [
    "#1.1\n",
    "taille = [166, 170, 161, 167, 168, 169, 169, 166, 163, 161, 162, 171, 169, 156, 168]\n",
    "#d'arbord, la fonction st.sem renvois sigma_n(x)/n^{1/2} comme illustre par defaut\n",
    "st.sem(taille)\n",
    "n = len(taille)\n",
    "mean = np.mean(taille)\n",
    "std = np.std(taille,ddof = 1)/ np.sqrt (n)\n",
    "confidence = 0.95\n",
    "st.t.interval(confidence, df = n-1, loc = mean, scale = st.sem(taille))"
   ]
  },
  {
   "cell_type": "code",
   "execution_count": 14,
   "id": "1800009e-7c61-4882-81a7-40d128fbab0e",
   "metadata": {},
   "outputs": [],
   "source": [
    "#help(st.t.interval)"
   ]
  },
  {
   "cell_type": "code",
   "execution_count": 15,
   "id": "690eb1ac-15e1-4b5d-acfb-35e3fbcfb8ff",
   "metadata": {},
   "outputs": [],
   "source": [
    "#1.2\n",
    "def StudentInterval(x,alpha = 0.05):\n",
    "    l = len(x)\n",
    "    m = np.mean(x)\n",
    "    s = np.std(x,ddof=1)\n",
    "    delta = (st.t.ppf(1-alpha/2, df =l-1)*s)/np.sqrt(n) \n",
    "    return (m-delta, m+delta)                                                                                                       "
   ]
  },
  {
   "cell_type": "code",
   "execution_count": 16,
   "id": "02db52ae-0740-44b6-9ab5-d5544a80cd3e",
   "metadata": {},
   "outputs": [
    {
     "data": {
      "text/plain": [
       "(163.38881498488192, 168.07785168178472)"
      ]
     },
     "execution_count": 16,
     "metadata": {},
     "output_type": "execute_result"
    }
   ],
   "source": [
    "StudentInterval(taille,alpha = 0.05)"
   ]
  },
  {
   "cell_type": "code",
   "execution_count": 17,
   "id": "b4a161d8-f93a-4f16-8e02-a4460ab87a86",
   "metadata": {},
   "outputs": [],
   "source": [
    "df=pan.read_csv(\"http://math.univ-lyon1.fr/homes-www/dabrowski/nutriage.csv\",sep=\"\\t\")\n",
    "for nom in df.keys():\n",
    "    globals()[nom] = df[nom]"
   ]
  },
  {
   "cell_type": "code",
   "execution_count": 18,
   "id": "0833a71a-2c9c-4f83-981e-bcf58cac7e32",
   "metadata": {},
   "outputs": [],
   "source": [
    "##2 test l'hyphothese\n",
    "##2.1\n",
    "t = df[\"taille\"]\n",
    "s = df[\"sexe\"]\n",
    "th=t[s=='H']\n",
    "tf=t[s==\"F\"]\n"
   ]
  },
  {
   "cell_type": "code",
   "execution_count": 19,
   "id": "076d2c09-cd92-468a-91da-3f8f8ec22fe8",
   "metadata": {},
   "outputs": [
    {
     "data": {
      "text/plain": [
       "141"
      ]
     },
     "execution_count": 19,
     "metadata": {},
     "output_type": "execute_result"
    }
   ],
   "source": [
    "## petite verification\n",
    "pan.value_counts(sexe)\n",
    "len(th)\n",
    "len(tf)"
   ]
  },
  {
   "cell_type": "code",
   "execution_count": 20,
   "id": "624bf39d-e1af-4dbd-91ee-b71fa1a06d86",
   "metadata": {},
   "outputs": [],
   "source": [
    "## il faut supposer que les echantillon suivant\n",
    "# une loi normale"
   ]
  },
  {
   "cell_type": "code",
   "execution_count": 21,
   "id": "63650896-76e6-4ab1-8d0f-71dd2470d87a",
   "metadata": {},
   "outputs": [
    {
     "data": {
      "text/plain": [
       "TtestResult(statistic=-3.509380172567352, pvalue=0.0006045000059191302, df=140)"
      ]
     },
     "execution_count": 21,
     "metadata": {},
     "output_type": "execute_result"
    }
   ],
   "source": [
    "###2\n",
    "st.ttest_1samp(tf,popmean=160.5)"
   ]
  },
  {
   "cell_type": "code",
   "execution_count": 22,
   "id": "ecbf5943-7158-4754-b2be-b0cc1c57069b",
   "metadata": {},
   "outputs": [
    {
     "data": {
      "text/plain": [
       "<function numpy.mean(a, axis=None, dtype=None, out=None, keepdims=<no value>, *, where=<no value>)>"
      ]
     },
     "execution_count": 22,
     "metadata": {},
     "output_type": "execute_result"
    }
   ],
   "source": [
    "#TtestResult(statistic=-3.509380172567352, pvalue=0.0006045000059191302, df=140)\n",
    "#pvalue = 0.0006045000059191302 < 0.01 donc on rejecte\n",
    "#l'hyphothese d'egalité à la moyenne francaise\n",
    "#avec une extraordinaire présomption contre. la moyenne de l'enchantillon \n",
    "np.mean"
   ]
  },
  {
   "cell_type": "code",
   "execution_count": null,
   "id": "b4d90987-81b9-4261-908d-add325c4ab72",
   "metadata": {},
   "outputs": [],
   "source": []
  },
  {
   "cell_type": "code",
   "execution_count": null,
   "id": "0968a374-9474-4385-8946-b6516c7726d5",
   "metadata": {},
   "outputs": [],
   "source": []
  }
 ],
 "metadata": {
  "kernelspec": {
   "display_name": "Python 3 (ipykernel)",
   "language": "python",
   "name": "python3"
  },
  "language_info": {
   "codemirror_mode": {
    "name": "ipython",
    "version": 3
   },
   "file_extension": ".py",
   "mimetype": "text/x-python",
   "name": "python",
   "nbconvert_exporter": "python",
   "pygments_lexer": "ipython3",
   "version": "3.9.13"
  }
 },
 "nbformat": 4,
 "nbformat_minor": 5
}
