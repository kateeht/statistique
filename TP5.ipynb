{
 "cells": [
  {
   "cell_type": "code",
   "execution_count": 12,
   "id": "7c1ee490-3307-4620-a84a-f25287eea6d7",
   "metadata": {},
   "outputs": [],
   "source": [
    "import numpy as np\n",
    "import matplotlib.pyplot as plt\n",
    "import scipy.stats as st\n",
    "import pandas as pan\n",
    "import scipy.stats.mstats as ms\n",
    "import statsmodels.api as sm"
   ]
  },
  {
   "cell_type": "code",
   "execution_count": 23,
   "id": "a0f31fba-a461-4a18-a6d3-1f7c6679f74e",
   "metadata": {},
   "outputs": [
    {
     "data": {
      "text/plain": [
       "(163.38881498488192, 168.07785168178472)"
      ]
     },
     "execution_count": 23,
     "metadata": {},
     "output_type": "execute_result"
    }
   ],
   "source": [
    "###################Exercice 5.1#########################\n",
    "\n",
    "taille=[ 166, 170, 161, 167, 168, 169, 169,166, 163, 161, 162, 171, 169, 156, 168]\n",
    "\n",
    "#1\n",
    "\n",
    "#D'abord, la fonction st.sem renvoie sigma_n(x)/n^{1/2} comme illustré par les deux calculs suivants\n",
    "st.sem(taille)\n",
    "np.std(taille,ddof=1)/np.sqrt(len(taille))\n",
    "\n",
    "#intervalle calculé directement \n",
    "st.t.interval(0.95,df=len(taille)-1,loc=np.mean(taille),scale=st.sem(taille))\n",
    "#(163.38881498488192, 168.07785168178472)\n",
    "#On arrondit en élargissant l'intervalle à [163.38, 168.08]"
   ]
  },
  {
   "cell_type": "code",
   "execution_count": 14,
   "id": "1800009e-7c61-4882-81a7-40d128fbab0e",
   "metadata": {},
   "outputs": [],
   "source": [
    "#help(st.t.interval)"
   ]
  },
  {
   "cell_type": "code",
   "execution_count": 24,
   "id": "690eb1ac-15e1-4b5d-acfb-35e3fbcfb8ff",
   "metadata": {},
   "outputs": [
    {
     "data": {
      "text/plain": [
       "(163.8080025049104, 167.65866416175623)"
      ]
     },
     "execution_count": 24,
     "metadata": {},
     "output_type": "execute_result"
    }
   ],
   "source": [
    "\n",
    "#2 \n",
    "def StudentInterval(x,alpha=0.05):\n",
    "    m=np.mean(x)\n",
    "    s = np.std(x,ddof=1)\n",
    "    l=len(x)\n",
    "    delta = (st.t.ppf(1-alpha/2,df=l-1)*s) / np.sqrt(l)\n",
    "    return (m-delta,m+delta)\n",
    "\n",
    "#On retrouve la même valeur qu'avant:\n",
    "StudentInterval(taille)\n",
    "\n",
    "#Intervalle au niveau de confiance 90%\n",
    "StudentInterval(taille,alpha=0.1)                                                                                                       "
   ]
  },
  {
   "cell_type": "code",
   "execution_count": 16,
   "id": "02db52ae-0740-44b6-9ab5-d5544a80cd3e",
   "metadata": {},
   "outputs": [
    {
     "data": {
      "text/plain": [
       "(163.38881498488192, 168.07785168178472)"
      ]
     },
     "execution_count": 16,
     "metadata": {},
     "output_type": "execute_result"
    }
   ],
   "source": [
    "StudentInterval(taille,alpha = 0.05)"
   ]
  },
  {
   "cell_type": "code",
   "execution_count": 25,
   "id": "b4a161d8-f93a-4f16-8e02-a4460ab87a86",
   "metadata": {},
   "outputs": [],
   "source": [
    "###################Exercice 5.2#########################\n",
    "df=pan.read_csv(\"http://math.univ-lyon1.fr/homes-www/dabrowski/nutriage.csv\",sep=\"\\t\")\n",
    "for nom in df.keys():\n",
    "    globals()[nom] = df[nom]"
   ]
  },
  {
   "cell_type": "code",
   "execution_count": 26,
   "id": "0833a71a-2c9c-4f83-981e-bcf58cac7e32",
   "metadata": {},
   "outputs": [],
   "source": [
    "##2 test l'hyphothese\n",
    "##2.1\n",
    "t = df[\"taille\"]\n",
    "s = df[\"sexe\"]\n",
    "th=t[s=='H']\n",
    "tf=t[s==\"F\"]\n"
   ]
  },
  {
   "cell_type": "code",
   "execution_count": 27,
   "id": "076d2c09-cd92-468a-91da-3f8f8ec22fe8",
   "metadata": {},
   "outputs": [
    {
     "data": {
      "text/plain": [
       "141"
      ]
     },
     "execution_count": 27,
     "metadata": {},
     "output_type": "execute_result"
    }
   ],
   "source": [
    "## petite verification\n",
    "pan.value_counts(sexe)\n",
    "len(th)\n",
    "len(tf)"
   ]
  },
  {
   "cell_type": "code",
   "execution_count": 20,
   "id": "624bf39d-e1af-4dbd-91ee-b71fa1a06d86",
   "metadata": {},
   "outputs": [],
   "source": [
    "## il faut supposer que les echantillon suivant\n",
    "# une loi normale"
   ]
  },
  {
   "cell_type": "code",
   "execution_count": 28,
   "id": "ecbf5943-7158-4754-b2be-b0cc1c57069b",
   "metadata": {},
   "outputs": [
    {
     "data": {
      "text/plain": [
       "0.0003022500029595651"
      ]
     },
     "execution_count": 28,
     "metadata": {},
     "output_type": "execute_result"
    }
   ],
   "source": [
    "#2\n",
    "st.ttest_1samp(tf,popmean=160.5)\n",
    "#pvalue=0.0006045000059191302<0.01 donc on rejette\n",
    "# l'hypothèse d'égalité à la moyenne française\n",
    "# avec une extraordinaire présomption contre.\n",
    "np.mean(tf)#158.80141843971631\n",
    "\n",
    "#Si l'hypothèse alternative était H_1 \\mu_h<163,9\n",
    "st.ttest_1samp(tf,popmean=160.5,alternative=\"less\")\n",
    "#on obtiendrait  pvalue=0.0003022500029595651<0.01 donc la moyenne est a fortiori aussi significativement inférieure.\n",
    "np.mean(tf)#158.80141843971631\n",
    "\n",
    "#Option en Python 3.7 (où l'option alternative n'est pas disponible)\n",
    "st.t.cdf(st.ttest_1samp(tf,popmean=160.5)[0],df=len(tf)-1)"
   ]
  },
  {
   "cell_type": "code",
   "execution_count": 29,
   "id": "b4d90987-81b9-4261-908d-add325c4ab72",
   "metadata": {},
   "outputs": [
    {
     "data": {
      "text/plain": [
       "0.49016647508601974"
      ]
     },
     "execution_count": 29,
     "metadata": {},
     "output_type": "execute_result"
    }
   ],
   "source": [
    "#3\n",
    "\n",
    "st.ttest_1samp(th,popmean=170,alternative=\"greater\")\n",
    "#pvalue=0.0003414672490581896<0.01 donc on rejette\n",
    "# l'hypothèse d'égalité à la moyenne française\n",
    "# avec une extraordinaire présomption contre. La moyenne de l'échantillon est significativement supérieure.\n",
    "np.mean(th)#172.51764705882354\n",
    "\n",
    "st.ttest_1samp(th,popmean=172.5,alternative=\"greater\")\n",
    "\n",
    "#p-valeur: 0.49016647508601974>0.1 donc on rejette\n",
    "# l'hypothèse d'égalité à la moyenne française  des 20-30 ans de 1970,  \n",
    "# sans présomption contre.\n",
    "# La moyenne n'est pas significativement supérieure.\n",
    "\n",
    "\n",
    "\n",
    "#Option en Python 3.7 (où l'option alternative n'est pas disponible)\n",
    "1-st.t.cdf(st.ttest_1samp(th,popmean=172.5)[0],df=len(th)-1)"
   ]
  },
  {
   "cell_type": "code",
   "execution_count": 30,
   "id": "0968a374-9474-4385-8946-b6516c7726d5",
   "metadata": {},
   "outputs": [
    {
     "data": {
      "text/html": [
       "<div>\n",
       "<style scoped>\n",
       "    .dataframe tbody tr th:only-of-type {\n",
       "        vertical-align: middle;\n",
       "    }\n",
       "\n",
       "    .dataframe tbody tr th {\n",
       "        vertical-align: top;\n",
       "    }\n",
       "\n",
       "    .dataframe thead th {\n",
       "        text-align: right;\n",
       "    }\n",
       "</style>\n",
       "<table border=\"1\" class=\"dataframe\">\n",
       "  <thead>\n",
       "    <tr style=\"text-align: right;\">\n",
       "      <th>cafe</th>\n",
       "      <th>0</th>\n",
       "      <th>1</th>\n",
       "      <th>2</th>\n",
       "      <th>3</th>\n",
       "      <th>4</th>\n",
       "      <th>5</th>\n",
       "    </tr>\n",
       "    <tr>\n",
       "      <th>the</th>\n",
       "      <th></th>\n",
       "      <th></th>\n",
       "      <th></th>\n",
       "      <th></th>\n",
       "      <th></th>\n",
       "      <th></th>\n",
       "    </tr>\n",
       "  </thead>\n",
       "  <tbody>\n",
       "    <tr>\n",
       "      <th>0</th>\n",
       "      <td>0.115044</td>\n",
       "      <td>0.115044</td>\n",
       "      <td>0.283186</td>\n",
       "      <td>0.154867</td>\n",
       "      <td>0.026549</td>\n",
       "      <td>0.026549</td>\n",
       "    </tr>\n",
       "    <tr>\n",
       "      <th>1</th>\n",
       "      <td>0.017699</td>\n",
       "      <td>0.022124</td>\n",
       "      <td>0.017699</td>\n",
       "      <td>0.000000</td>\n",
       "      <td>0.000000</td>\n",
       "      <td>0.000000</td>\n",
       "    </tr>\n",
       "    <tr>\n",
       "      <th>2</th>\n",
       "      <td>0.061947</td>\n",
       "      <td>0.044248</td>\n",
       "      <td>0.013274</td>\n",
       "      <td>0.008850</td>\n",
       "      <td>0.000000</td>\n",
       "      <td>0.000000</td>\n",
       "    </tr>\n",
       "    <tr>\n",
       "      <th>3</th>\n",
       "      <td>0.017699</td>\n",
       "      <td>0.013274</td>\n",
       "      <td>0.004425</td>\n",
       "      <td>0.000000</td>\n",
       "      <td>0.000000</td>\n",
       "      <td>0.000000</td>\n",
       "    </tr>\n",
       "    <tr>\n",
       "      <th>4</th>\n",
       "      <td>0.013274</td>\n",
       "      <td>0.017699</td>\n",
       "      <td>0.004425</td>\n",
       "      <td>0.000000</td>\n",
       "      <td>0.000000</td>\n",
       "      <td>0.004425</td>\n",
       "    </tr>\n",
       "    <tr>\n",
       "      <th>5</th>\n",
       "      <td>0.000000</td>\n",
       "      <td>0.004425</td>\n",
       "      <td>0.000000</td>\n",
       "      <td>0.000000</td>\n",
       "      <td>0.000000</td>\n",
       "      <td>0.000000</td>\n",
       "    </tr>\n",
       "    <tr>\n",
       "      <th>6</th>\n",
       "      <td>0.004425</td>\n",
       "      <td>0.000000</td>\n",
       "      <td>0.000000</td>\n",
       "      <td>0.000000</td>\n",
       "      <td>0.000000</td>\n",
       "      <td>0.000000</td>\n",
       "    </tr>\n",
       "    <tr>\n",
       "      <th>9</th>\n",
       "      <td>0.004425</td>\n",
       "      <td>0.000000</td>\n",
       "      <td>0.000000</td>\n",
       "      <td>0.000000</td>\n",
       "      <td>0.000000</td>\n",
       "      <td>0.000000</td>\n",
       "    </tr>\n",
       "    <tr>\n",
       "      <th>10</th>\n",
       "      <td>0.000000</td>\n",
       "      <td>0.004425</td>\n",
       "      <td>0.000000</td>\n",
       "      <td>0.000000</td>\n",
       "      <td>0.000000</td>\n",
       "      <td>0.000000</td>\n",
       "    </tr>\n",
       "  </tbody>\n",
       "</table>\n",
       "</div>"
      ],
      "text/plain": [
       "cafe         0         1         2         3         4         5\n",
       "the                                                             \n",
       "0     0.115044  0.115044  0.283186  0.154867  0.026549  0.026549\n",
       "1     0.017699  0.022124  0.017699  0.000000  0.000000  0.000000\n",
       "2     0.061947  0.044248  0.013274  0.008850  0.000000  0.000000\n",
       "3     0.017699  0.013274  0.004425  0.000000  0.000000  0.000000\n",
       "4     0.013274  0.017699  0.004425  0.000000  0.000000  0.004425\n",
       "5     0.000000  0.004425  0.000000  0.000000  0.000000  0.000000\n",
       "6     0.004425  0.000000  0.000000  0.000000  0.000000  0.000000\n",
       "9     0.004425  0.000000  0.000000  0.000000  0.000000  0.000000\n",
       "10    0.000000  0.004425  0.000000  0.000000  0.000000  0.000000"
      ]
     },
     "execution_count": 30,
     "metadata": {},
     "output_type": "execute_result"
    }
   ],
   "source": [
    "###################Exercice 5.3#########################\n",
    "\n",
    "#1 \n",
    "pan.crosstab(the,cafe,normalize=True)"
   ]
  },
  {
   "cell_type": "code",
   "execution_count": 32,
   "id": "1fff8227-ce35-40be-bf9f-9e888d2c0a44",
   "metadata": {},
   "outputs": [],
   "source": [
    "#2\n",
    "def RegroupeThe(x):\n",
    "    if x==0: return(\"Zero\")\n",
    "#    elif x==1: return(\"Un\")\n",
    "    elif (x>0 and x<3 ): return(\"1 ou 2\")\n",
    "    else: return(\"Plus de 3\")\n",
    "\n",
    "\n",
    "#Pour ne pas se tromper on regarde l'ordre des classes\n",
    "the2=the.apply(RegroupeThe)\n",
    "#verification\n",
    "pan.crosstab(the,the2)\n",
    "\n",
    "\n",
    "def RegroupeCafe(x):\n",
    "    if x<1: return(\"Zero\")\n",
    "#    elif x==1: return(\"Un\")\n",
    "#    elif (x>0 and x<3 ): return(\"1 ou 2\")\n",
    "    else: return(\"Plus de 1\")\n",
    "\n",
    "\n",
    "cafe2=cafe.apply(RegroupeCafe)\n",
    "\n",
    "table=pan.crosstab(the2,cafe2,normalize=True)\n"
   ]
  },
  {
   "cell_type": "code",
   "execution_count": null,
   "id": "2e8c8709-0d0a-4317-912d-e1bcac4800e1",
   "metadata": {},
   "outputs": [],
   "source": [
    "#3\n",
    "help(st.chi2_contingency)\n"
   ]
  },
  {
   "cell_type": "code",
   "execution_count": 35,
   "id": "36c42ee4-7b9d-4c10-b687-399fc645add2",
   "metadata": {},
   "outputs": [
    {
     "data": {
      "text/plain": [
       "Chi2ContingencyResult(statistic=0.08107960854645972, pvalue=0.960270940863781, dof=2, expected_freq=array([[0.1422586 , 0.04358211],\n",
       "       [0.0711293 , 0.02179106],\n",
       "       [0.55209883, 0.1691401 ]]))"
      ]
     },
     "execution_count": 35,
     "metadata": {},
     "output_type": "execute_result"
    }
   ],
   "source": [
    "st.chi2_contingency(table)\n",
    "#(0.08107960854645972,\n",
    " #0.960270940863781,\n",
    " #2,\n",
    " #array([[0.1422586 , 0.04358211],\n",
    " #       [0.0711293 , 0.02179106],\n",
    " #       [0.55209883, 0.1691401 ]]))\n",
    " \n",
    "# La p-valeur est p=0.960270940863781>0.1, on rejette l'hypothèse de dépendance, sans préseomption contre l'hypothèse d'indépendance.\n",
    "#Il n'y a pas de dépendance significative entre consommation de thé et de café."
   ]
  },
  {
   "cell_type": "code",
   "execution_count": null,
   "id": "a1418da7-87b7-4d36-9d65-cd7a4286b137",
   "metadata": {},
   "outputs": [],
   "source": []
  }
 ],
 "metadata": {
  "kernelspec": {
   "display_name": "Python 3 (ipykernel)",
   "language": "python",
   "name": "python3"
  },
  "language_info": {
   "codemirror_mode": {
    "name": "ipython",
    "version": 3
   },
   "file_extension": ".py",
   "mimetype": "text/x-python",
   "name": "python",
   "nbconvert_exporter": "python",
   "pygments_lexer": "ipython3",
   "version": "3.9.13"
  }
 },
 "nbformat": 4,
 "nbformat_minor": 5
}
