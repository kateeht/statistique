{
 "cells": [
  {
   "cell_type": "code",
   "execution_count": 40,
   "id": "91428cd5-1548-4874-9d89-89f4a6738de2",
   "metadata": {},
   "outputs": [],
   "source": [
    "import numpy as np\n",
    "import matplotlib.pyplot as plt\n",
    "import pandas as pan\n",
    "import scipy.stats as st\n",
    "from scipy.stats import bernoulli, binom, geom, poisson\n",
    "import scipy.stats as st\n",
    "from datetime import datetime"
   ]
  },
  {
   "cell_type": "code",
   "execution_count": 41,
   "id": "e87ca1e7-2ba6-4b30-b13e-405cd58edfa2",
   "metadata": {},
   "outputs": [
    {
     "name": "stdout",
     "output_type": "stream",
     "text": [
      "[1. 5. 6. 2. 1. 4. 3. 1. 6. 2. 1. 1. 6. 4. 5. 4. 4. 1. 2. 2. 6. 1. 3. 4.\n",
      " 1. 4. 3. 3. 5. 2. 6. 5. 5. 2. 4. 4. 1. 2. 1. 5. 3. 5. 3. 1. 1. 5. 3. 2.\n",
      " 4. 3. 5. 2. 3. 4. 3. 5. 5. 5. 6. 6. 1. 5. 2. 6. 5. 5. 1. 6. 4. 2. 5. 5.\n",
      " 4. 1. 6. 4. 4. 6. 4. 5. 3. 5. 4. 4. 6. 2. 4. 3. 2. 5. 1. 2. 5. 3. 4. 5.\n",
      " 2. 3. 5. 6. 1. 6. 4. 3. 2. 5. 2. 6. 2. 5. 1. 2. 5. 1. 6. 4. 2. 6. 5. 4.\n",
      " 5. 4. 3. 4. 6. 3. 1. 1. 1. 4. 5. 4. 4. 5. 1. 1. 5. 4. 1. 3. 6. 1. 4. 5.\n",
      " 1. 1. 1. 1. 3. 2. 5. 3. 1. 1. 1. 4. 4. 6. 4. 4. 5. 2. 1. 1. 4. 4. 5. 2.\n",
      " 2. 6. 5. 3. 4. 6. 1. 6. 5. 2. 2. 3. 4. 1. 5. 6. 4. 5. 6. 2. 5. 4. 4. 3.\n",
      " 5. 5. 4. 3. 6. 1. 4. 1. 2. 4. 6. 2. 6. 6. 6. 6. 4. 1. 1. 2. 2. 4. 6. 6.\n",
      " 6. 3. 1. 2. 4. 6. 3. 1. 1. 6. 5. 1. 4. 3. 1. 5. 4. 4. 1. 3. 5. 1. 5. 2.\n",
      " 3. 6. 3. 6. 5. 1. 4. 3. 4. 5. 6. 1. 2. 6. 4. 1. 1. 2. 6. 4. 6. 4. 6. 6.\n",
      " 6. 4. 3. 6. 4. 3. 3. 1. 3. 6. 5. 2. 6. 6. 4. 6. 1. 1. 1. 3. 1. 1. 2. 4.\n",
      " 2. 4. 5. 2. 6. 5. 1. 5. 5. 6. 2. 6. 4. 6. 3. 4. 2. 2. 6. 3. 6. 2. 1. 2.\n",
      " 2. 2. 5. 5. 5. 1. 2. 4. 5. 6. 5. 2. 2. 1. 2. 3. 5. 6. 3. 2. 1. 2. 6. 2.\n",
      " 4. 5. 2. 3. 2. 1. 5. 3. 1. 1. 6. 2. 1. 1. 4. 3. 2. 5. 3. 1. 4. 6. 1. 6.\n",
      " 4. 4. 5. 1. 5. 6. 4. 2. 4. 2. 5. 2. 2. 6. 4. 6. 1. 5. 2. 6. 4. 3. 4. 3.\n",
      " 2. 3. 5. 2. 2. 3. 3. 1. 6. 4. 3. 3. 1. 1. 5. 6. 1. 1. 1. 1. 1. 3. 5. 2.\n",
      " 5. 1. 3. 3. 5. 4. 1. 3. 1. 5. 2. 2. 3. 4. 2. 4. 3. 2. 4. 1. 3. 5. 1. 3.\n",
      " 1. 2. 1. 1. 3. 4. 6. 4. 6. 6. 4. 4. 1. 6. 5. 6. 1. 5. 2. 1. 1. 2. 5. 1.\n",
      " 2. 4. 5. 5. 3. 2. 2. 3. 4. 3. 5. 4. 6. 5. 2. 6. 4. 6. 3. 4. 2. 5. 2. 6.\n",
      " 1. 6. 5. 4. 4. 5. 3. 1. 1. 6. 2. 1. 5. 1. 5. 5. 6. 4. 3. 3. 5. 4. 3. 4.\n",
      " 2. 1. 4. 4. 3. 5. 2. 4. 1. 5. 6. 1. 5. 1. 6. 6. 2. 6. 3. 6. 3. 6. 3. 5.\n",
      " 2. 5. 6. 1. 3. 2. 5. 4. 2. 4. 5. 4. 1. 4. 2. 4. 1. 6. 5. 5. 2. 2. 1. 1.\n",
      " 4. 4. 3. 1. 5. 6. 2. 2. 2. 4. 4. 2. 5. 2. 6. 6. 4. 6. 1. 2. 6. 4. 3. 2.\n",
      " 2. 5. 5. 1. 6. 2. 1. 6. 6. 3. 6. 6. 6. 5. 5. 1. 5. 6. 4. 6. 4. 3. 6. 2.\n",
      " 4. 6. 2. 2. 4. 3. 4. 6. 2. 1. 3. 1. 5. 2. 2. 6. 4. 3. 1. 5. 6. 2. 2. 3.\n",
      " 2. 5. 3. 6. 6. 6. 4. 2. 2. 1. 1. 4. 5. 2. 4. 5. 6. 2. 4. 6. 6. 6. 5. 2.\n",
      " 5. 3. 3. 5. 4. 3. 1. 4. 2. 1. 2. 1. 6. 1. 1. 4. 4. 2. 6. 1. 4. 6. 4. 2.\n",
      " 1. 1. 5. 3. 3. 5. 6. 1. 4. 2. 4. 5. 6. 3. 1. 6. 6. 4. 3. 4. 6. 4. 1. 2.\n",
      " 6. 5. 6. 4. 3. 3. 4. 2. 2. 2. 1. 3. 3. 2. 2. 5. 5. 1. 1. 2. 4. 2. 4. 4.\n",
      " 2. 5. 3. 2. 3. 5. 6. 5. 5. 1. 1. 4. 1. 3. 3. 3. 4. 4. 1. 4. 1. 3. 6. 2.\n",
      " 2. 3. 1. 3. 1. 2. 4. 5. 2. 6. 1. 1. 5. 6. 3. 2. 2. 6. 1. 3. 1. 4. 5. 6.\n",
      " 1. 4. 2. 4. 2. 4. 4. 4. 5. 6. 3. 2. 6. 5. 3. 4. 4. 1. 6. 5. 1. 2. 2. 3.\n",
      " 4. 3. 5. 2. 6. 5. 2. 6. 2. 4. 6. 3. 4. 4. 1. 4. 2. 3. 5. 1. 4. 6. 5. 1.\n",
      " 1. 6. 2. 5. 6. 6. 5. 6. 1. 4. 1. 1. 6. 2. 3. 3. 3. 6. 5. 2. 2. 5. 1. 3.\n",
      " 3. 3. 1. 3. 6. 4. 5. 6. 5. 5. 2. 6. 3. 3. 5. 5. 2. 2. 5. 5. 2. 3. 6. 6.\n",
      " 3. 4. 2. 5. 2. 3. 4. 1. 4. 5. 6. 1. 2. 4. 1. 3. 5. 3. 3. 1. 5. 3. 5. 1.\n",
      " 3. 6. 2. 1. 3. 5. 1. 6. 4. 6. 1. 5. 2. 1. 2. 5. 5. 2. 2. 2. 4. 4. 4. 1.\n",
      " 2. 3. 2. 5. 4. 1. 4. 2. 5. 4. 5. 2. 6. 2. 3. 1. 5. 3. 4. 6. 2. 4. 6. 4.\n",
      " 6. 3. 1. 6. 1. 5. 6. 5. 6. 2. 4. 6. 2. 1. 6. 3. 2. 4. 2. 3. 3. 6. 6. 4.\n",
      " 1. 5. 5. 2. 1. 6. 1. 5. 2. 1. 3. 1. 1. 3. 1. 3. 4. 4. 6. 5. 2. 1. 3. 5.\n",
      " 3. 1. 6. 5. 1. 6. 1. 3. 6. 5. 2. 3. 3. 6. 3. 2.]\n",
      "col_0   freq\n",
      "row_0       \n",
      "1.0    0.180\n",
      "2.0    0.174\n",
      "3.0    0.143\n",
      "4.0    0.171\n",
      "5.0    0.164\n",
      "6.0    0.168\n"
     ]
    }
   ],
   "source": [
    "## \"3.1\n",
    "##1\n",
    "N=1000\n",
    "U=st.uniform.rvs(1,6,size=N)\n",
    "D=np.floor(U)\n",
    "print (D)\n",
    "table = pan.crosstab(D,columns = \"freq\", normalize = True)\n",
    "print(table)"
   ]
  },
  {
   "cell_type": "code",
   "execution_count": 42,
   "id": "85902df2-afd6-49fd-a90e-7eb318a12a51",
   "metadata": {},
   "outputs": [
    {
     "data": {
      "text/plain": [
       "<AxesSubplot:xlabel='row_0'>"
      ]
     },
     "execution_count": 42,
     "metadata": {},
     "output_type": "execute_result"
    },
    {
     "data": {
      "image/png": "[encoded data removed]",
      "text/plain": [
       "<Figure size 432x288 with 1 Axes>"
      ]
     },
     "metadata": {
      "needs_background": "light"
     },
     "output_type": "display_data"
    },
    {
     "data": {
      "image/png": "[encoded data removed]",
      "text/plain": [
       "<Figure size 432x288 with 1 Axes>"
      ]
     },
     "metadata": {
      "needs_background": "light"
     },
     "output_type": "display_data"
    }
   ],
   "source": [
    "##3.1.2\n",
    "plt.bar(table.index, table['freq'], width = 0.1)\n",
    "#autre solution\n",
    "table.plot.bar(width = 0.1)"
   ]
  },
  {
   "cell_type": "code",
   "execution_count": 43,
   "id": "10677a05-4fc6-4f91-8d11-7869f40ed16b",
   "metadata": {},
   "outputs": [
    {
     "data": {
      "text/plain": [
       "<BarContainer object of 6 artists>"
      ]
     },
     "execution_count": 43,
     "metadata": {},
     "output_type": "execute_result"
    },
    {
     "data": {
      "image/png": "[encoded data removed]",
      "text/plain": [
       "<Figure size 432x288 with 1 Axes>"
      ]
     },
     "metadata": {
      "needs_background": "light"
     },
     "output_type": "display_data"
    }
   ],
   "source": [
    "#3.1.3\n",
    "N=100000\n",
    "U=st.uniform.rvs(1,6,size=N)\n",
    "D=np.floor(U)\n",
    "table = pan.crosstab(D,columns = \"freq\", normalize = True)\n",
    "plt.bar(table.index, table['freq'], width = 0.1)\n",
    "#on obtient une meilleure uniformite de dé"
   ]
  },
  {
   "cell_type": "code",
   "execution_count": 44,
   "id": "e37783b9-c504-4603-bdf5-cd5f9b1fd7e2",
   "metadata": {},
   "outputs": [
    {
     "name": "stdout",
     "output_type": "stream",
     "text": [
      "[7. 1. 6. 3. 6. 8. 2. 5. 7. 8. 2. 7. 6. 4. 2. 3. 7. 8. 2. 6. 5. 6. 7. 5.\n",
      " 6. 6. 4. 5. 7. 7. 5. 5. 1. 7. 7. 7. 2. 7. 6. 5. 2. 3. 5. 8. 3. 2. 2. 2.\n",
      " 5. 1. 4. 1. 8. 3. 2. 7. 8. 3. 8. 8. 2. 3. 7. 3. 2. 2. 5. 6. 4. 1. 6. 1.\n",
      " 4. 4. 7. 1. 2. 4. 3. 4. 8. 1. 3. 6. 1. 8. 8. 2. 1. 5. 8. 8. 1. 5. 3. 1.\n",
      " 7. 4. 3. 1. 1. 2. 6. 7. 4. 2. 5. 3. 7. 5. 3. 5. 1. 3. 5. 6. 2. 7. 1. 2.\n",
      " 1. 4. 5. 4. 4. 8. 6. 1. 8. 1. 1. 5. 6. 5. 3. 1. 7. 3. 4. 8. 4. 1. 5. 5.\n",
      " 3. 6. 3. 1. 1. 1. 7. 2. 5. 3. 7. 2. 3. 6. 1. 6. 6. 3. 2. 4. 2. 6. 6. 8.\n",
      " 3. 6. 7. 7. 2. 6. 4. 2. 1. 5. 7. 4. 3. 4. 3. 3. 5. 5. 4. 4. 3. 8. 4. 3.\n",
      " 3. 3. 6. 2. 6. 3. 4. 1. 7. 2. 1. 4. 2. 8. 4. 3. 1. 4. 3. 7. 7. 5. 3. 4.\n",
      " 1. 6. 7. 2. 7. 7. 2. 3. 6. 1. 6. 8. 8. 5. 4. 8. 3. 7. 3. 8. 5. 6. 5. 5.\n",
      " 7. 3. 2. 8. 6. 4. 1. 1. 8. 1. 1. 3. 4. 7. 8. 6. 2. 8. 1. 7. 2. 1. 2. 2.\n",
      " 8. 3. 7. 7. 7. 3. 2. 5. 5. 3. 5. 8. 2. 7. 7. 3. 4. 1. 5. 7. 2. 8. 7. 5.\n",
      " 3. 8. 7. 4. 6. 6. 2. 7. 6. 4. 7. 1. 8. 1. 5. 7. 6. 4. 8. 8. 8. 6. 3. 4.\n",
      " 1. 3. 7. 3. 8. 1. 8. 3. 6. 2. 8. 8. 8. 7. 6. 5. 4. 3. 6. 3. 7. 1. 7. 2.\n",
      " 5. 5. 2. 5. 1. 8. 2. 7. 2. 1. 7. 1. 3. 3. 8. 8. 3. 8. 8. 3. 5. 2. 3. 4.\n",
      " 7. 3. 5. 5. 4. 3. 7. 8. 3. 8. 3. 3. 6. 3. 6. 5. 4. 6. 5. 3. 3. 3. 8. 2.\n",
      " 6. 5. 5. 1. 6. 2. 6. 5. 3. 2. 7. 1. 6. 4. 8. 1. 5. 4. 2. 3. 4. 2. 5. 4.\n",
      " 7. 1. 2. 3. 4. 6. 4. 4. 3. 4. 5. 1. 3. 1. 5. 1. 4. 3. 4. 2. 4. 1. 5. 5.\n",
      " 5. 2. 2. 2. 8. 2. 8. 3. 8. 4. 6. 7. 3. 5. 6. 3. 3. 1. 4. 6. 7. 5. 8. 5.\n",
      " 7. 2. 4. 7. 4. 2. 6. 5. 8. 7. 8. 5. 6. 5. 6. 2. 7. 1. 8. 2. 8. 4. 5. 3.\n",
      " 5. 4. 2. 2. 6. 6. 4. 6. 5. 8. 7. 1. 4. 4. 3. 3. 7. 1. 7. 8. 6. 7. 4. 6.\n",
      " 7. 6. 8. 7. 7. 2. 1. 1. 3. 6. 7. 3. 7. 1. 8. 6. 4. 4. 3. 8. 7. 5. 3. 5.\n",
      " 6. 8. 5. 1. 5. 1. 5. 3. 7. 6. 2. 7. 4. 3. 7. 8. 4. 3. 5. 7. 4. 3. 6. 1.\n",
      " 2. 7. 1. 7. 2. 1. 2. 2. 4. 6. 5. 1. 8. 6. 4. 3. 6. 3. 5. 3. 6. 2. 7. 7.\n",
      " 3. 8. 5. 4. 8. 7. 1. 3. 6. 3. 2. 2. 2. 8. 4. 8. 7. 6. 2. 5. 2. 1. 7. 3.\n",
      " 5. 2. 8. 6. 2. 7. 3. 5. 6. 1. 6. 4. 6. 6. 3. 8. 2. 8. 5. 1. 2. 6. 3. 2.\n",
      " 8. 4. 7. 8. 5. 1. 6. 3. 1. 5. 5. 2. 4. 1. 6. 2. 1. 5. 1. 2. 7. 1. 7. 4.\n",
      " 4. 4. 2. 8. 4. 1. 6. 1. 7. 3. 5. 2. 7. 3. 3. 3. 1. 8. 4. 7. 2. 4. 1. 1.\n",
      " 4. 2. 4. 2. 8. 5. 4. 1. 6. 6. 1. 2. 8. 7. 6. 3. 1. 3. 4. 5. 8. 3. 8. 2.\n",
      " 3. 8. 1. 1. 7. 7. 5. 1. 5. 6. 1. 7. 4. 8. 7. 2. 8. 1. 4. 8. 8. 3. 1. 7.\n",
      " 7. 6. 3. 8. 2. 7. 1. 2. 1. 3. 7. 1. 1. 1. 2. 5. 3. 5. 8. 1. 6. 7. 8. 8.\n",
      " 6. 5. 7. 8. 6. 7. 8. 6. 3. 8. 1. 6. 3. 3. 6. 3. 2. 3. 8. 1. 7. 3. 5. 5.\n",
      " 2. 2. 5. 4. 7. 1. 7. 2. 6. 8. 1. 2. 1. 5. 7. 2. 6. 7. 5. 8. 4. 4. 7. 4.\n",
      " 8. 3. 3. 8. 8. 6. 5. 1. 7. 7. 8. 1. 8. 1. 1. 3. 2. 5. 5. 7. 4. 1. 6. 8.\n",
      " 6. 2. 1. 8. 8. 8. 4. 2. 1. 1. 8. 1. 1. 2. 7. 6. 3. 4. 2. 7. 7. 6. 6. 5.\n",
      " 8. 8. 1. 2. 1. 8. 7. 2. 1. 7. 2. 6. 1. 3. 2. 3. 1. 5. 5. 6. 5. 8. 2. 8.\n",
      " 6. 1. 4. 5. 2. 6. 4. 1. 6. 3. 1. 4. 2. 5. 5. 7. 4. 2. 8. 1. 5. 5. 2. 8.\n",
      " 8. 7. 3. 3. 2. 5. 6. 7. 4. 5. 1. 1. 5. 4. 5. 3. 2. 6. 4. 5. 3. 8. 7. 1.\n",
      " 1. 6. 7. 2. 7. 7. 5. 6. 4. 1. 6. 2. 8. 5. 3. 2. 2. 8. 5. 3. 6. 5. 2. 1.\n",
      " 6. 3. 4. 1. 3. 4. 3. 3. 5. 6. 2. 6. 8. 1. 8. 4. 6. 3. 1. 8. 7. 6. 1. 4.\n",
      " 8. 6. 1. 4. 7. 8. 1. 5. 5. 1. 5. 8. 3. 1. 4. 2. 2. 5. 1. 4. 7. 2. 4. 1.\n",
      " 8. 4. 8. 4. 5. 3. 5. 2. 6. 2. 1. 3. 3. 7. 6. 8.]\n",
      "col_0   freq\n",
      "row_0       \n",
      "1.0    0.139\n",
      "2.0    0.126\n",
      "3.0    0.136\n",
      "4.0    0.109\n",
      "5.0    0.122\n",
      "6.0    0.117\n",
      "7.0    0.126\n",
      "8.0    0.125\n"
     ]
    },
    {
     "data": {
      "text/plain": [
       "<BarContainer object of 8 artists>"
      ]
     },
     "execution_count": 44,
     "metadata": {},
     "output_type": "execute_result"
    },
    {
     "data": {
      "image/png": "[encoded data removed]",
      "text/plain": [
       "<Figure size 432x288 with 1 Axes>"
      ]
     },
     "metadata": {
      "needs_background": "light"
     },
     "output_type": "display_data"
    }
   ],
   "source": [
    "#3.1.4\n",
    "def Dice(f,N):\n",
    "    U= st.uniform.rvs(1,f,size=N)\n",
    "    return np.floor(U)\n",
    "Ntest = 1000\n",
    "D8face = Dice(8,Ntest)\n",
    "print(D8face)\n",
    "tab = pan.crosstab(D8face,columns = \"freq\", normalize = True)\n",
    "print(tab)\n",
    "plt.bar(tab.index, tab['freq'], width = 0.1)"
   ]
  },
  {
   "cell_type": "code",
   "execution_count": 45,
   "id": "5715749e-b449-4156-8544-63f047c5e449",
   "metadata": {},
   "outputs": [
    {
     "data": {
      "image/png": "[encoded data removed]",
      "text/plain": [
       "<Figure size 432x288 with 1 Axes>"
      ]
     },
     "metadata": {
      "needs_background": "light"
     },
     "output_type": "display_data"
    }
   ],
   "source": [
    "##3.3\n",
    "n, p = 10, 0.25\n",
    "ProbasB=binom.pmf(range(n+1),n,p)# probabilites de la distribution binomiale\n",
    "plt.bar(range(n+1),ProbasB,width=0.05)\n",
    "plt.show()"
   ]
  },
  {
   "cell_type": "code",
   "execution_count": 46,
   "id": "13672096-67d7-4d7a-82b1-aeea3a4a5aac",
   "metadata": {},
   "outputs": [
    {
     "data": {
      "text/plain": [
       "Text(0.5, 1.0, 'Diagramme en baton de la loi B(10,0.5)')"
      ]
     },
     "execution_count": 46,
     "metadata": {},
     "output_type": "execute_result"
    },
    {
     "data": {
      "image/png": "[encoded data removed]",
      "text/plain": [
       "<Figure size 432x288 with 1 Axes>"
      ]
     },
     "metadata": {
      "needs_background": "light"
     },
     "output_type": "display_data"
    }
   ],
   "source": [
    "##3.3.1\n",
    "n, p = 10, 0.5\n",
    "plt.bar(range(n+1),binom.pmf(range(n+1),n,p),width=0.1)\n",
    "plt.title(\"Diagramme en baton de la loi B(10,0.5)\")"
   ]
  },
  {
   "cell_type": "code",
   "execution_count": 47,
   "id": "2a55cbea-b04a-481c-afa7-db5032a36173",
   "metadata": {},
   "outputs": [
    {
     "data": {
      "text/plain": [
       "Text(0.5, 1.0, 'Diagramme en baton de la loi B(100,0.25)')"
      ]
     },
     "execution_count": 47,
     "metadata": {},
     "output_type": "execute_result"
    },
    {
     "data": {
      "image/png": "[encoded data removed]",
      "text/plain": [
       "<Figure size 432x288 with 1 Axes>"
      ]
     },
     "metadata": {
      "needs_background": "light"
     },
     "output_type": "display_data"
    }
   ],
   "source": [
    "n, p = 100, 0.25\n",
    "plt.bar(range(51),binom.pmf(range(51),n,p),width=0.4)\n",
    "plt.title(\"Diagramme en baton de la loi B(100,0.25)\")"
   ]
  },
  {
   "cell_type": "code",
   "execution_count": 48,
   "id": "b01427fb-13cb-4d31-88f0-4a9b59f92628",
   "metadata": {},
   "outputs": [
    {
     "data": {
      "text/plain": [
       "Text(0.5, 1.0, 'Diagramme en baton de la loi P(2)')"
      ]
     },
     "execution_count": 48,
     "metadata": {},
     "output_type": "execute_result"
    },
    {
     "data": {
      "image/png": "[encoded data removed]",
      "text/plain": [
       "<Figure size 432x288 with 1 Axes>"
      ]
     },
     "metadata": {
      "needs_background": "light"
     },
     "output_type": "display_data"
    }
   ],
   "source": [
    "n = 10\n",
    "plt.bar(range(n+1),poisson.pmf(range(n+1),2),width=0.2)\n",
    "plt.title(\"Diagramme en baton de la loi P(2)\")"
   ]
  },
  {
   "cell_type": "code",
   "execution_count": 49,
   "id": "bb33f29e-c1d5-4c79-b093-09fb9a31adac",
   "metadata": {},
   "outputs": [
    {
     "data": {
      "text/plain": [
       "Text(0.5, 1.0, 'Diagramme en baton de la loi P(10)')"
      ]
     },
     "execution_count": 49,
     "metadata": {},
     "output_type": "execute_result"
    },
    {
     "data": {
      "image/png": "[encoded data removed]",
      "text/plain": [
       "<Figure size 432x288 with 1 Axes>"
      ]
     },
     "metadata": {
      "needs_background": "light"
     },
     "output_type": "display_data"
    }
   ],
   "source": [
    "n = 20\n",
    "plt.bar(range(n+1),poisson.pmf(range(n+1),10),width=0.2)\n",
    "plt.title(\"Diagramme en baton de la loi P(10)\")"
   ]
  },
  {
   "cell_type": "code",
   "execution_count": 50,
   "id": "84be6cea-30c9-4b45-b04f-a9a11d7e4325",
   "metadata": {},
   "outputs": [
    {
     "data": {
      "text/plain": [
       "Text(0.5, 1.0, 'Diagramme en baton de la loi G(0.75)')"
      ]
     },
     "execution_count": 50,
     "metadata": {},
     "output_type": "execute_result"
    },
    {
     "data": {
      "image/png": "[encoded data removed]",
      "text/plain": [
       "<Figure size 432x288 with 1 Axes>"
      ]
     },
     "metadata": {
      "needs_background": "light"
     },
     "output_type": "display_data"
    }
   ],
   "source": [
    "n = 5\n",
    "plt.ylim((0,1))\n",
    "plt.bar(range(n+1),geom.pmf(range(n+1),0.75),width=0.2)\n",
    "plt.title(\"Diagramme en baton de la loi G(0.75)\")"
   ]
  },
  {
   "cell_type": "code",
   "execution_count": 51,
   "id": "5ee67300-e777-417f-9891-755384fcebe6",
   "metadata": {},
   "outputs": [
    {
     "data": {
      "text/plain": [
       "Text(0.5, 1.0, 'Diagramme en baton de la loi G(0.25)')"
      ]
     },
     "execution_count": 51,
     "metadata": {},
     "output_type": "execute_result"
    },
    {
     "data": {
      "image/png": "[encoded data removed]",
      "text/plain": [
       "<Figure size 432x288 with 1 Axes>"
      ]
     },
     "metadata": {
      "needs_background": "light"
     },
     "output_type": "display_data"
    }
   ],
   "source": [
    "n = 20\n",
    "plt.bar(range(n+1),geom.pmf(range(n+1),0.25),width=0.2)\n",
    "plt.title(\"Diagramme en baton de la loi G(0.25)\")"
   ]
  },
  {
   "cell_type": "code",
   "execution_count": 52,
   "id": "1d475fac-3c77-42b1-9193-267a5249cc57",
   "metadata": {},
   "outputs": [
    {
     "name": "stdout",
     "output_type": "stream",
     "text": [
      "[ 4  6  5  8  5  5  6  6  6  6  6  4  6  5  4  5  6  2  6  5  6  6  4  4\n",
      "  4  6  5  5  5  5  4  6  5  5  7  6  6  5  7  3  4  5  4  8  7  4  2  7\n",
      "  5  5  4  7  6  5  8  5  5  5  6  4  5  5  5  3  4  2  7  4  6  6  4  5\n",
      "  4  5  4  6  7  6  5  7  4  2  5  9  4  5  6  5  5  3  8  5  5  5  1  4\n",
      "  5  4  6  6  7  6  6  4  7  7  5  4  5  3  4  7  6  5  4  6  6  6  4  5\n",
      "  5  4  3  5  3  4  4  5  3  5  4  5  4  5  6  5  4  5  5  4  3  6  4  6\n",
      "  6  6  7  5  5  5  3  7  6  5  6  8  5  5  3  6  4  4  4  8  4  6  5  5\n",
      "  6  6  3  4  6  1  6  5  4  5  5  5  4  4  3  5  7  5  2  6  3  6  5  4\n",
      "  6  6  2  5  5  5  2  4  6  8  6  3  6  5  8  6  3  5  8  4  7  5  6  5\n",
      "  3  3  5  5  4  5  4  5  5  5  7  6  3  4  6  4  6  6  8  3  5  7  6  5\n",
      "  6  6  3  6  5  3  7  5  6  7  6  5  7  3  5  7  4  3  7  4  7  4  4  3\n",
      "  6  5  4  5  5  3  6  4  7  8  7  3  6  5  4  4  5  2  5  5  3  6  6  5\n",
      "  5  7  5  5  5  6  7  3  6  4  5  7  6  4  6  5  4  7  6  4  5  6  7  6\n",
      "  5  3  6  4  4  4  5  7  8  4  7  6  5  5  6  5  6  3  2  3  3  7  6  7\n",
      "  4  3  7  6  5  4  8  8  4  3  6  5  4  5  5  7  7  7  6  6  6  6  6  4\n",
      "  6  5  5  2  6  5  4  2  8  5  6  2  5  4  4  6  5  4  4  5  6  3  5  4\n",
      "  5  6  8  5  7  8  3  6  7  8  6  4  3  6  7  3  7  5  4  4  6  3  6  4\n",
      "  2  3  5  4  6  4  4  4  3  5  8  5  4  4  5  6  8  5  6  3  6  6  5  8\n",
      "  6  6  6  4  4  3  8  5  5  6  7  5  8  4  7  4  5  2  1  5  3  6  6  2\n",
      "  8  6  3  6  5  3  4  5  4  4  6  3  6  5  6  8  4  2  5  6  5  4  6  2\n",
      "  5  5  5 10  3  5  3  6  7  5  3  5  5  5  4  5  7  4  6  7  4  6  3  3\n",
      "  5  4  5  5  7  6  5  5  5  8  4  4  6  5  7  3  3  2  6  9  3  4  6  4\n",
      "  5  3  4  7  6  5  4  5  6  4  5  6  1  6  3  3  6  7  5  7  7  8  5  5\n",
      "  5  5  6  4  5  5  2  5  5  5  6  5  6  4  2  6  7  7  8  6  6  5  7  5\n",
      "  5  5  6  6  7  7  6  7  3  7  6  4  5  8  7  6  5  4  5  4  6  4  4  5\n",
      "  3  7  3  4  5  7  7  5  4  5  7  5  6  3  5  4  6  5  8  2  5  4  3  5\n",
      "  5  5  8  5  5  4  5  6  4  6  7  4  6  3  5  8  5  6  8  7  5  3  1  7\n",
      "  7  5  4  6  4  5  8  3  7  3  4  7  6  7  4  5  8  6  3  5  6  6  7  5\n",
      "  5  6  6  7  5  5  4  2  5  4  4  6  6  6  5  4  6  4  7  2  5  3  5  5\n",
      "  4  8  4  6  6  4  6  6  6  4  3  4  1  4  5  5  6  7  7  4  4  5  6  6\n",
      "  7  4  3  7  6  4  5  6  7  6  5  6  5  8  4  4  4  4  5  5  6  3  7  4\n",
      "  6  2  4  4  6  4  5  5  6  5  4  6  2  4  4  5  6  6  5  2  5  5  5  6\n",
      "  4  4  4  4  2  7  4  4  4  3  3  4  4  6  5  7  4  6  6  3  2  4  6  7\n",
      "  5  5  4  5  5  4  7  4  5  7  7  7  3  4  6  5  3  4  4  2  5  7  6  5\n",
      "  6  6  6  4  6  6  6  6  4  8  6  5  4  7  4  5  4  3  7  5  6  3  3  1\n",
      "  1  2  5  7  6  4  4  5  5  3  4  3  5  5  8  5  7  6  8  3  4  6  4  4\n",
      "  5  5  3  6  4  2  7  7  4  7  6  4  6  7  7  4  5  3  6  7  7  5  4  5\n",
      "  5  4  5  8  5  6  6  4  7  2  2  5  6  5  1  4  7  4  3  5  6  5  3  5\n",
      "  5  7  6  5  6  4  8  6  4  5  1  4  7  7  5  4  5  2  6  7  8  6  7  4\n",
      "  5  8  6  5  5  4  6  3  6  6  5  6  7  5  6  5  4  8  6  3  5  6  4  8\n",
      "  4  7  6  5  4  6  3  5  7  6  8  4  5  6  6  6  6  6  5  8  4  4  6  5\n",
      "  5  5  6  4  6  5  5  7  5  5  5  6  5  4  6  4]\n",
      "col_0   freq\n",
      "row_0       \n",
      "1      0.010\n",
      "2      0.034\n",
      "3      0.090\n",
      "4      0.203\n",
      "5      0.272\n",
      "6      0.228\n",
      "7      0.112\n",
      "8      0.048\n",
      "9      0.002\n",
      "10     0.001\n"
     ]
    },
    {
     "data": {
      "text/plain": [
       "Text(0.5, 1.0, \"Diagramme en baton d'une simulation de la loi B(10,0.5)\")"
      ]
     },
     "execution_count": 52,
     "metadata": {},
     "output_type": "execute_result"
    },
    {
     "data": {
      "image/png": "[encoded data removed]",
      "text/plain": [
       "<Figure size 432x288 with 1 Axes>"
      ]
     },
     "metadata": {
      "needs_background": "light"
     },
     "output_type": "display_data"
    }
   ],
   "source": [
    "###3.3.2\n",
    "n, p = 10, 0.5\n",
    "b = binom.rvs(n,p,size=1000)\n",
    "print(b)\n",
    "tab = pan.crosstab(b,columns = \"freq\", normalize = True)\n",
    "print(tab)\n",
    "plt.bar(tab.index,tab[\"freq\"], width=0.05)\n",
    "x = tab.index\n",
    "plt.plot(x,binom.pmf(x,n,p),'r+')\n",
    "plt.title(\"Diagramme en baton d'une simulation de la loi B(10,0.5)\")\n"
   ]
  },
  {
   "cell_type": "code",
   "execution_count": 53,
   "id": "cd34c8dc-2391-4364-8464-7bcc81f7bfb4",
   "metadata": {},
   "outputs": [
    {
     "name": "stdout",
     "output_type": "stream",
     "text": [
      "[ 4 13 11 ...  9 16  6]\n",
      "col_0     freq\n",
      "row_0         \n",
      "0      0.00006\n",
      "1      0.00059\n",
      "2      0.00216\n",
      "3      0.00787\n",
      "4      0.01919\n",
      "5      0.03757\n",
      "6      0.06436\n",
      "7      0.08880\n",
      "8      0.11246\n",
      "9      0.12414\n",
      "10     0.12458\n",
      "11     0.11359\n",
      "12     0.09461\n",
      "13     0.07339\n",
      "14     0.05363\n",
      "15     0.03478\n",
      "16     0.02161\n",
      "17     0.01241\n",
      "18     0.00707\n",
      "19     0.00371\n",
      "20     0.00174\n",
      "21     0.00092\n",
      "22     0.00035\n",
      "23     0.00030\n",
      "24     0.00008\n",
      "25     0.00001\n",
      "26     0.00001\n",
      "28     0.00001\n"
     ]
    },
    {
     "data": {
      "text/plain": [
       "Text(0.5, 1.0, \"Diagramme en baton d'une simulation de la loi P(10)\")"
      ]
     },
     "execution_count": 53,
     "metadata": {},
     "output_type": "execute_result"
    },
    {
     "data": {
      "image/png": "[encoded data removed]",
      "text/plain": [
       "<Figure size 432x288 with 1 Axes>"
      ]
     },
     "metadata": {
      "needs_background": "light"
     },
     "output_type": "display_data"
    }
   ],
   "source": [
    "mu = 10\n",
    "p = poisson.rvs(mu,size=100000)\n",
    "print(p)\n",
    "tab=pan.crosstab(p,columns = \"freq\", normalize = True)\n",
    "print(tab)\n",
    "plt.bar(tab.index,tab[\"freq\"], width=0.2)\n",
    "x = tab.index\n",
    "plt.title(\"Diagramme en baton d'une simulation de la loi P(10)\")"
   ]
  },
  {
   "cell_type": "code",
   "execution_count": 54,
   "id": "6ac1c5b6-ec2e-43c7-9c57-a83a0dfd297b",
   "metadata": {},
   "outputs": [
    {
     "data": {
      "text/plain": [
       "Text(0.5, 1.0, 'Convergence vers la loi de Poisson')"
      ]
     },
     "execution_count": 54,
     "metadata": {},
     "output_type": "execute_result"
    },
    {
     "data": {
      "image/png": "[encoded data removed]",
      "text/plain": [
       "<Figure size 432x288 with 1 Axes>"
      ]
     },
     "metadata": {
      "needs_background": "light"
     },
     "output_type": "display_data"
    }
   ],
   "source": [
    "n = 25\n",
    "x = np.arange(n+1)\n",
    "plt.bar(x+.6,binom.pmf(x,50,0.2),width=0.3,color=\"green\")\n",
    "plt.bar(x+.3,binom.pmf(x,250,0.04),width=0.,color=\"blue\")\n",
    "plt.bar(x,binom.pmf(x,500,0.02),width=0.3,color=\"red\")\n",
    "plt.plot(x,poisson.pmf(x,10),'o',color=\"black\")\n",
    "plt.title(\"Convergence vers la loi de Poisson\")"
   ]
  },
  {
   "cell_type": "code",
   "execution_count": 55,
   "id": "6fb59e90-c070-429f-ba47-1b008b0cb333",
   "metadata": {},
   "outputs": [
    {
     "data": {
      "text/plain": [
       "Text(0.5, 1.0, 'Fonction de répartition de la loi B(10,0.25)')"
      ]
     },
     "execution_count": 55,
     "metadata": {},
     "output_type": "execute_result"
    },
    {
     "data": {
      "image/png": "[encoded data removed]",
      "text/plain": [
       "<Figure size 432x288 with 1 Axes>"
      ]
     },
     "metadata": {
      "needs_background": "light"
     },
     "output_type": "display_data"
    }
   ],
   "source": [
    "###################Exercice 4#########################\n",
    "\n",
    "# 1\n",
    "n, p = 10, 0.25\n",
    "plt.step(range(n+1), binom.cdf(range(n+1), n, p))\n",
    "plt.title(\"Fonction de répartition de la loi B(10,0.25)\")"
   ]
  },
  {
   "cell_type": "code",
   "execution_count": 56,
   "id": "bd214c9b-f70f-46b6-9535-b384255b65a8",
   "metadata": {},
   "outputs": [
    {
     "data": {
      "text/plain": [
       "Text(0.5, 1.0, 'Fonction cumulative de la loi B(100,0.5)')"
      ]
     },
     "execution_count": 56,
     "metadata": {},
     "output_type": "execute_result"
    },
    {
     "data": {
      "image/png": "[encoded data removed]",
      "text/plain": [
       "<Figure size 432x288 with 1 Axes>"
      ]
     },
     "metadata": {
      "needs_background": "light"
     },
     "output_type": "display_data"
    }
   ],
   "source": [
    "# 2\n",
    "n, p = 100, 0.5\n",
    "plt.step(range(n+1), binom.cdf(range(n+1), n, p))\n",
    "plt.title(\"Fonction cumulative de la loi B(100,0.5)\")"
   ]
  },
  {
   "cell_type": "code",
   "execution_count": 57,
   "id": "287af4a3-352d-4ee4-8d80-71065a7ad70d",
   "metadata": {},
   "outputs": [
    {
     "data": {
      "text/plain": [
       "1.1024325896613618e-10"
      ]
     },
     "execution_count": 57,
     "metadata": {},
     "output_type": "execute_result"
    },
    {
     "data": {
      "image/png": "[encoded data removed]",
      "text/plain": [
       "<Figure size 432x288 with 1 Axes>"
      ]
     },
     "metadata": {
      "needs_background": "light"
     },
     "output_type": "display_data"
    }
   ],
   "source": [
    "n = 15\n",
    "plt.step(range(n+1), poisson.cdf(range(n+1), 3))\n",
    "plt.title(\"Fonction cumulative de la loi P(3)\")\n",
    "\n",
    "binom.cdf(3, 50, 0.2)  # P(X\\leq 3)=0.005656\n",
    "1-binom.cdf(30, 50, 0.2)  # P(X> 30)=1.1024325896613618e-10"
   ]
  },
  {
   "cell_type": "code",
   "execution_count": 58,
   "id": "6960961c-9a6f-4946-964b-0658ce06dd3f",
   "metadata": {},
   "outputs": [
    {
     "data": {
      "text/plain": [
       "5.0"
      ]
     },
     "execution_count": 58,
     "metadata": {},
     "output_type": "execute_result"
    }
   ],
   "source": [
    "###################Exercice 5#########################\n",
    "\n",
    "# 1\n",
    "\n",
    "\n",
    "def r(x, y):\n",
    "    z = np.sqrt(x**2+y**2)\n",
    "    return(z)\n",
    "\n",
    "\n",
    "r(3, 4)\n",
    "# on a défini la norme euclidienne (longueur),\n",
    "# puis on a calculé celle du vecteur (3,4)"
   ]
  },
  {
   "cell_type": "code",
   "execution_count": 59,
   "id": "48906900-31d3-473a-9e7b-d304663045ca",
   "metadata": {},
   "outputs": [
    {
     "data": {
      "text/plain": [
       "[<matplotlib.lines.Line2D at 0x7f55da8254c0>]"
      ]
     },
     "execution_count": 59,
     "metadata": {},
     "output_type": "execute_result"
    },
    {
     "data": {
      "image/png": "[encoded data removed]",
      "text/plain": [
       "<Figure size 432x288 with 1 Axes>"
      ]
     },
     "metadata": {
      "needs_background": "light"
     },
     "output_type": "display_data"
    }
   ],
   "source": [
    "# 2\n",
    "def g(N, p, k):\n",
    "    nf = np.math.factorial(N)\n",
    "    kf = np.math.factorial(k)\n",
    "    nkf = np.math.factorial(N-k)\n",
    "    z = nf/(kf*nkf)*(p**k)*((1-p)**(N-k))\n",
    "    return(z)\n",
    "\n",
    "\n",
    "g(20, 0.5, 10)\n",
    "st.binom.pmf(10, n=20, p=0.5)  # [1] 0.1761971\n",
    "x = range(21)\n",
    "plt.bar(x, height=[g(20, 0.5, k) for k in x], width=0.1)\n",
    "plt.plot(x, st.binom.pmf(x, n=20, p=0.5), '.', color=\"red\")"
   ]
  },
  {
   "cell_type": "code",
   "execution_count": 60,
   "id": "039218c5-2f72-4977-b418-e26da0513e41",
   "metadata": {},
   "outputs": [
    {
     "name": "stdout",
     "output_type": "stream",
     "text": [
      "Valeurs obtenues :\n",
      " s =  166616670000  temps :  6527 \n",
      " s2 =  166616670000 temps :  1768 \n",
      "\n"
     ]
    }
   ],
   "source": [
    "###################Exercice 6#########################\n",
    "# 1\n",
    "N = 10**4\n",
    "t0 = datetime.now().microsecond\n",
    "s = 0\n",
    "for i in range(1, N):\n",
    "    if (i % 2 == 0):\n",
    "        s = s+i**2\n",
    "# Pour tous les entiers pairs (congrus à 0 modulo 2),\n",
    "# on ajoute leur carré, donc on fait la somme des\n",
    "# carrés des entiers pairs entre 1 et N\n",
    "t1 = datetime.now().microsecond\n",
    "t = np.arange(1, N)\n",
    "s2 = np.sum(t[t % 2 == 0]**2)\n",
    "t2 = datetime.now().microsecond\n",
    "print(\"Valeurs obtenues :\\n s = \", s, \" temps : \",\n",
    "      t1-t0, \"\\n s2 = \", s2, \"temps : \", t2-t1, \"\\n\")\n",
    "# Réponse chez moi:\n",
    "# Valeurs obtenues :\n",
    "#  s =  166716670000  temps :   10595 microsecondes\n",
    "# s2 =  166716670000 temps :  1186 microsecondes\n",
    "\n",
    "# On a comparé la vitesse de calcul de la somme\n",
    "# des carrés d'entiers pairs entre 1 et 10000,\n",
    "# soit par une boucle, soit en utilisant les\n",
    "# opérations sur les vecteurs de numpy, et la deuxième\n",
    "# est 10 fois plus rapide..."
   ]
  },
  {
   "cell_type": "code",
   "execution_count": 61,
   "id": "905a755e-1ba2-4d3e-9efa-ff2fbcca4eed",
   "metadata": {},
   "outputs": [
    {
     "name": "stdout",
     "output_type": "stream",
     "text": [
      "Valeurs obtenues :\n",
      " s =  1.2336980501361898  temps :  107901 \n",
      " s2 =  1.2336980501361696 temps :  1777 \n",
      "\n"
     ]
    }
   ],
   "source": [
    "# 2 et 3\n",
    "N = 2*10**5  # 2k+1,k dans 0:99 ou  2k-1, k dans 1:100\n",
    "t0 = datetime.now().microsecond\n",
    "s = 0\n",
    "for i in range(1, N):\n",
    "    if (i % 2 == 1):\n",
    "        s = s+1/i**2\n",
    "t1 = datetime.now().microsecond\n",
    "t = np.arange(100000)\n",
    "s2 = np.sum(1/(2*t+1)**2)\n",
    "t2 = datetime.now().microsecond\n",
    "print(\"Valeurs obtenues :\\n s = \", s, \" temps : \",\n",
    "      t1-t0, \"\\n s2 = \", s2, \"temps : \", t2-t1, \"\\n\")\n",
    "# Valeurs obtenues :\n",
    "# s =  1.2336980501361898  temps :  0:00:00.045075\n",
    "# s2 =  1.2336980501361696 temps :  0:00:00.000537\n",
    "\n",
    "# La deuxième méthode est 100 fois plus rapide !\n",
    "# 3 Bilan: il vaut mieux éviter les boucles en python!!"
   ]
  },
  {
   "cell_type": "code",
   "execution_count": null,
   "id": "bb9b7f11-2bac-47a1-a32b-f9debb56ec12",
   "metadata": {},
   "outputs": [],
   "source": []
  }
 ],
 "metadata": {
  "kernelspec": {
   "display_name": "Python 3 (ipykernel)",
   "language": "python",
   "name": "python3"
  },
  "language_info": {
   "codemirror_mode": {
    "name": "ipython",
    "version": 3
   },
   "file_extension": ".py",
   "mimetype": "text/x-python",
   "name": "python",
   "nbconvert_exporter": "python",
   "pygments_lexer": "ipython3",
   "version": "3.9.13"
  }
 },
 "nbformat": 4,
 "nbformat_minor": 5
}
