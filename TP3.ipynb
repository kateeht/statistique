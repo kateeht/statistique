{
 "cells": [
  {
   "cell_type": "code",
   "execution_count": 1,
   "id": "91428cd5-1548-4874-9d89-89f4a6738de2",
   "metadata": {},
   "outputs": [],
   "source": [
    "import numpy as np\n",
    "import matplotlib.pyplot as plt\n",
    "import pandas as pan\n",
    "import scipy.stats as st\n",
    "from scipy.stats import bernoulli, binom, geom, poisson\n",
    "import scipy.stats as st"
   ]
  },
  {
   "cell_type": "code",
   "execution_count": 3,
   "id": "e87ca1e7-2ba6-4b30-b13e-405cd58edfa2",
   "metadata": {},
   "outputs": [
    {
     "name": "stdout",
     "output_type": "stream",
     "text": [
      "[5. 2. 2. 1. 3. 1. 2. 5. 6. 1. 4. 6. 3. 1. 4. 3. 3. 3. 4. 6. 1. 4. 5. 2.\n",
      " 3. 4. 5. 4. 5. 4. 4. 6. 3. 3. 6. 4. 4. 2. 6. 6. 6. 4. 3. 6. 3. 1. 2. 6.\n",
      " 6. 3. 4. 1. 6. 4. 2. 6. 2. 3. 5. 2. 6. 5. 4. 4. 6. 5. 5. 2. 5. 5. 4. 5.\n",
      " 4. 3. 1. 6. 5. 4. 1. 3. 3. 2. 6. 3. 6. 5. 3. 6. 1. 4. 1. 2. 3. 1. 2. 3.\n",
      " 1. 1. 4. 4. 6. 4. 3. 2. 4. 4. 2. 6. 4. 4. 2. 6. 1. 4. 1. 3. 4. 1. 3. 4.\n",
      " 3. 4. 4. 2. 3. 2. 2. 6. 5. 1. 2. 4. 6. 5. 1. 2. 6. 1. 3. 4. 2. 4. 1. 2.\n",
      " 3. 5. 2. 2. 5. 5. 1. 1. 6. 2. 3. 4. 2. 2. 1. 2. 2. 5. 2. 5. 1. 5. 6. 3.\n",
      " 6. 6. 4. 4. 2. 5. 3. 6. 2. 6. 3. 4. 1. 4. 6. 4. 2. 3. 2. 4. 3. 4. 6. 4.\n",
      " 3. 6. 5. 4. 2. 1. 6. 5. 3. 5. 3. 4. 5. 6. 5. 2. 4. 4. 6. 2. 1. 3. 5. 1.\n",
      " 4. 4. 6. 6. 5. 6. 1. 6. 2. 3. 1. 1. 4. 6. 6. 4. 5. 5. 1. 5. 2. 6. 5. 3.\n",
      " 1. 6. 3. 6. 6. 3. 1. 1. 5. 5. 2. 6. 5. 2. 2. 6. 5. 5. 2. 4. 5. 6. 5. 4.\n",
      " 3. 1. 2. 1. 2. 3. 4. 5. 3. 6. 3. 4. 1. 3. 5. 5. 2. 5. 3. 1. 1. 2. 3. 2.\n",
      " 2. 1. 3. 5. 5. 5. 2. 5. 5. 6. 4. 3. 5. 2. 4. 1. 6. 5. 5. 4. 5. 6. 4. 4.\n",
      " 6. 2. 3. 3. 6. 3. 3. 5. 4. 3. 6. 5. 3. 3. 4. 6. 3. 1. 1. 4. 6. 1. 4. 1.\n",
      " 3. 3. 1. 5. 4. 1. 1. 6. 2. 5. 1. 3. 5. 6. 4. 4. 1. 5. 4. 5. 2. 4. 6. 1.\n",
      " 1. 6. 5. 6. 2. 5. 4. 2. 4. 1. 6. 5. 4. 3. 4. 3. 1. 3. 5. 4. 2. 1. 4. 1.\n",
      " 1. 4. 3. 4. 2. 2. 3. 3. 6. 1. 2. 2. 1. 6. 1. 1. 1. 1. 5. 1. 6. 4. 6. 3.\n",
      " 3. 6. 3. 6. 5. 3. 3. 2. 1. 5. 1. 5. 2. 3. 6. 2. 2. 5. 6. 2. 5. 3. 3. 4.\n",
      " 6. 5. 3. 6. 2. 2. 6. 3. 4. 3. 4. 3. 4. 1. 6. 6. 2. 1. 5. 3. 1. 3. 1. 6.\n",
      " 4. 3. 4. 3. 4. 1. 4. 6. 5. 3. 5. 5. 5. 2. 3. 6. 2. 3. 3. 6. 3. 1. 2. 6.\n",
      " 4. 1. 2. 1. 1. 4. 4. 2. 2. 3. 1. 6. 1. 3. 2. 1. 3. 2. 6. 1. 3. 4. 6. 1.\n",
      " 3. 1. 6. 5. 2. 4. 4. 1. 4. 2. 1. 3. 3. 1. 5. 4. 2. 2. 1. 5. 4. 1. 2. 1.\n",
      " 6. 1. 6. 6. 3. 5. 2. 2. 2. 3. 1. 1. 5. 4. 5. 2. 3. 6. 3. 3. 6. 2. 1. 3.\n",
      " 3. 5. 6. 5. 6. 4. 1. 4. 5. 4. 5. 4. 2. 5. 1. 6. 2. 1. 6. 1. 1. 4. 4. 3.\n",
      " 4. 4. 5. 2. 4. 2. 3. 4. 5. 1. 6. 2. 2. 6. 2. 3. 4. 2. 4. 6. 5. 4. 3. 3.\n",
      " 2. 4. 2. 2. 2. 5. 6. 4. 1. 6. 2. 3. 2. 1. 3. 3. 2. 2. 4. 2. 4. 5. 3. 4.\n",
      " 5. 4. 6. 2. 4. 3. 3. 1. 4. 1. 1. 4. 4. 4. 1. 5. 4. 3. 2. 3. 1. 6. 2. 1.\n",
      " 4. 4. 1. 4. 5. 6. 5. 2. 6. 1. 3. 3. 4. 5. 5. 3. 1. 5. 5. 6. 6. 3. 4. 2.\n",
      " 4. 4. 2. 6. 5. 3. 1. 4. 3. 2. 4. 1. 1. 1. 2. 4. 3. 4. 5. 3. 3. 2. 3. 1.\n",
      " 4. 3. 4. 1. 1. 3. 5. 5. 2. 2. 3. 4. 3. 6. 5. 4. 3. 4. 4. 4. 6. 5. 5. 2.\n",
      " 3. 1. 4. 1. 3. 1. 2. 6. 2. 3. 3. 6. 5. 2. 3. 4. 5. 4. 5. 5. 5. 5. 3. 4.\n",
      " 4. 2. 2. 2. 2. 3. 3. 4. 1. 4. 5. 3. 3. 4. 5. 1. 5. 6. 2. 2. 5. 2. 1. 2.\n",
      " 2. 5. 2. 1. 3. 5. 1. 4. 1. 2. 5. 2. 1. 6. 3. 5. 4. 5. 5. 4. 6. 5. 5. 5.\n",
      " 6. 5. 5. 4. 4. 5. 1. 6. 6. 4. 6. 4. 5. 4. 2. 4. 6. 3. 6. 2. 3. 6. 4. 3.\n",
      " 4. 3. 5. 4. 3. 1. 1. 2. 3. 3. 4. 4. 3. 5. 1. 5. 5. 2. 1. 2. 1. 1. 4. 6.\n",
      " 5. 3. 5. 1. 4. 2. 1. 6. 2. 1. 4. 1. 4. 5. 6. 6. 3. 2. 5. 1. 5. 6. 2. 5.\n",
      " 6. 6. 2. 1. 4. 1. 1. 6. 1. 4. 2. 2. 4. 5. 3. 2. 4. 1. 2. 4. 5. 4. 3. 6.\n",
      " 4. 5. 6. 3. 4. 2. 6. 1. 5. 1. 2. 4. 4. 6. 6. 2. 3. 2. 5. 5. 5. 4. 6. 6.\n",
      " 4. 2. 2. 1. 6. 2. 3. 5. 4. 2. 5. 4. 3. 2. 1. 4. 4. 3. 6. 1. 4. 2. 3. 2.\n",
      " 2. 5. 3. 3. 4. 2. 1. 1. 1. 5. 5. 1. 4. 3. 2. 2. 4. 3. 5. 3. 4. 4. 5. 5.\n",
      " 5. 1. 4. 6. 2. 1. 3. 2. 2. 4. 2. 2. 3. 3. 5. 1. 1. 6. 4. 1. 5. 4. 3. 3.\n",
      " 5. 6. 3. 4. 5. 3. 2. 5. 1. 2. 1. 1. 2. 4. 3. 3.]\n",
      "col_0   freq\n",
      "row_0       \n",
      "1.0    0.161\n",
      "2.0    0.169\n",
      "3.0    0.173\n",
      "4.0    0.193\n",
      "5.0    0.162\n",
      "6.0    0.142\n"
     ]
    }
   ],
   "source": [
    "## \"3.1\n",
    "##1\n",
    "N=1000\n",
    "U=st.uniform.rvs(1,6,size=N)\n",
    "D=np.floor(U)\n",
    "print (D)\n",
    "table = pan.crosstab(D,columns = \"freq\", normalize = True)\n",
    "print(table)"
   ]
  },
  {
   "cell_type": "code",
   "execution_count": 19,
   "id": "85902df2-afd6-49fd-a90e-7eb318a12a51",
   "metadata": {},
   "outputs": [
    {
     "data": {
      "text/plain": [
       "<AxesSubplot:xlabel='row_0'>"
      ]
     },
     "execution_count": 19,
     "metadata": {},
     "output_type": "execute_result"
    },
    {
     "data": {
      "image/png": "[encoded data removed]",
      "text/plain": [
       "<Figure size 432x288 with 1 Axes>"
      ]
     },
     "metadata": {
      "needs_background": "light"
     },
     "output_type": "display_data"
    },
    {
     "data": {
      "image/png": "[encoded data removed]",
      "text/plain": [
       "<Figure size 432x288 with 1 Axes>"
      ]
     },
     "metadata": {
      "needs_background": "light"
     },
     "output_type": "display_data"
    }
   ],
   "source": [
    "##3.1.2\n",
    "plt.bar(table.index, table['freq'], width = 0.1)\n",
    "#autre solution\n",
    "table.plot.bar(width = 0.1)"
   ]
  },
  {
   "cell_type": "code",
   "execution_count": 22,
   "id": "10677a05-4fc6-4f91-8d11-7869f40ed16b",
   "metadata": {},
   "outputs": [
    {
     "data": {
      "text/plain": [
       "<BarContainer object of 6 artists>"
      ]
     },
     "execution_count": 22,
     "metadata": {},
     "output_type": "execute_result"
    },
    {
     "data": {
      "image/png": "[encoded data removed]",
      "text/plain": [
       "<Figure size 432x288 with 1 Axes>"
      ]
     },
     "metadata": {
      "needs_background": "light"
     },
     "output_type": "display_data"
    }
   ],
   "source": [
    "#3.1.3\n",
    "N=100000\n",
    "U=st.uniform.rvs(1,6,size=N)\n",
    "D=np.floor(U)\n",
    "table = pan.crosstab(D,columns = \"freq\", normalize = True)\n",
    "plt.bar(table.index, table['freq'], width = 0.1)\n",
    "#on obtient une meilleure uniformite de dé"
   ]
  },
  {
   "cell_type": "code",
   "execution_count": 26,
   "id": "e37783b9-c504-4603-bdf5-cd5f9b1fd7e2",
   "metadata": {},
   "outputs": [
    {
     "name": "stdout",
     "output_type": "stream",
     "text": [
      "[2. 4. 5. 5. 3. 5. 2. 3. 7. 8. 3. 3. 3. 6. 6. 8. 5. 7. 6. 1. 2. 6. 7. 6.\n",
      " 4. 2. 7. 7. 6. 2. 8. 7. 1. 7. 5. 5. 3. 4. 3. 7. 7. 2. 4. 8. 7. 6. 2. 4.\n",
      " 2. 7. 3. 2. 2. 6. 7. 5. 3. 8. 5. 7. 6. 5. 3. 3. 3. 4. 2. 3. 8. 7. 6. 6.\n",
      " 1. 2. 1. 6. 2. 4. 3. 3. 3. 3. 7. 6. 8. 3. 3. 6. 6. 8. 7. 2. 3. 7. 8. 6.\n",
      " 3. 7. 4. 5. 6. 8. 7. 6. 7. 1. 2. 2. 2. 7. 1. 5. 3. 7. 1. 3. 7. 1. 8. 3.\n",
      " 3. 4. 5. 1. 6. 3. 8. 6. 3. 6. 6. 3. 5. 3. 7. 4. 1. 1. 5. 7. 1. 1. 3. 1.\n",
      " 1. 6. 8. 6. 3. 1. 4. 3. 8. 6. 4. 6. 3. 6. 5. 4. 1. 4. 2. 1. 2. 3. 3. 7.\n",
      " 4. 7. 3. 2. 4. 3. 2. 2. 8. 2. 6. 6. 8. 4. 8. 4. 4. 6. 6. 8. 4. 8. 1. 5.\n",
      " 5. 7. 6. 8. 1. 7. 4. 5. 4. 3. 7. 8. 3. 1. 5. 2. 4. 8. 5. 5. 8. 4. 2. 2.\n",
      " 8. 1. 1. 6. 3. 1. 5. 3. 6. 2. 6. 1. 5. 5. 2. 3. 4. 4. 8. 6. 8. 1. 5. 1.\n",
      " 3. 3. 7. 3. 4. 8. 7. 5. 8. 3. 2. 7. 8. 7. 2. 1. 3. 7. 1. 7. 3. 3. 2. 1.\n",
      " 7. 8. 8. 6. 4. 2. 3. 4. 8. 6. 6. 4. 5. 7. 5. 2. 6. 1. 6. 1. 2. 7. 8. 2.\n",
      " 1. 1. 3. 5. 1. 7. 2. 4. 1. 3. 5. 1. 4. 4. 8. 4. 6. 1. 1. 8. 8. 7. 4. 6.\n",
      " 4. 1. 8. 3. 8. 4. 4. 8. 4. 3. 2. 3. 4. 4. 6. 7. 1. 7. 4. 5. 7. 7. 6. 6.\n",
      " 8. 1. 3. 5. 8. 1. 8. 1. 6. 5. 1. 5. 4. 2. 8. 3. 5. 6. 7. 1. 1. 2. 1. 6.\n",
      " 7. 5. 8. 2. 5. 6. 5. 4. 4. 3. 3. 5. 5. 8. 5. 3. 8. 2. 8. 1. 6. 1. 8. 4.\n",
      " 3. 7. 1. 6. 5. 4. 2. 2. 5. 1. 8. 2. 4. 8. 5. 6. 8. 6. 4. 8. 2. 3. 6. 6.\n",
      " 6. 8. 4. 4. 3. 1. 3. 7. 3. 3. 1. 8. 4. 2. 7. 4. 5. 1. 4. 2. 3. 4. 8. 4.\n",
      " 5. 7. 1. 3. 4. 3. 4. 2. 7. 2. 4. 7. 1. 5. 4. 2. 3. 3. 8. 2. 3. 6. 8. 5.\n",
      " 3. 1. 1. 3. 7. 8. 8. 5. 7. 7. 7. 7. 3. 4. 8. 1. 2. 1. 6. 1. 8. 2. 3. 6.\n",
      " 3. 5. 4. 6. 1. 7. 2. 4. 7. 6. 4. 5. 1. 6. 5. 4. 6. 4. 6. 5. 6. 2. 1. 6.\n",
      " 8. 8. 1. 3. 2. 5. 5. 7. 7. 5. 4. 4. 4. 7. 1. 7. 6. 8. 8. 5. 7. 1. 1. 7.\n",
      " 8. 1. 8. 2. 1. 5. 3. 5. 1. 1. 5. 8. 8. 8. 5. 2. 2. 5. 4. 6. 5. 7. 4. 1.\n",
      " 8. 4. 3. 2. 4. 7. 1. 5. 1. 3. 3. 3. 1. 6. 1. 7. 2. 6. 6. 4. 8. 1. 1. 5.\n",
      " 2. 7. 4. 5. 7. 5. 2. 4. 4. 4. 8. 4. 2. 4. 1. 6. 4. 4. 7. 5. 6. 8. 6. 5.\n",
      " 6. 8. 2. 2. 5. 6. 2. 6. 4. 8. 4. 5. 7. 3. 2. 6. 2. 7. 5. 1. 8. 2. 8. 1.\n",
      " 6. 7. 2. 7. 3. 1. 7. 8. 6. 8. 1. 1. 7. 7. 7. 6. 2. 3. 5. 7. 2. 3. 8. 5.\n",
      " 1. 6. 1. 4. 8. 8. 4. 2. 6. 4. 4. 8. 2. 5. 8. 4. 7. 6. 2. 2. 5. 7. 5. 7.\n",
      " 3. 5. 1. 4. 7. 8. 6. 8. 1. 5. 4. 3. 2. 5. 2. 3. 2. 1. 4. 8. 6. 4. 5. 8.\n",
      " 8. 3. 4. 7. 7. 5. 5. 3. 6. 1. 8. 2. 2. 2. 4. 4. 5. 7. 4. 3. 6. 2. 6. 2.\n",
      " 1. 7. 6. 1. 2. 2. 5. 8. 3. 6. 6. 5. 2. 4. 3. 4. 2. 2. 6. 2. 2. 6. 8. 5.\n",
      " 5. 5. 5. 6. 3. 7. 1. 5. 6. 4. 6. 2. 6. 5. 2. 3. 3. 8. 3. 6. 4. 7. 8. 5.\n",
      " 8. 3. 1. 3. 4. 1. 7. 5. 6. 6. 4. 1. 2. 1. 2. 2. 1. 1. 5. 1. 6. 8. 7. 2.\n",
      " 1. 8. 1. 8. 8. 3. 2. 8. 4. 1. 5. 5. 7. 4. 7. 8. 3. 8. 1. 1. 4. 6. 1. 2.\n",
      " 1. 6. 4. 7. 5. 6. 6. 7. 4. 8. 3. 7. 3. 2. 6. 7. 2. 7. 1. 4. 1. 2. 5. 3.\n",
      " 6. 3. 2. 1. 4. 3. 5. 4. 7. 1. 3. 6. 2. 3. 4. 8. 4. 7. 6. 5. 6. 1. 4. 7.\n",
      " 3. 7. 5. 8. 7. 1. 3. 3. 8. 5. 4. 7. 8. 7. 4. 3. 3. 5. 3. 3. 2. 1. 2. 8.\n",
      " 3. 8. 8. 5. 8. 8. 7. 6. 3. 3. 4. 2. 4. 6. 1. 5. 3. 4. 8. 4. 8. 6. 4. 8.\n",
      " 7. 7. 2. 3. 3. 3. 6. 1. 4. 4. 8. 1. 7. 1. 8. 8. 6. 7. 1. 2. 7. 2. 1. 6.\n",
      " 4. 5. 5. 3. 4. 1. 7. 4. 6. 7. 1. 8. 1. 8. 8. 1. 3. 8. 5. 5. 8. 2. 5. 2.\n",
      " 7. 5. 3. 6. 8. 4. 6. 4. 2. 7. 2. 6. 7. 1. 8. 6. 8. 7. 4. 2. 2. 2. 5. 2.\n",
      " 4. 1. 7. 2. 7. 1. 5. 7. 1. 3. 5. 5. 5. 3. 4. 1.]\n",
      "col_0   freq\n",
      "row_0       \n",
      "1.0    0.131\n",
      "2.0    0.120\n",
      "3.0    0.129\n",
      "4.0    0.131\n",
      "5.0    0.117\n",
      "6.0    0.123\n",
      "7.0    0.122\n",
      "8.0    0.127\n"
     ]
    },
    {
     "data": {
      "text/plain": [
       "<BarContainer object of 8 artists>"
      ]
     },
     "execution_count": 26,
     "metadata": {},
     "output_type": "execute_result"
    },
    {
     "data": {
      "image/png": "[encoded data removed]",
      "text/plain": [
       "<Figure size 432x288 with 1 Axes>"
      ]
     },
     "metadata": {
      "needs_background": "light"
     },
     "output_type": "display_data"
    }
   ],
   "source": [
    "#3.1.4\n",
    "def Dice(f,N):\n",
    "    U= st.uniform.rvs(1,f,size=N)\n",
    "    return np.floor(U)\n",
    "Ntest = 1000\n",
    "D8face = Dice(8,Ntest)\n",
    "print(D8face)\n",
    "tab = pan.crosstab(D8face,columns = \"freq\", normalize = True)\n",
    "print(tab)\n",
    "plt.bar(tab.index, tab['freq'], width = 0.1)"
   ]
  },
  {
   "cell_type": "code",
   "execution_count": 28,
   "id": "5715749e-b449-4156-8544-63f047c5e449",
   "metadata": {},
   "outputs": [
    {
     "data": {
      "image/png": "[encoded data removed]",
      "text/plain": [
       "<Figure size 432x288 with 1 Axes>"
      ]
     },
     "metadata": {
      "needs_background": "light"
     },
     "output_type": "display_data"
    }
   ],
   "source": [
    "##3.3\n",
    "n, p = 10, 0.25\n",
    "ProbasB=binom.pmf(range(n+1),n,p)# probabilites de la distribution binomiale\n",
    "plt.bar(range(n+1),ProbasB,width=0.05)\n",
    "plt.show()"
   ]
  },
  {
   "cell_type": "code",
   "execution_count": 36,
   "id": "13672096-67d7-4d7a-82b1-aeea3a4a5aac",
   "metadata": {},
   "outputs": [
    {
     "data": {
      "text/plain": [
       "Text(0.5, 1.0, 'Diagramme en baton de la loi B(10,0.5)')"
      ]
     },
     "execution_count": 36,
     "metadata": {},
     "output_type": "execute_result"
    },
    {
     "data": {
      "image/png": "[encoded data removed]",
      "text/plain": [
       "<Figure size 432x288 with 1 Axes>"
      ]
     },
     "metadata": {
      "needs_background": "light"
     },
     "output_type": "display_data"
    }
   ],
   "source": [
    "##3.3.1\n",
    "n, p = 10, 0.5\n",
    "plt.bar(range(n+1),binom.pmf(range(n+1),n,p),width=0.1)\n",
    "plt.title(\"Diagramme en baton de la loi B(10,0.5)\")"
   ]
  },
  {
   "cell_type": "code",
   "execution_count": 43,
   "id": "2a55cbea-b04a-481c-afa7-db5032a36173",
   "metadata": {},
   "outputs": [
    {
     "data": {
      "text/plain": [
       "Text(0.5, 1.0, 'Diagramme en baton de la loi B(100,0.25)')"
      ]
     },
     "execution_count": 43,
     "metadata": {},
     "output_type": "execute_result"
    },
    {
     "data": {
      "image/png": "[encoded data removed]",
      "text/plain": [
       "<Figure size 432x288 with 1 Axes>"
      ]
     },
     "metadata": {
      "needs_background": "light"
     },
     "output_type": "display_data"
    }
   ],
   "source": [
    "n, p = 100, 0.25\n",
    "plt.bar(range(51),binom.pmf(range(51),n,p),width=0.4)\n",
    "plt.title(\"Diagramme en baton de la loi B(100,0.25)\")"
   ]
  },
  {
   "cell_type": "code",
   "execution_count": 45,
   "id": "b01427fb-13cb-4d31-88f0-4a9b59f92628",
   "metadata": {},
   "outputs": [
    {
     "data": {
      "text/plain": [
       "Text(0.5, 1.0, 'Diagramme en baton de la loi P(2)')"
      ]
     },
     "execution_count": 45,
     "metadata": {},
     "output_type": "execute_result"
    },
    {
     "data": {
      "image/png": "[encoded data removed]",
      "text/plain": [
       "<Figure size 432x288 with 1 Axes>"
      ]
     },
     "metadata": {
      "needs_background": "light"
     },
     "output_type": "display_data"
    }
   ],
   "source": [
    "n = 10\n",
    "plt.bar(range(n+1),poisson.pmf(range(n+1),2),width=0.2)\n",
    "plt.title(\"Diagramme en baton de la loi P(2)\")"
   ]
  },
  {
   "cell_type": "code",
   "execution_count": 55,
   "id": "bb33f29e-c1d5-4c79-b093-09fb9a31adac",
   "metadata": {},
   "outputs": [
    {
     "data": {
      "text/plain": [
       "Text(0.5, 1.0, 'Diagramme en baton de la loi P(10)')"
      ]
     },
     "execution_count": 55,
     "metadata": {},
     "output_type": "execute_result"
    },
    {
     "data": {
      "image/png": "[encoded data removed]",
      "text/plain": [
       "<Figure size 432x288 with 1 Axes>"
      ]
     },
     "metadata": {
      "needs_background": "light"
     },
     "output_type": "display_data"
    }
   ],
   "source": [
    "n = 20\n",
    "plt.bar(range(n+1),poisson.pmf(range(n+1),10),width=0.2)\n",
    "plt.title(\"Diagramme en baton de la loi P(10)\")"
   ]
  },
  {
   "cell_type": "code",
   "execution_count": 60,
   "id": "84be6cea-30c9-4b45-b04f-a9a11d7e4325",
   "metadata": {},
   "outputs": [
    {
     "data": {
      "text/plain": [
       "Text(0.5, 1.0, 'Diagramme en baton de la loi G(0.75)')"
      ]
     },
     "execution_count": 60,
     "metadata": {},
     "output_type": "execute_result"
    },
    {
     "data": {
      "image/png": "[encoded data removed]",
      "text/plain": [
       "<Figure size 432x288 with 1 Axes>"
      ]
     },
     "metadata": {
      "needs_background": "light"
     },
     "output_type": "display_data"
    }
   ],
   "source": [
    "n = 5\n",
    "plt.ylim((0,1))\n",
    "plt.bar(range(n+1),geom.pmf(range(n+1),0.75),width=0.2)\n",
    "plt.title(\"Diagramme en baton de la loi G(0.75)\")"
   ]
  },
  {
   "cell_type": "code",
   "execution_count": 58,
   "id": "5ee67300-e777-417f-9891-755384fcebe6",
   "metadata": {},
   "outputs": [
    {
     "data": {
      "text/plain": [
       "Text(0.5, 1.0, 'Diagramme en baton de la loi G(0.25)')"
      ]
     },
     "execution_count": 58,
     "metadata": {},
     "output_type": "execute_result"
    },
    {
     "data": {
      "image/png": "[encoded data removed]",
      "text/plain": [
       "<Figure size 432x288 with 1 Axes>"
      ]
     },
     "metadata": {
      "needs_background": "light"
     },
     "output_type": "display_data"
    }
   ],
   "source": [
    "n = 20\n",
    "plt.bar(range(n+1),geom.pmf(range(n+1),0.25),width=0.2)\n",
    "plt.title(\"Diagramme en baton de la loi G(0.25)\")"
   ]
  },
  {
   "cell_type": "code",
   "execution_count": 70,
   "id": "1d475fac-3c77-42b1-9193-267a5249cc57",
   "metadata": {},
   "outputs": [
    {
     "name": "stdout",
     "output_type": "stream",
     "text": [
      "[ 6  3  3  5  4  6  5  4  3  6  5  4  3  6  3  5  3  5  4  5  5  6  7  8\n",
      "  4  6  4  6  7  7  8  5  5  7  5  5  3  4  5  3  8  6  4  5  5  4  8  6\n",
      "  7  5  6  2  6  3  3  4  6  7  4  8  6  5  6  5  2  4  4  3  6  5  5  7\n",
      "  6  5  5  3  6  7  5  7  6  4  7  2  4  2  3  3  8  2  6  3  5  6  8  7\n",
      "  7  7  3  4  5  6  6  4  4  5  3  4  3  4  4  4  3  7  5  4  4  5  3  4\n",
      "  5  8  8  6  5  4  3  8  4  8  8  6  4  4  6  3  4  7  6  6  3  4  3  5\n",
      "  6  6  5  2  7  5  6  6  8  4  5  7  5  5  6  6  5  4  5  4  7  5  6  6\n",
      "  3  7  5  5  6  6  7  6  5  7  8  6  5  4  4  3  5  4  4  4  3  4  4  3\n",
      "  6  4  3  6  5  6  4  5  6  6  7  3  4  2  3  6  4  8  4  3  6  3  4  6\n",
      "  5  3  4  6  5  4  3  6  6  6  7  5  4  4  3  7  6  5  8  8  4  7  6  4\n",
      "  4  6  2  6  4  5  4  6  4  4  5  4  6  1  5  4  5  7  5  6  2  3  8  4\n",
      "  9  6  3  5  4  8  4  7  5  3  4  5  8  6  4  4  5  6  4  5  3  6  5  7\n",
      "  7  6  4  7  5  3  7  7  7  4  5  4  6  6  4  4  3  5  4  3  6  4  3  5\n",
      "  7  6  4  4  8  5  6  6  9  7  4  4  8  4  6  5  5  5  4  5  6  3  5  3\n",
      "  3  4  7  5  3  3  5  5  2  4  4  5  3  5  6  7  4  4  5  5  5  5  5  4\n",
      "  4  5  7  7  5  5  6 10  7  7  6  6  3  6  7  5  3  8  4  7  5  4  7  4\n",
      "  6  1  3  6  5  3  6  7  8  3  4  5  3  4  2  3  5  6  4  5  5  5  4  3\n",
      "  5  7  6  4  4  4  6  6  6  5  1  5  4  5  6  5  6  5  6  5  6  4  6  5\n",
      "  6  3  5  6  4  8  5  5  6  4  4  4  6  4  7  7  5  6  5  3  7  5  8  6\n",
      "  4  7  3  5  7  7  4  6  3  5  5  6  5  4  4  7  6  5  4  7  3  5  5  3\n",
      "  6  6  4  6  5  6  6  5  7  6  2  7  8  6  5  6  5  2  5  4  4  4  5  2\n",
      "  5  2  4  4  6  6  6  4  6  2  5  3  4  2  2  4  3  3  3  5  4  7  6  3\n",
      "  1  6  9  4  5  4  4  5  6  4  5  3  6  4  5  5  5  5  5  3  5  6  5  7\n",
      "  3  7  5  6  4  6  4  4  7  5  6  1  5  6  3  4  5  4  4  3  6  4  5  5\n",
      "  2  6  6  2  4  6  6  8  3  7  5 10  4  6  4  2  6  6  5  6  5  7  4  5\n",
      "  5  6  9  6  6  4  5  6  1  6  2  4  7  5  5  8  5  5  3  8  8  6  4  0\n",
      "  2  6  6  4  4  5  4  6  8  5  4  8  5  3  7  7  6  5  4  2  9  3  4  6\n",
      "  6  3  5  6  7  6  3  2  4  6  7  6  6  5  6  3  5  5  5  6  7  4  9  5\n",
      "  5  4  7  5  6  6  2  6  6  2  1  3  7  3  7  6  4  5  2  1  1  6  8  7\n",
      "  5  6  8  9  5  5  4  7  1  3  3  5  4  5  8  4  5  6  4  3  5  5  7  7\n",
      "  6  6  5  5  6  6  6  5  6  4  5  3  3  6  4  5  8  4  4  4  6  6  4  5\n",
      "  4  7  3  8  7  4  4  4  4  4  5  3  5  4  3  4  4  5  7  5  5  4  4  4\n",
      "  4  4  5  2  6  4  6  2  6  7  7  8  3  8  6  6  2  8  4  6  3  3  3  5\n",
      "  3  5  4  3  5  4  6  4  3  4  6  4  7  5  8  6  7  5  5  3  4  7  6  3\n",
      "  4  6  5  5  4  3  6  5  5  5  4  5  4  1  4  5  4  4  4  6  9  4  8  6\n",
      "  3  5  7  6  4  6  7  3  3  3  6  5  4  4  5  2  4  5  4  7  8  7  8  3\n",
      "  7  5  4  7  5  3  3  3  7  4  1  6  5  7  6  4  5  7  6  6  5  5  7  4\n",
      "  3  2  6  5  6  5  4  4  6  6  4  6  5  8  4  5  8  5  5  6  3  5  5  9\n",
      "  6  6  9  4  6  5  6  3  3  4  4  5  6  6  5  7  4  4  4  7  5  4  3  7\n",
      "  5  4  4  5  7  4  7  6  5  7  6  8  5  4  6  4  4  3  7  5  3  6  8  6\n",
      "  8  6  2  5  2  5  7  7  5  4  5  3  4  8  4  6  2  4  8  7  3  5  3  5\n",
      "  5  6  2  3  6  7  5  8  2  5  6  7  4  8  3  4]\n",
      "col_0   freq\n",
      "row_0       \n",
      "0      0.001\n",
      "1      0.012\n",
      "2      0.038\n",
      "3      0.121\n",
      "4      0.221\n",
      "5      0.229\n",
      "6      0.207\n",
      "7      0.105\n",
      "8      0.054\n",
      "9      0.010\n",
      "10     0.002\n"
     ]
    },
    {
     "data": {
      "text/plain": [
       "Text(0.5, 1.0, \"Diagramme en baton d'une simulation de la loi B(10,0.5)\")"
      ]
     },
     "execution_count": 70,
     "metadata": {},
     "output_type": "execute_result"
    },
    {
     "data": {
      "image/png": "[encoded data removed]",
      "text/plain": [
       "<Figure size 432x288 with 1 Axes>"
      ]
     },
     "metadata": {
      "needs_background": "light"
     },
     "output_type": "display_data"
    }
   ],
   "source": [
    "###3.3.2\n",
    "n, p = 10, 0.5\n",
    "b = binom.rvs(n,p,size=1000)\n",
    "print(b)\n",
    "tab = pan.crosstab(b,columns = \"freq\", normalize = True)\n",
    "print(tab)\n",
    "plt.bar(tab.index,tab[\"freq\"], width=0.05)\n",
    "x = tab.index\n",
    "plt.plot(x,binom.pmf(x,n,p),'r+')\n",
    "plt.title(\"Diagramme en baton d'une simulation de la loi B(10,0.5)\")\n"
   ]
  },
  {
   "cell_type": "code",
   "execution_count": 75,
   "id": "cd34c8dc-2391-4364-8464-7bcc81f7bfb4",
   "metadata": {},
   "outputs": [
    {
     "name": "stdout",
     "output_type": "stream",
     "text": [
      "[ 7 12  6 ...  3 18 10]\n",
      "col_0     freq\n",
      "row_0         \n",
      "0      0.00009\n",
      "1      0.00053\n",
      "2      0.00200\n",
      "3      0.00761\n",
      "4      0.01918\n",
      "5      0.03772\n",
      "6      0.06326\n",
      "7      0.08778\n",
      "8      0.11260\n",
      "9      0.12544\n",
      "10     0.12617\n",
      "11     0.11345\n",
      "12     0.09492\n",
      "13     0.07257\n",
      "14     0.05277\n",
      "15     0.03428\n",
      "16     0.02234\n",
      "17     0.01247\n",
      "18     0.00724\n",
      "19     0.00397\n",
      "20     0.00184\n",
      "21     0.00094\n",
      "22     0.00048\n",
      "23     0.00020\n",
      "24     0.00010\n",
      "25     0.00005\n"
     ]
    },
    {
     "data": {
      "text/plain": [
       "Text(0.5, 1.0, \"Diagramme en baton d'une simulation de la loi P(10)\")"
      ]
     },
     "execution_count": 75,
     "metadata": {},
     "output_type": "execute_result"
    },
    {
     "data": {
      "image/png": "[encoded data removed]",
      "text/plain": [
       "<Figure size 432x288 with 1 Axes>"
      ]
     },
     "metadata": {
      "needs_background": "light"
     },
     "output_type": "display_data"
    }
   ],
   "source": [
    "mu = 10\n",
    "p = poisson.rvs(mu,size=100000)\n",
    "print(p)\n",
    "tab=pan.crosstab(p,columns = \"freq\", normalize = True)\n",
    "print(tab)\n",
    "plt.bar(tab.index,tab[\"freq\"], width=0.2)\n",
    "x = tab.index\n",
    "plt.title(\"Diagramme en baton d'une simulation de la loi P(10)\")"
   ]
  },
  {
   "cell_type": "code",
   "execution_count": 77,
   "id": "6ac1c5b6-ec2e-43c7-9c57-a83a0dfd297b",
   "metadata": {},
   "outputs": [
    {
     "data": {
      "text/plain": [
       "Text(0.5, 1.0, 'Convergence vers la loi de Poisson')"
      ]
     },
     "execution_count": 77,
     "metadata": {},
     "output_type": "execute_result"
    },
    {
     "data": {
      "image/png": "[encoded data removed]",
      "text/plain": [
       "<Figure size 432x288 with 1 Axes>"
      ]
     },
     "metadata": {
      "needs_background": "light"
     },
     "output_type": "display_data"
    }
   ],
   "source": [
    "n = 25\n",
    "x = np.arange(n+1)\n",
    "plt.bar(x+.6,binom.pmf(x,50,0.2),width=0.3,color=\"green\")\n",
    "plt.bar(x+.3,binom.pmf(x,250,0.04),width=0.,color=\"blue\")\n",
    "plt.bar(x,binom.pmf(x,500,0.02),width=0.3,color=\"red\")\n",
    "plt.plot(x,poisson.pmf(x,10),'o',color=\"black\")\n",
    "plt.title(\"Convergence vers la loi de Poisson\")"
   ]
  },
  {
   "cell_type": "code",
   "execution_count": 1,
   "id": "6fb59e90-c070-429f-ba47-1b008b0cb333",
   "metadata": {},
   "outputs": [],
   "source": [
    "import numpy as np \n",
    "import matplotlib.pyplot as plt\n",
    "import scipy.stats as st"
   ]
  },
  {
   "cell_type": "code",
   "execution_count": null,
   "id": "bd214c9b-f70f-46b6-9535-b384255b65a8",
   "metadata": {},
   "outputs": [],
   "source": []
  }
 ],
 "metadata": {
  "kernelspec": {
   "display_name": "Python 3 (ipykernel)",
   "language": "python",
   "name": "python3"
  },
  "language_info": {
   "codemirror_mode": {
    "name": "ipython",
    "version": 3
   },
   "file_extension": ".py",
   "mimetype": "text/x-python",
   "name": "python",
   "nbconvert_exporter": "python",
   "pygments_lexer": "ipython3",
   "version": "3.9.13"
  }
 },
 "nbformat": 4,
 "nbformat_minor": 5
}
