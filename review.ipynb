{
 "cells": [
  {
   "cell_type": "code",
   "execution_count": 7,
   "id": "594b7a2f-adbb-41b5-b7e9-e957daf39c04",
   "metadata": {},
   "outputs": [],
   "source": [
    "import numpy as np\n",
    "import matplotlib.pyplot as plt\n",
    "import scipy.stats as st\n",
    "import pandas as pan\n",
    "import scipy.stats.mstats as ms\n",
    "import statsmodels.api as sm"
   ]
  },
  {
   "cell_type": "code",
   "execution_count": 8,
   "id": "5672fd86-d447-4222-93e0-fc517cc69ade",
   "metadata": {},
   "outputs": [],
   "source": [
    "df=pan.read_csv(\"https://math.univ-lyon1.fr/~dabrowski/nutriage.csv\",sep=\"\\t\")"
   ]
  },
  {
   "cell_type": "code",
   "execution_count": 9,
   "id": "38736d36-d7bd-4939-8c30-9bac57acba10",
   "metadata": {},
   "outputs": [],
   "source": [
    "#1.1\n",
    "#the  cafe : quantitatives discrete\n",
    "#taille, poids, age quantitatives continues\n",
    "#sexe, viande, poisson, matgras : qualitatives (les trois derniÃ¨res ont un ordre \"naturel\",\n",
    "# on dit qu'elles sont ordinales)"
   ]
  },
  {
   "cell_type": "code",
   "execution_count": 10,
   "id": "7fb20ec7-7da9-4612-94f1-1ada89a1d112",
   "metadata": {},
   "outputs": [
    {
     "name": "stdout",
     "output_type": "stream",
     "text": [
      "      sexe  the  cafe  taille  poids  age  viande  poisson  matgras\n",
      "0    Femme    0     0     151     58   72       4        3        6\n",
      "1    Femme    1     1     162     60   68       5        2        4\n",
      "2    Femme    0     4     162     75   78       3        1        4\n",
      "3    Femme    0     0     154     45   91       0        4        2\n",
      "4    Femme    2     1     154     50   65       5        3        2\n",
      "..     ...  ...   ...     ...    ...  ...     ...      ...      ...\n",
      "221  Femme    0     1     160     73   74       4        3        6\n",
      "222  Femme    0     3     163     62   68       4        3        3\n",
      "223  Homme    0     2     170     74   71       4        3        3\n",
      "224  Femme    0     2     154     45   77       4        3        5\n",
      "225  Femme    2     0     159     63   69       3        3        4\n",
      "\n",
      "[226 rows x 9 columns]\n"
     ]
    }
   ],
   "source": [
    "#1.2\n",
    "df['sexe']=df['sexe'].astype('category')\n",
    "df['sexe'].cat.categories=[\"Femme\",\"Homme\"]  #une liste avec les noms voulus pour les caractères de la variable\n",
    "print(df)"
   ]
  },
  {
   "cell_type": "code",
   "execution_count": 15,
   "id": "f708968f-7103-455f-a664-7feb78630de7",
   "metadata": {},
   "outputs": [
    {
     "name": "stdout",
     "output_type": "stream",
     "text": [
      "      sexe  the  cafe  taille  poids  age viande   poisson  matgras\n",
      "0    Femme    0     0     151     58   72      4  2-3/sem.        6\n",
      "1    Femme    1     1     162     60   68      5    1/sem.        4\n",
      "2    Femme    0     4     162     75   78      3   <1/sem.        4\n",
      "3    Femme    0     0     154     45   91      0  4-6/sem.        2\n",
      "4    Femme    2     1     154     50   65      5  2-3/sem.        2\n",
      "..     ...  ...   ...     ...    ...  ...    ...       ...      ...\n",
      "221  Femme    0     1     160     73   74      4  2-3/sem.        6\n",
      "222  Femme    0     3     163     62   68      4  2-3/sem.        3\n",
      "223  Homme    0     2     170     74   71      4  2-3/sem.        3\n",
      "224  Femme    0     2     154     45   77      4  2-3/sem.        5\n",
      "225  Femme    2     0     159     63   69      3  2-3/sem.        4\n",
      "\n",
      "[226 rows x 9 columns]\n"
     ]
    }
   ],
   "source": [
    "#Poisson\n",
    "df['poisson']=df['poisson'].astype('category')\n",
    "df['poisson'].cat.categories\n",
    "\n",
    "freq=[\"jamais\",\"<1/sem.\",\"1/sem.\",\"2-3/sem.\",\"4-6/sem.\",\"1/jour\"] #on crÃ©e une liste avec les noms de niveaux\n",
    "df['poisson'].cat.categories=freq\n",
    "print(df)\n"
   ]
  },
  {
   "cell_type": "code",
   "execution_count": 17,
   "id": "869e499d-897b-42f8-92a5-4c3651d1839f",
   "metadata": {},
   "outputs": [
    {
     "name": "stdout",
     "output_type": "stream",
     "text": [
      "      sexe  the  cafe  taille  poids  age    viande   poisson  matgras\n",
      "0    Femme    0     0     151     58   72  4-6/sem.  2-3/sem.        6\n",
      "1    Femme    1     1     162     60   68    1/jour    1/sem.        4\n",
      "2    Femme    0     4     162     75   78  2-3/sem.   <1/sem.        4\n",
      "3    Femme    0     0     154     45   91    jamais  4-6/sem.        2\n",
      "4    Femme    2     1     154     50   65    1/jour  2-3/sem.        2\n",
      "..     ...  ...   ...     ...    ...  ...       ...       ...      ...\n",
      "221  Femme    0     1     160     73   74  4-6/sem.  2-3/sem.        6\n",
      "222  Femme    0     3     163     62   68  4-6/sem.  2-3/sem.        3\n",
      "223  Homme    0     2     170     74   71  4-6/sem.  2-3/sem.        3\n",
      "224  Femme    0     2     154     45   77  4-6/sem.  2-3/sem.        5\n",
      "225  Femme    2     0     159     63   69  2-3/sem.  2-3/sem.        4\n",
      "\n",
      "[226 rows x 9 columns]\n"
     ]
    }
   ],
   "source": [
    "#viande\n",
    "df['viande']=df['viande'].astype('category')\n",
    "df['viande'].cat.categories=freq\n",
    "print(df)"
   ]
  },
  {
   "cell_type": "code",
   "execution_count": 18,
   "id": "49cf4d9a-3c42-48ad-8d4f-58c818ebe2ee",
   "metadata": {},
   "outputs": [
    {
     "name": "stdout",
     "output_type": "stream",
     "text": [
      "      sexe  the  cafe  taille  poids  age    viande   poisson    matgras\n",
      "0    Femme    0     0     151     58   72  4-6/sem.  2-3/sem.    Melange\n",
      "1    Femme    1     1     162     60   68    1/jour    1/sem.  tournesol\n",
      "2    Femme    0     4     162     75   78  2-3/sem.   <1/sem.  tournesol\n",
      "3    Femme    0     0     154     45   91    jamais  4-6/sem.  margarine\n",
      "4    Femme    2     1     154     50   65    1/jour  2-3/sem.  margarine\n",
      "..     ...  ...   ...     ...    ...  ...       ...       ...        ...\n",
      "221  Femme    0     1     160     73   74  4-6/sem.  2-3/sem.    Melange\n",
      "222  Femme    0     3     163     62   68  4-6/sem.  2-3/sem.   arachide\n",
      "223  Homme    0     2     170     74   71  4-6/sem.  2-3/sem.   arachide\n",
      "224  Femme    0     2     154     45   77  4-6/sem.  2-3/sem.      olive\n",
      "225  Femme    2     0     159     63   69  2-3/sem.  2-3/sem.  tournesol\n",
      "\n",
      "[226 rows x 9 columns]\n"
     ]
    }
   ],
   "source": [
    "#matgras\n",
    "df['matgras']=df['matgras'].astype('category')  \n",
    "ListeMatGras=[\"beurre\",\"margarine\",\"arachide\",\"tournesol\",\"olive\",\"Melange\",\"colza\",\"canard\"]\n",
    "df['matgras'].cat.categories=ListeMatGras\n",
    "print(df)"
   ]
  },
  {
   "cell_type": "code",
   "execution_count": 19,
   "id": "70018384-64da-4ae1-8873-044ccb7c37ff",
   "metadata": {},
   "outputs": [
    {
     "name": "stdout",
     "output_type": "stream",
     "text": [
      "      sexe  the  cafe  taille  poids   age    viande   poisson    matgras\n",
      "0    Femme    0     0   151.0   58.0  72.0  4-6/sem.  2-3/sem.    Melange\n",
      "1    Femme    1     1   162.0   60.0  68.0    1/jour    1/sem.  tournesol\n",
      "2    Femme    0     4   162.0   75.0  78.0  2-3/sem.   <1/sem.  tournesol\n",
      "3    Femme    0     0   154.0   45.0  91.0    jamais  4-6/sem.  margarine\n",
      "4    Femme    2     1   154.0   50.0  65.0    1/jour  2-3/sem.  margarine\n",
      "..     ...  ...   ...     ...    ...   ...       ...       ...        ...\n",
      "221  Femme    0     1   160.0   73.0  74.0  4-6/sem.  2-3/sem.    Melange\n",
      "222  Femme    0     3   163.0   62.0  68.0  4-6/sem.  2-3/sem.   arachide\n",
      "223  Homme    0     2   170.0   74.0  71.0  4-6/sem.  2-3/sem.   arachide\n",
      "224  Femme    0     2   154.0   45.0  77.0  4-6/sem.  2-3/sem.      olive\n",
      "225  Femme    2     0   159.0   63.0  69.0  2-3/sem.  2-3/sem.  tournesol\n",
      "\n",
      "[226 rows x 9 columns]\n"
     ]
    }
   ],
   "source": [
    "#1.3\n",
    "df['taille']=df['taille'].astype('float64')\n",
    "df['poids']=df['poids'].astype('float64')\n",
    "df['age']=df['age'].astype('float64')\n",
    "df['the']=df['the'].astype('int64')\n",
    "df['cafe']=df['cafe'].astype('int64')\n",
    "print(df)"
   ]
  },
  {
   "cell_type": "code",
   "execution_count": 20,
   "id": "9aaf2932-43a4-4d90-87e8-1c8f2cd3b041",
   "metadata": {},
   "outputs": [
    {
     "name": "stdout",
     "output_type": "stream",
     "text": [
      "matgras  beurre  margarine  arachide  tournesol  olive  Melange  colza  canard\n",
      "sexe                                                                          \n",
      "Femme         5         17        32         47     20       18      1       1\n",
      "Homme        10         10        16         21     20        5      0       3\n"
     ]
    }
   ],
   "source": [
    "#2.1\n",
    "table=pan.crosstab(df[\"sexe\"],df[\"matgras\"])\n",
    "print(table)\n",
    "#47 femmes de l'echantillon utilisaient de l'huile de Tournesol"
   ]
  },
  {
   "cell_type": "code",
   "execution_count": 25,
   "id": "7f333aa5-e828-4985-b66e-68d00ca9907e",
   "metadata": {},
   "outputs": [
    {
     "name": "stdout",
     "output_type": "stream",
     "text": [
      "matgras    beurre  margarine  arachide  tournesol     olive   Melange  \\\n",
      "sexe                                                                    \n",
      "Femme    0.022124   0.075221  0.141593   0.207965  0.088496  0.079646   \n",
      "Homme    0.044248   0.044248  0.070796   0.092920  0.088496  0.022124   \n",
      "All      0.066372   0.119469  0.212389   0.300885  0.176991  0.101770   \n",
      "\n",
      "matgras     colza    canard       All  \n",
      "sexe                                   \n",
      "Femme    0.004425  0.004425  0.623894  \n",
      "Homme    0.000000  0.013274  0.376106  \n",
      "All      0.004425  0.017699  1.000000  \n"
     ]
    },
    {
     "data": {
      "text/plain": [
       "0.3008849557522124"
      ]
     },
     "execution_count": 25,
     "metadata": {},
     "output_type": "execute_result"
    }
   ],
   "source": [
    "#2.2\n",
    "tableFreq=pan.crosstab(df[\"sexe\"],df[\"matgras\"], normalize=True,margins=True)\n",
    "print(tableFreq)\n",
    "tableFreq.iloc[2,0:8]\n",
    "tableFreq.iloc[2,3]#le tournesol est consomme par 30.09% des personnes interrogees"
   ]
  },
  {
   "cell_type": "code",
   "execution_count": 26,
   "id": "1ce21851-6e93-4b45-9f2e-ee216cfe7eda",
   "metadata": {},
   "outputs": [
    {
     "data": {
      "text/plain": [
       "([<matplotlib.patches.Wedge at 0x7f8c0b829af0>,\n",
       "  <matplotlib.patches.Wedge at 0x7f8c0b829eb0>,\n",
       "  <matplotlib.patches.Wedge at 0x7f8c0b7d62e0>,\n",
       "  <matplotlib.patches.Wedge at 0x7f8c0b6604f0>,\n",
       "  <matplotlib.patches.Wedge at 0x7f8c0b6609d0>,\n",
       "  <matplotlib.patches.Wedge at 0x7f8c0b660eb0>,\n",
       "  <matplotlib.patches.Wedge at 0x7f8c0ad4d3d0>,\n",
       "  <matplotlib.patches.Wedge at 0x7f8c0ad4d8b0>],\n",
       " [Text(1.076173844573151, 0.22770563510076727, ''),\n",
       "  Text(0.7723925685336014, 0.7832047753136252, ''),\n",
       "  Text(-0.28716180315506146, 1.0618559689565876, ''),\n",
       "  Text(-1.0489608476019545, -0.33118143093807256, ''),\n",
       "  Text(0.25753326586598585, -1.0694281728907273, ''),\n",
       "  Text(0.9862780561670755, -0.48708889940471367, ''),\n",
       "  Text(1.0914026597013786, -0.13725973334068928, ''),\n",
       "  Text(1.0982999808164309, -0.06113225121511388, '')])"
      ]
     },
     "execution_count": 26,
     "metadata": {},
     "output_type": "execute_result"
    },
    {
     "data": {
      "image/png": "[encoded data removed]",
      "text/plain": [
       "<Figure size 432x288 with 1 Axes>"
      ]
     },
     "metadata": {},
     "output_type": "display_data"
    }
   ],
   "source": [
    "#2.3\n",
    "plt.pie(df[\"matgras\"].value_counts(sort=False))"
   ]
  },
  {
   "cell_type": "code",
   "execution_count": 29,
   "id": "93ecc1d4-e670-4479-a9e2-16ab7539344c",
   "metadata": {},
   "outputs": [
    {
     "data": {
      "text/plain": [
       "<BarContainer object of 6 artists>"
      ]
     },
     "execution_count": 29,
     "metadata": {},
     "output_type": "execute_result"
    },
    {
     "data": {
      "image/png": "[encoded data removed]",
      "text/plain": [
       "<Figure size 432x288 with 1 Axes>"
      ]
     },
     "metadata": {
      "needs_background": "light"
     },
     "output_type": "display_data"
    }
   ],
   "source": [
    "#2.4\n",
    "tV = df['viande'].value_counts()/226\n",
    "plt.bar(tV.index,tV)"
   ]
  },
  {
   "cell_type": "code",
   "execution_count": 33,
   "id": "546dbdb8-5c6c-47a2-909e-b3ffc87d4a73",
   "metadata": {},
   "outputs": [
    {
     "data": {
      "text/plain": [
       "[<matplotlib.lines.Line2D at 0x7f8c08759190>]"
      ]
     },
     "execution_count": 33,
     "metadata": {},
     "output_type": "execute_result"
    },
    {
     "data": {
      "image/png": "[encoded data removed]",
      "text/plain": [
       "<Figure size 432x288 with 1 Axes>"
      ]
     },
     "metadata": {
      "needs_background": "light"
     },
     "output_type": "display_data"
    }
   ],
   "source": [
    "#2.5\n",
    "tableViande=pan.crosstab(index=df[\"viande\"],columns=\"Consommation de Viande\",normalize=True)\n",
    "tableViande.plot.bar()\n",
    "plt.plot(tableViande.index,np.cumsum(tableViande),color='b')"
   ]
  },
  {
   "cell_type": "code",
   "execution_count": 41,
   "id": "83ac3ea4-fc67-4f2c-b63a-685315260a04",
   "metadata": {},
   "outputs": [
    {
     "name": "stderr",
     "output_type": "stream",
     "text": [
      "No artists with labels found to put in legend.  Note that artists whose label start with an underscore are ignored when legend() is called with no argument.\n"
     ]
    },
    {
     "data": {
      "text/plain": [
       "<matplotlib.legend.Legend at 0x7f8c086a3b20>"
      ]
     },
     "execution_count": 41,
     "metadata": {},
     "output_type": "execute_result"
    },
    {
     "data": {
      "image/png": "[encoded data removed]",
      "text/plain": [
       "<Figure size 432x288 with 2 Axes>"
      ]
     },
     "metadata": {
      "needs_background": "light"
     },
     "output_type": "display_data"
    }
   ],
   "source": [
    "#2.6\n",
    "tableViande=pan.crosstab(index = df[\"viande\"],columns =\"freq\",normalize=True)\n",
    "l=len(tableViande);x = np.arange(l);w=0.7\n",
    "fig, ax = plt.subplots();ax.set_ylim(0,0.4)\n",
    "ax.bar(x,np.reshape(tableViande.values,l), width=w)\n",
    "ax2=ax.twinx()\n",
    "ax2.set_ylim(0,1)\n",
    "ax2.plot(x,tableViande.cumsum(),color='r')\n",
    "fig.suptitle(\"Diagramme en tuyau d'orgue et fonction de repartition de viande\")\n",
    "ax.set_xticks(x)\n",
    "ax.set_xticklabels(tableViande.index)\n",
    "ax.legend(frameon=False)"
   ]
  },
  {
   "cell_type": "code",
   "execution_count": 45,
   "id": "2d8ace96-b13d-4367-bb8e-8fbfb38fda81",
   "metadata": {},
   "outputs": [
    {
     "data": {
      "text/plain": [
       "<AxesSubplot:xlabel='cafe'>"
      ]
     },
     "execution_count": 45,
     "metadata": {},
     "output_type": "execute_result"
    },
    {
     "data": {
      "image/png": "[encoded data removed]",
      "text/plain": [
       "<Figure size 432x288 with 1 Axes>"
      ]
     },
     "metadata": {
      "needs_background": "light"
     },
     "output_type": "display_data"
    }
   ],
   "source": [
    "##3.1\n",
    "tableCafe=pan.crosstab(index=df[\"cafe\"],columns=\"freq\",normalize=True).cumsum()\n",
    "tableCafe.plot.bar(width=0.05)"
   ]
  },
  {
   "cell_type": "code",
   "execution_count": 46,
   "id": "bafb74d8-6463-4679-ab32-dce80f0c515c",
   "metadata": {},
   "outputs": [
    {
     "data": {
      "text/plain": [
       "[<matplotlib.lines.Line2D at 0x7f8c080849a0>]"
      ]
     },
     "execution_count": 46,
     "metadata": {},
     "output_type": "execute_result"
    },
    {
     "data": {
      "image/png": "[encoded data removed]",
      "text/plain": [
       "<Figure size 432x288 with 1 Axes>"
      ]
     },
     "metadata": {
      "needs_background": "light"
     },
     "output_type": "display_data"
    }
   ],
   "source": [
    "#3.2\n",
    "tableThe=pan.crosstab(index = df[\"the\"],columns=\"freq\",normalize=True).cumsum()\n",
    "\n",
    "xThe = np.array([-1,*(tableThe.index)])#abcisses aux valeurs et -1\n",
    "val=np.reshape(tableThe.values,len(tableThe))#valeurs des frÃ©quences cumulÃ©es\n",
    "\n",
    "figThe, axThe = plt.subplots();\n",
    "axThe.step(xThe,np.array([0,*val]), where='post', color=\"#556b2f\")#trace le diagramme en escalier en ajoutant un point de dÃ©part Ã  valeur 0 "
   ]
  },
  {
   "cell_type": "code",
   "execution_count": 47,
   "id": "d1212881-e468-440a-b86b-3d7a301abd6d",
   "metadata": {},
   "outputs": [
    {
     "data": {
      "image/png": "[encoded data removed]",
      "text/plain": [
       "<Figure size 432x288 with 1 Axes>"
      ]
     },
     "metadata": {
      "needs_background": "light"
     },
     "output_type": "display_data"
    }
   ],
   "source": [
    "#3.3\n",
    "plotPoids=df[\"poids\"].plot.hist(title='Histogramme de poids')\n",
    "plt.show(plotPoids)"
   ]
  },
  {
   "cell_type": "code",
   "execution_count": 50,
   "id": "be87db0c-d565-47c7-abe0-347a799b027f",
   "metadata": {},
   "outputs": [
    {
     "data": {
      "text/plain": [
       "(array([0.03539823, 0.0420354 , 0.06637168, 0.05973451, 0.07300885,\n",
       "        0.05973451, 0.06637168, 0.02212389, 0.01769912, 0.01453856,\n",
       "        0.00663717]),\n",
       " array([65, 67, 69, 71, 73, 75, 77, 79, 81, 83, 90, 92]),\n",
       " <BarContainer object of 11 artists>)"
      ]
     },
     "execution_count": 50,
     "metadata": {},
     "output_type": "execute_result"
    },
    {
     "data": {
      "image/png": "[encoded data removed]",
      "text/plain": [
       "<Figure size 432x288 with 1 Axes>"
      ]
     },
     "metadata": {
      "needs_background": "light"
     },
     "output_type": "display_data"
    }
   ],
   "source": [
    "#3.4\n",
    "figAge, axAge = plt.subplots()\n",
    "axAge.hist(df[\"age\"],[*(65+np.arange(10)*2),90,92],rwidth=0.95,density=True)"
   ]
  },
  {
   "cell_type": "code",
   "execution_count": 54,
   "id": "f258e9ec-6f99-414b-ba3e-1f01fcab16c8",
   "metadata": {},
   "outputs": [
    {
     "data": {
      "text/plain": [
       "Text(0.5, 1.0, 'le poids en fonction de la taille')"
      ]
     },
     "execution_count": 54,
     "metadata": {},
     "output_type": "execute_result"
    },
    {
     "data": {
      "image/png": "[encoded data removed]",
      "text/plain": [
       "<Figure size 432x288 with 1 Axes>"
      ]
     },
     "metadata": {
      "needs_background": "light"
     },
     "output_type": "display_data"
    }
   ],
   "source": [
    "#3.5\n",
    "plt.plot(df[\"taille\"],df[\"poids\"],'b.')\n",
    "plt.ylabel(\"poids\")\n",
    "plt.xlabel(\"taille\")\n",
    "plt.title(\"le poids en fonction de la taille\")"
   ]
  },
  {
   "cell_type": "code",
   "execution_count": 55,
   "id": "a70dd6d8-cb15-47e9-9b2b-aff6010e1bf4",
   "metadata": {},
   "outputs": [
    {
     "data": {
      "image/png": "[encoded data removed]",
      "text/plain": [
       "<Figure size 432x288 with 1 Axes>"
      ]
     },
     "metadata": {
      "needs_background": "light"
     },
     "output_type": "display_data"
    }
   ],
   "source": [
    "#3.6\n",
    "box=df.boxplot(column=['age','poids','taille'])\n",
    "box.set_title('Diagramme Ã  moustache de age, poids et taille')\n",
    "plt.show(box)"
   ]
  },
  {
   "cell_type": "code",
   "execution_count": 56,
   "id": "5a4a64ec-2361-4d08-b386-b4b765e42bd5",
   "metadata": {},
   "outputs": [
    {
     "data": {
      "image/png": "[encoded data removed]",
      "text/plain": [
       "<Figure size 432x288 with 1 Axes>"
      ]
     },
     "metadata": {
      "needs_background": "light"
     },
     "output_type": "display_data"
    }
   ],
   "source": [
    "box2=df.boxplot(column=['the','cafe'])\n",
    "box2.set_title('Diagramme Ã  moustache des consommations de ThÃ© et CafÃ©')\n",
    "plt.show(box2)\n",
    "#La consommation de thÃ© a beaucoup de valeurs extrÃªmes, une Ã©crasante majoritÃ© ne consomme jamais de thÃ© et la presque totalitÃ© au plus 1 ou 2, d'oÃ¹ une trÃ¨s forte assymÃ©trie de la Moustache\n",
    "#La consommation de Cafe est beaucoup typique et similaire Ã  celle des variables continues avec peu de valeurs extrÃªmes.\n",
    "#En tout cas, le diagramme Ã  moustache suffit Ã  montrer que les deux consommations sont qualitativement trÃ¨s diffÃ©rentes."
   ]
  },
  {
   "cell_type": "code",
   "execution_count": 28,
   "id": "63e08ff7-200e-40f4-b4e2-4ed686720975",
   "metadata": {},
   "outputs": [],
   "source": [
    "import numpy as np\n",
    "import matplotlib.pyplot as plt\n",
    "import pandas as pan\n",
    "import scipy.stats.mstats as ms\n",
    "df=pan.read_csv(\"https://math.univ-lyon1.fr/~dabrowski/nutriage.csv\",sep=\"\\t\")\n",
    "Air=pan.read_csv(\"https://math.univ-lyon1.fr/~dabrowski/pollution.csv\",sep=\"\\t\", na_values=\"-\")\n",
    "\n",
    "for nom in df.keys():\n",
    "    globals()[nom] = df[nom]"
   ]
  },
  {
   "cell_type": "code",
   "execution_count": 29,
   "id": "8eaf8d21-1dc9-4833-9236-582c7abb22ed",
   "metadata": {},
   "outputs": [],
   "source": [
    "x=np.array([1,8,5,1])\n",
    "y=np.concatenate(([0],1+2*np.array(range(5))))\n",
    "##autre solution\n",
    "y=np.array([0,1,3,5,7,9])"
   ]
  },
  {
   "cell_type": "code",
   "execution_count": 30,
   "id": "617cfad9-d2e0-437d-8701-d5ad02ea3fea",
   "metadata": {},
   "outputs": [],
   "source": [
    "   #1 \n",
    "#erreur car x et y nâ€™ont pas mÃªme longueur."
   ]
  },
  {
   "cell_type": "code",
   "execution_count": 31,
   "id": "661770f1-3c7c-403c-ac91-eaf536a159d3",
   "metadata": {},
   "outputs": [
    {
     "data": {
      "text/plain": [
       "[<matplotlib.lines.Line2D at 0x7f68505b6730>]"
      ]
     },
     "execution_count": 31,
     "metadata": {},
     "output_type": "execute_result"
    },
    {
     "data": {
      "text/plain": [
       "<Figure size 432x288 with 0 Axes>"
      ]
     },
     "metadata": {},
     "output_type": "display_data"
    },
    {
     "data": {
      "image/png": "[encoded data removed]",
      "text/plain": [
       "<Figure size 432x288 with 1 Axes>"
      ]
     },
     "metadata": {
      "needs_background": "light"
     },
     "output_type": "display_data"
    }
   ],
   "source": [
    "#3.2\n",
    "x=np.concatenate((x,[3,5]))\n",
    "plt.clf()\n",
    "fig,ax=plt.subplots()\n",
    "ax.plot(x,y,'.')\n",
    "plt.plot(x,y,'.')"
   ]
  },
  {
   "cell_type": "code",
   "execution_count": 32,
   "id": "434e316d-18a3-49f7-b360-edf40873ceb0",
   "metadata": {},
   "outputs": [
    {
     "data": {
      "text/plain": [
       "[<matplotlib.lines.Line2D at 0x7f685050aeb0>]"
      ]
     },
     "execution_count": 32,
     "metadata": {},
     "output_type": "execute_result"
    },
    {
     "data": {
      "image/png": "[encoded data removed]",
      "text/plain": [
       "<Figure size 432x288 with 1 Axes>"
      ]
     },
     "metadata": {
      "needs_background": "light"
     },
     "output_type": "display_data"
    }
   ],
   "source": [
    "#3.3\n",
    "fig,ax=plt.subplots()\n",
    "ax.plot(x,y,'.')\n",
    "ax.plot(np.mean(x),np.mean(y),'r+')"
   ]
  },
  {
   "cell_type": "code",
   "execution_count": 33,
   "id": "f7b30bdc-c6fa-4d1c-a6d4-25a3d13570ed",
   "metadata": {},
   "outputs": [
    {
     "name": "stdout",
     "output_type": "stream",
     "text": [
      "La droite de regression est y=-0.04977375565610855 x + 4.357466063348417\n"
     ]
    },
    {
     "data": {
      "text/plain": [
       "Text(0.5, 0.98, 'Droite de regression de y en fonction de x')"
      ]
     },
     "execution_count": 33,
     "metadata": {},
     "output_type": "execute_result"
    },
    {
     "data": {
      "image/png": "[encoded data removed]",
      "text/plain": [
       "<Figure size 432x288 with 1 Axes>"
      ]
     },
     "metadata": {
      "needs_background": "light"
     },
     "output_type": "display_data"
    }
   ],
   "source": [
    "#3.4\n",
    "a,b = ms.linregress(x,y)[:2]\n",
    "print(\"La droite de regression est y=%s x + %s\" %(a,b))\n",
    "fig, ax = plt.subplots()\n",
    "ax.plot(x,y,'.')\n",
    "plt.plot(np.mean(x), np.mean(y), 'r+')\n",
    "ax.axline(xy1=(0,b), slope = a, color='green')\n",
    "fig.suptitle(\"Droite de regression de y en fonction de x\")"
   ]
  },
  {
   "cell_type": "code",
   "execution_count": 34,
   "id": "aa98dafe-facd-4cb8-8d78-6e0adc750736",
   "metadata": {},
   "outputs": [],
   "source": [
    "import numpy as np\n",
    "import matplotlib.pyplot as plt\n",
    "import pandas as pan\n",
    "import scipy.stats as st\n",
    "from scipy.stats import bernoulli, binom, geom, poisson\n",
    "import scipy.stats as st"
   ]
  },
  {
   "cell_type": "code",
   "execution_count": 35,
   "id": "33edc3c5-5fc5-4a6a-a0c7-7da1d6d1fb4c",
   "metadata": {},
   "outputs": [
    {
     "name": "stdout",
     "output_type": "stream",
     "text": [
      "col_0   freq\n",
      "row_0       \n",
      "1.0    0.159\n",
      "2.0    0.181\n",
      "3.0    0.178\n",
      "4.0    0.145\n",
      "5.0    0.175\n",
      "6.0    0.162\n"
     ]
    }
   ],
   "source": [
    "### 3.1\n",
    "N = 1000\n",
    "U = st.uniform.rvs(1,6,size = N)\n",
    "D = np.floor(U)\n",
    "#print(U)\n",
    "tab = pan.crosstab(D,columns = \"freq\",normalize = True)\n",
    "print(tab)"
   ]
  },
  {
   "cell_type": "code",
   "execution_count": 36,
   "id": "5001ba37-c4eb-4057-afb1-b73475553a51",
   "metadata": {},
   "outputs": [
    {
     "data": {
      "text/plain": [
       "<BarContainer object of 6 artists>"
      ]
     },
     "execution_count": 36,
     "metadata": {},
     "output_type": "execute_result"
    },
    {
     "data": {
      "image/png": "[encoded data removed]",
      "text/plain": [
       "<Figure size 432x288 with 1 Axes>"
      ]
     },
     "metadata": {
      "needs_background": "light"
     },
     "output_type": "display_data"
    }
   ],
   "source": [
    "##3.1.2\n",
    "plt.bar(tab.index, tab['freq'], width = 0.1)"
   ]
  },
  {
   "cell_type": "code",
   "execution_count": 37,
   "id": "964c48c1-9120-40f5-9c9d-d0e594804d95",
   "metadata": {},
   "outputs": [
    {
     "data": {
      "text/plain": [
       "<AxesSubplot:xlabel='row_0'>"
      ]
     },
     "execution_count": 37,
     "metadata": {},
     "output_type": "execute_result"
    },
    {
     "data": {
      "image/png": "[encoded data removed]",
      "text/plain": [
       "<Figure size 432x288 with 1 Axes>"
      ]
     },
     "metadata": {
      "needs_background": "light"
     },
     "output_type": "display_data"
    }
   ],
   "source": [
    "tab.plot.bar(width = 0.1)"
   ]
  },
  {
   "cell_type": "code",
   "execution_count": 38,
   "id": "2e094ce6-8d5b-4e34-a047-7504fab4b8e9",
   "metadata": {},
   "outputs": [],
   "source": [
    "#3.1.3 # On obtient une meilleure uniformité du dé."
   ]
  },
  {
   "cell_type": "code",
   "execution_count": 39,
   "id": "236a10f9-1e79-4767-984a-13e7d2802324",
   "metadata": {},
   "outputs": [
    {
     "data": {
      "text/html": [
       "<div>\n",
       "<style scoped>\n",
       "    .dataframe tbody tr th:only-of-type {\n",
       "        vertical-align: middle;\n",
       "    }\n",
       "\n",
       "    .dataframe tbody tr th {\n",
       "        vertical-align: top;\n",
       "    }\n",
       "\n",
       "    .dataframe thead th {\n",
       "        text-align: right;\n",
       "    }\n",
       "</style>\n",
       "<table border=\"1\" class=\"dataframe\">\n",
       "  <thead>\n",
       "    <tr style=\"text-align: right;\">\n",
       "      <th>col_0</th>\n",
       "      <th>freq</th>\n",
       "    </tr>\n",
       "    <tr>\n",
       "      <th>row_0</th>\n",
       "      <th></th>\n",
       "    </tr>\n",
       "  </thead>\n",
       "  <tbody>\n",
       "    <tr>\n",
       "      <th>1.0</th>\n",
       "      <td>0.1185</td>\n",
       "    </tr>\n",
       "    <tr>\n",
       "      <th>2.0</th>\n",
       "      <td>0.1270</td>\n",
       "    </tr>\n",
       "    <tr>\n",
       "      <th>3.0</th>\n",
       "      <td>0.1284</td>\n",
       "    </tr>\n",
       "    <tr>\n",
       "      <th>4.0</th>\n",
       "      <td>0.1192</td>\n",
       "    </tr>\n",
       "    <tr>\n",
       "      <th>5.0</th>\n",
       "      <td>0.1278</td>\n",
       "    </tr>\n",
       "    <tr>\n",
       "      <th>6.0</th>\n",
       "      <td>0.1271</td>\n",
       "    </tr>\n",
       "    <tr>\n",
       "      <th>7.0</th>\n",
       "      <td>0.1259</td>\n",
       "    </tr>\n",
       "    <tr>\n",
       "      <th>8.0</th>\n",
       "      <td>0.1261</td>\n",
       "    </tr>\n",
       "  </tbody>\n",
       "</table>\n",
       "</div>"
      ],
      "text/plain": [
       "col_0    freq\n",
       "row_0        \n",
       "1.0    0.1185\n",
       "2.0    0.1270\n",
       "3.0    0.1284\n",
       "4.0    0.1192\n",
       "5.0    0.1278\n",
       "6.0    0.1271\n",
       "7.0    0.1259\n",
       "8.0    0.1261"
      ]
     },
     "execution_count": 39,
     "metadata": {},
     "output_type": "execute_result"
    }
   ],
   "source": [
    "#3.1.4\n",
    "def Dice(f, N):\n",
    "    U = st.uniform.rvs(1, f, size=N)\n",
    "    D = np.floor(U)\n",
    "    return(D)\n",
    "pan.crosstab(Dice(8,10000),columns = 'freq',normalize=True)"
   ]
  },
  {
   "cell_type": "code",
   "execution_count": 40,
   "id": "2e646867-7d7f-4e1a-bca2-e8f19932c74c",
   "metadata": {},
   "outputs": [
    {
     "data": {
      "image/png": "[encoded data removed]",
      "text/plain": [
       "<Figure size 432x288 with 1 Axes>"
      ]
     },
     "metadata": {
      "needs_background": "light"
     },
     "output_type": "display_data"
    }
   ],
   "source": [
    "##3.3.1\n",
    "n, p = 10, 0.25\n",
    "ProbasB=binom.pmf(range(n+1),n,p)\n",
    "plt.bar(range(n+1),ProbasB,width=0.05)\n",
    "plt.show()"
   ]
  },
  {
   "cell_type": "code",
   "execution_count": 41,
   "id": "58452b1a-b640-4c60-a761-0facfdd63e45",
   "metadata": {},
   "outputs": [
    {
     "data": {
      "text/plain": [
       "<BarContainer object of 11 artists>"
      ]
     },
     "execution_count": 41,
     "metadata": {},
     "output_type": "execute_result"
    },
    {
     "data": {
      "image/png": "[encoded data removed]",
      "text/plain": [
       "<Figure size 432x288 with 1 Axes>"
      ]
     },
     "metadata": {
      "needs_background": "light"
     },
     "output_type": "display_data"
    }
   ],
   "source": [
    "n, p = 10, 0.5\n",
    "plt.bar(range(n+1),binom.pmf(range(n+1),n,p),width=0.1)"
   ]
  },
  {
   "cell_type": "code",
   "execution_count": 42,
   "id": "d1155821-5e4b-4103-88d0-bbbb33a5734d",
   "metadata": {},
   "outputs": [
    {
     "data": {
      "text/plain": [
       "<BarContainer object of 11 artists>"
      ]
     },
     "execution_count": 42,
     "metadata": {},
     "output_type": "execute_result"
    },
    {
     "data": {
      "image/png": "[encoded data removed]",
      "text/plain": [
       "<Figure size 432x288 with 1 Axes>"
      ]
     },
     "metadata": {
      "needs_background": "light"
     },
     "output_type": "display_data"
    }
   ],
   "source": [
    "n = 10\n",
    "plt.bar(range(n+1),poisson.pmf(range(n+1),2),width=0.1)"
   ]
  },
  {
   "cell_type": "code",
   "execution_count": 43,
   "id": "bb921b33-461c-4fd2-b0b8-2e8ca8bece65",
   "metadata": {},
   "outputs": [
    {
     "data": {
      "text/plain": [
       "<BarContainer object of 11 artists>"
      ]
     },
     "execution_count": 43,
     "metadata": {},
     "output_type": "execute_result"
    },
    {
     "data": {
      "image/png": "[encoded data removed]",
      "text/plain": [
       "<Figure size 432x288 with 1 Axes>"
      ]
     },
     "metadata": {
      "needs_background": "light"
     },
     "output_type": "display_data"
    }
   ],
   "source": [
    "n, p = 10, 0.75\n",
    "plt.bar(range(n+1),geom.pmf(range(n+1),p),width=0.1)"
   ]
  },
  {
   "cell_type": "code",
   "execution_count": 44,
   "id": "55b50ba9-d688-4064-a124-3cd7ca403050",
   "metadata": {},
   "outputs": [
    {
     "data": {
      "text/plain": [
       "[<matplotlib.lines.Line2D at 0x7f68501a5d60>]"
      ]
     },
     "execution_count": 44,
     "metadata": {},
     "output_type": "execute_result"
    },
    {
     "data": {
      "image/png": "[encoded data removed]",
      "text/plain": [
       "<Figure size 432x288 with 1 Axes>"
      ]
     },
     "metadata": {
      "needs_background": "light"
     },
     "output_type": "display_data"
    }
   ],
   "source": [
    "###3.3.2\n",
    "n,p = 10, 0.5\n",
    "b = binom.rvs(n,p,size =1000)\n",
    "tab = pan.crosstab(b,columns='freq',normalize=True)\n",
    "plt.bar(tab.index, tab['freq'],width = 0.05)\n",
    "x = tab.index\n",
    "plt.plot(x,binom.pmf(x,n,p),'r+')"
   ]
  },
  {
   "cell_type": "code",
   "execution_count": 45,
   "id": "a6f9fdd0-6e1b-4281-9fb4-c70ebce0aca9",
   "metadata": {},
   "outputs": [
    {
     "data": {
      "image/png": "[encoded data removed]",
      "text/plain": [
       "<Figure size 432x288 with 1 Axes>"
      ]
     },
     "metadata": {
      "needs_background": "light"
     },
     "output_type": "display_data"
    }
   ],
   "source": [
    "mu = 10\n",
    "p = poisson.rvs(mu,size=1000)\n",
    "tab = pan.crosstab(p,columns='freq',normalize=True)\n",
    "plt.bar(tab.index,tab['freq'],width=0.1)\n",
    "x = tab.index"
   ]
  },
  {
   "cell_type": "code",
   "execution_count": 55,
   "id": "5c2b6710-7e74-40e4-bcc3-36ac87a7cf05",
   "metadata": {},
   "outputs": [
    {
     "data": {
      "text/plain": [
       "Text(0.5, 1.0, 'Convergence vers la loi de Poisson')"
      ]
     },
     "execution_count": 55,
     "metadata": {},
     "output_type": "execute_result"
    },
    {
     "data": {
      "image/png": "[encoded data removed]",
      "text/plain": [
       "<Figure size 432x288 with 1 Axes>"
      ]
     },
     "metadata": {
      "needs_background": "light"
     },
     "output_type": "display_data"
    }
   ],
   "source": [
    "n = 25\n",
    "x = np.arange(n+1)\n",
    "plt.bar(x+0.6,binom.pmf(x,50,0.2),width=0.2, color='blue')\n",
    "plt.bar(x+0.3,binom.pmf(x,250,0.04),width=0.2, color='green')\n",
    "plt.bar(x,binom.pmf(x,500,0.02),width=0.2, color='red')\n",
    "plt.plot(x,poisson.pmf(x,10),'o',color=\"black\")\n",
    "plt.title(\"Convergence vers la loi de Poisson\")"
   ]
  },
  {
   "cell_type": "code",
   "execution_count": 61,
   "id": "5c3911fc-2e63-4b05-a8ef-4aac0207d614",
   "metadata": {},
   "outputs": [],
   "source": [
    "import numpy as np; \n",
    "import matplotlib.pyplot as plt; \n",
    "import scipy.stats as st"
   ]
  },
  {
   "cell_type": "code",
   "execution_count": 67,
   "id": "067e621f-ae6a-49a2-8b74-ccb0964ca42f",
   "metadata": {},
   "outputs": [
    {
     "name": "stdout",
     "output_type": "stream",
     "text": [
      "[0 1 1 ... 0 1 0]\n"
     ]
    }
   ],
   "source": [
    "##4.1.1\n",
    "N=2000\n",
    "X=st.binom.rvs(1,0.5,size = N)\n",
    "print(x)"
   ]
  },
  {
   "cell_type": "code",
   "execution_count": 68,
   "id": "b2ba2e82-fee0-4985-85f8-532a2541d786",
   "metadata": {},
   "outputs": [],
   "source": [
    "#4.1.2\n",
    "# Y_n converge vers E(X_1)=p=0.5 avec probabilite 1\n",
    "#(cette convergence est dite presque sure)"
   ]
  },
  {
   "cell_type": "code",
   "execution_count": 73,
   "id": "c3c181ba-cfa8-4c96-a374-6bb60cec645e",
   "metadata": {},
   "outputs": [
    {
     "name": "stdout",
     "output_type": "stream",
     "text": [
      "[1.         1.         0.66666667 ... 0.48248248 0.48274137 0.483     ]\n"
     ]
    }
   ],
   "source": [
    "Y=np.cumsum(X)/(1+np.arange(N))\n",
    "print(y)"
   ]
  },
  {
   "cell_type": "code",
   "execution_count": 75,
   "id": "38cdb784-1427-4606-90c8-e9a4bace0010",
   "metadata": {},
   "outputs": [
    {
     "data": {
      "text/plain": [
       "[<matplotlib.lines.Line2D at 0x7f684cb9eaf0>]"
      ]
     },
     "execution_count": 75,
     "metadata": {},
     "output_type": "execute_result"
    },
    {
     "data": {
      "image/png": "[encoded data removed]",
      "text/plain": [
       "<Figure size 432x288 with 1 Axes>"
      ]
     },
     "metadata": {
      "needs_background": "light"
     },
     "output_type": "display_data"
    }
   ],
   "source": [
    "plt.plot(np.arange(1,N+1),Y)\n",
    "plt.plot(np.arange(1,N+1), np.repeat(0.5,N), color='red')"
   ]
  },
  {
   "cell_type": "code",
   "execution_count": null,
   "id": "07197158-fb67-49b9-9ae1-ce67214b9335",
   "metadata": {},
   "outputs": [],
   "source": []
  }
 ],
 "metadata": {
  "kernelspec": {
   "display_name": "Python 3 (ipykernel)",
   "language": "python",
   "name": "python3"
  },
  "language_info": {
   "codemirror_mode": {
    "name": "ipython",
    "version": 3
   },
   "file_extension": ".py",
   "mimetype": "text/x-python",
   "name": "python",
   "nbconvert_exporter": "python",
   "pygments_lexer": "ipython3",
   "version": "3.9.13"
  }
 },
 "nbformat": 4,
 "nbformat_minor": 5
}
