{
 "cells": [
  {
   "cell_type": "code",
   "execution_count": 4,
   "id": "57647164-9a4e-4817-82ee-514587987565",
   "metadata": {},
   "outputs": [],
   "source": [
    "import numpy as np\n",
    "import matplotlib.pyplot as plt\n",
    "import pandas as pan\n",
    "import scipy.stats.mstats as ms"
   ]
  },
  {
   "cell_type": "code",
   "execution_count": 5,
   "id": "3d803085-9069-46fb-89c5-ea368dbf2661",
   "metadata": {},
   "outputs": [],
   "source": [
    "df=pan.read_csv(\"https://math.univ-lyon1.fr/~dabrowski/nutriage.csv\",sep=\"\\t\")"
   ]
  },
  {
   "cell_type": "code",
   "execution_count": 6,
   "id": "7bdb873a-26d4-4ef2-9127-24c8529aaae9",
   "metadata": {},
   "outputs": [
    {
     "name": "stdout",
     "output_type": "stream",
     "text": [
      "      sexe  the  cafe  taille  poids  age  viande  poisson  matgras\n",
      "0    Femme    0     0     151     58   72       4        3        6\n",
      "1    Femme    1     1     162     60   68       5        2        4\n",
      "2    Femme    0     4     162     75   78       3        1        4\n",
      "3    Femme    0     0     154     45   91       0        4        2\n",
      "4    Femme    2     1     154     50   65       5        3        2\n",
      "..     ...  ...   ...     ...    ...  ...     ...      ...      ...\n",
      "221  Femme    0     1     160     73   74       4        3        6\n",
      "222  Femme    0     3     163     62   68       4        3        3\n",
      "223  Homme    0     2     170     74   71       4        3        3\n",
      "224  Femme    0     2     154     45   77       4        3        5\n",
      "225  Femme    2     0     159     63   69       3        3        4\n",
      "\n",
      "[226 rows x 9 columns]\n"
     ]
    }
   ],
   "source": [
    "df['sexe']=df['sexe'].astype('category')\n",
    "df['sexe'].cat.categories=[\"Femme\",\"Homme\"]  #une liste avec les noms voulus pour les caractères de la variable\n",
    "print(df)"
   ]
  },
  {
   "cell_type": "code",
   "execution_count": null,
   "id": "25119166-59ca-427e-8367-2868e193e35f",
   "metadata": {},
   "outputs": [],
   "source": []
  },
  {
   "cell_type": "code",
   "execution_count": 7,
   "id": "f54bf8f1-5c13-4039-97ac-9354d9a28922",
   "metadata": {},
   "outputs": [
    {
     "name": "stdout",
     "output_type": "stream",
     "text": [
      "      sexe  the  cafe  taille  poids  age                viande  poisson  \\\n",
      "0    Femme    0     0     151     58   72  4/6 fois par semaine        3   \n",
      "1    Femme    1     1     162     60   68        tous les jours        2   \n",
      "2    Femme    0     4     162     75   78  2/3 fois par semaine        1   \n",
      "3    Femme    0     0     154     45   91                Jamais        4   \n",
      "4    Femme    2     1     154     50   65        tous les jours        3   \n",
      "..     ...  ...   ...     ...    ...  ...                   ...      ...   \n",
      "221  Femme    0     1     160     73   74  4/6 fois par semaine        3   \n",
      "222  Femme    0     3     163     62   68  4/6 fois par semaine        3   \n",
      "223  Homme    0     2     170     74   71  4/6 fois par semaine        3   \n",
      "224  Femme    0     2     154     45   77  4/6 fois par semaine        3   \n",
      "225  Femme    2     0     159     63   69  2/3 fois par semaine        3   \n",
      "\n",
      "     matgras  \n",
      "0          6  \n",
      "1          4  \n",
      "2          4  \n",
      "3          2  \n",
      "4          2  \n",
      "..       ...  \n",
      "221        6  \n",
      "222        3  \n",
      "223        3  \n",
      "224        5  \n",
      "225        4  \n",
      "\n",
      "[226 rows x 9 columns]\n"
     ]
    }
   ],
   "source": [
    "df['viande']=df['viande'].astype('category')\n",
    "df['viande'].cat.categories=[\"Jamais\",\"moins d'une fois par semaine\",\"une fois par semaine\", \"2/3 fois par semaine\",\"4/6 fois par semaine\",\"tous les jours\"]\n",
    "print(df)"
   ]
  },
  {
   "cell_type": "code",
   "execution_count": 8,
   "id": "4f83111b-d605-435c-bccb-7c5923548eb3",
   "metadata": {},
   "outputs": [
    {
     "name": "stdout",
     "output_type": "stream",
     "text": [
      "      sexe  the  cafe  taille  poids  age                viande  \\\n",
      "0    Femme    0     0     151     58   72  4/6 fois par semaine   \n",
      "1    Femme    1     1     162     60   68        tous les jours   \n",
      "2    Femme    0     4     162     75   78  2/3 fois par semaine   \n",
      "3    Femme    0     0     154     45   91                Jamais   \n",
      "4    Femme    2     1     154     50   65        tous les jours   \n",
      "..     ...  ...   ...     ...    ...  ...                   ...   \n",
      "221  Femme    0     1     160     73   74  4/6 fois par semaine   \n",
      "222  Femme    0     3     163     62   68  4/6 fois par semaine   \n",
      "223  Homme    0     2     170     74   71  4/6 fois par semaine   \n",
      "224  Femme    0     2     154     45   77  4/6 fois par semaine   \n",
      "225  Femme    2     0     159     63   69  2/3 fois par semaine   \n",
      "\n",
      "                          poisson  matgras  \n",
      "0            2/3 fois par semaine        6  \n",
      "1            une fois par semaine        4  \n",
      "2    moins d'une fois par semaine        4  \n",
      "3            4/6 fois par semaine        2  \n",
      "4            2/3 fois par semaine        2  \n",
      "..                            ...      ...  \n",
      "221          2/3 fois par semaine        6  \n",
      "222          2/3 fois par semaine        3  \n",
      "223          2/3 fois par semaine        3  \n",
      "224          2/3 fois par semaine        5  \n",
      "225          2/3 fois par semaine        4  \n",
      "\n",
      "[226 rows x 9 columns]\n"
     ]
    }
   ],
   "source": [
    "df['poisson']=df['poisson'].astype('category')\n",
    "df['poisson'].cat.categories=[\"Jamais\",\"moins d'une fois par semaine\",\"une fois par semaine\", \"2/3 fois par semaine\",\"4/6 fois par semaine\",\"tous les jours\"]\n",
    "print(df)"
   ]
  },
  {
   "cell_type": "code",
   "execution_count": 9,
   "id": "24b3ca50-e202-477c-b390-ebb264067d39",
   "metadata": {},
   "outputs": [
    {
     "name": "stdout",
     "output_type": "stream",
     "text": [
      "      sexe  the  cafe  taille  poids  age                viande  \\\n",
      "0    Femme    0     0     151     58   72  4/6 fois par semaine   \n",
      "1    Femme    1     1     162     60   68        tous les jours   \n",
      "2    Femme    0     4     162     75   78  2/3 fois par semaine   \n",
      "3    Femme    0     0     154     45   91                Jamais   \n",
      "4    Femme    2     1     154     50   65        tous les jours   \n",
      "..     ...  ...   ...     ...    ...  ...                   ...   \n",
      "221  Femme    0     1     160     73   74  4/6 fois par semaine   \n",
      "222  Femme    0     3     163     62   68  4/6 fois par semaine   \n",
      "223  Homme    0     2     170     74   71  4/6 fois par semaine   \n",
      "224  Femme    0     2     154     45   77  4/6 fois par semaine   \n",
      "225  Femme    2     0     159     63   69  2/3 fois par semaine   \n",
      "\n",
      "                          poisson                       matgras  \n",
      "0            2/3 fois par semaine  Melange d'hulle (type Isio4)  \n",
      "1            une fois par semaine           Huille de tournesol  \n",
      "2    moins d'une fois par semaine           Huille de tournesol  \n",
      "3            4/6 fois par semaine                     Margarine  \n",
      "4            2/3 fois par semaine                     Margarine  \n",
      "..                            ...                           ...  \n",
      "221          2/3 fois par semaine  Melange d'hulle (type Isio4)  \n",
      "222          2/3 fois par semaine          Huille de d'arachide  \n",
      "223          2/3 fois par semaine          Huille de d'arachide  \n",
      "224          2/3 fois par semaine                Huille d'olive  \n",
      "225          2/3 fois par semaine           Huille de tournesol  \n",
      "\n",
      "[226 rows x 9 columns]\n"
     ]
    }
   ],
   "source": [
    "df['matgras']=df['matgras'].astype('category')\n",
    "df['matgras'].cat.categories=[\"Beurre\",\"Margarine\", \"Huille de d'arachide\",\"Huille de tournesol\",\"Huille d'olive\",\"Melange d'hulle (type Isio4)\",\"Huille de colza\",\"Grasse de carnard ou d'oie\"]\n",
    "print(df)"
   ]
  },
  {
   "cell_type": "code",
   "execution_count": 10,
   "id": "725b97ed-8728-48b5-878a-184828d93756",
   "metadata": {},
   "outputs": [
    {
     "name": "stdout",
     "output_type": "stream",
     "text": [
      "      sexe  the  cafe  taille  poids  age                viande  \\\n",
      "0    Femme    0     0   151.0   58.0   72  4/6 fois par semaine   \n",
      "1    Femme    1     1   162.0   60.0   68        tous les jours   \n",
      "2    Femme    0     4   162.0   75.0   78  2/3 fois par semaine   \n",
      "3    Femme    0     0   154.0   45.0   91                Jamais   \n",
      "4    Femme    2     1   154.0   50.0   65        tous les jours   \n",
      "..     ...  ...   ...     ...    ...  ...                   ...   \n",
      "221  Femme    0     1   160.0   73.0   74  4/6 fois par semaine   \n",
      "222  Femme    0     3   163.0   62.0   68  4/6 fois par semaine   \n",
      "223  Homme    0     2   170.0   74.0   71  4/6 fois par semaine   \n",
      "224  Femme    0     2   154.0   45.0   77  4/6 fois par semaine   \n",
      "225  Femme    2     0   159.0   63.0   69  2/3 fois par semaine   \n",
      "\n",
      "                          poisson                       matgras  \n",
      "0            2/3 fois par semaine  Melange d'hulle (type Isio4)  \n",
      "1            une fois par semaine           Huille de tournesol  \n",
      "2    moins d'une fois par semaine           Huille de tournesol  \n",
      "3            4/6 fois par semaine                     Margarine  \n",
      "4            2/3 fois par semaine                     Margarine  \n",
      "..                            ...                           ...  \n",
      "221          2/3 fois par semaine  Melange d'hulle (type Isio4)  \n",
      "222          2/3 fois par semaine          Huille de d'arachide  \n",
      "223          2/3 fois par semaine          Huille de d'arachide  \n",
      "224          2/3 fois par semaine                Huille d'olive  \n",
      "225          2/3 fois par semaine           Huille de tournesol  \n",
      "\n",
      "[226 rows x 9 columns]\n"
     ]
    }
   ],
   "source": [
    "df['the']=df['the'].astype('int64')\n",
    "df['cafe']=df['cafe'].astype('int64')\n",
    "df['age']=df['age'].astype('int64')\n",
    "df['taille']=df['taille'].astype('float64')\n",
    "df['poids']=df['poids'].astype('float64')\n",
    "print (df)"
   ]
  },
  {
   "cell_type": "code",
   "execution_count": 14,
   "id": "2baf38b1-4a81-4928-a298-d6b11aac0768",
   "metadata": {},
   "outputs": [
    {
     "name": "stdout",
     "output_type": "stream",
     "text": [
      "Help on function crosstab in module pandas.core.reshape.pivot:\n",
      "\n",
      "crosstab(index, columns, values=None, rownames=None, colnames=None, aggfunc=None, margins: 'bool' = False, margins_name: 'str' = 'All', dropna: 'bool' = True, normalize=False) -> 'DataFrame'\n",
      "    Compute a simple cross tabulation of two (or more) factors. By default\n",
      "    computes a frequency table of the factors unless an array of values and an\n",
      "    aggregation function are passed.\n",
      "    \n",
      "    Parameters\n",
      "    ----------\n",
      "    index : array-like, Series, or list of arrays/Series\n",
      "        Values to group by in the rows.\n",
      "    columns : array-like, Series, or list of arrays/Series\n",
      "        Values to group by in the columns.\n",
      "    values : array-like, optional\n",
      "        Array of values to aggregate according to the factors.\n",
      "        Requires `aggfunc` be specified.\n",
      "    rownames : sequence, default None\n",
      "        If passed, must match number of row arrays passed.\n",
      "    colnames : sequence, default None\n",
      "        If passed, must match number of column arrays passed.\n",
      "    aggfunc : function, optional\n",
      "        If specified, requires `values` be specified as well.\n",
      "    margins : bool, default False\n",
      "        Add row/column margins (subtotals).\n",
      "    margins_name : str, default 'All'\n",
      "        Name of the row/column that will contain the totals\n",
      "        when margins is True.\n",
      "    dropna : bool, default True\n",
      "        Do not include columns whose entries are all NaN.\n",
      "    normalize : bool, {'all', 'index', 'columns'}, or {0,1}, default False\n",
      "        Normalize by dividing all values by the sum of values.\n",
      "    \n",
      "        - If passed 'all' or `True`, will normalize over all values.\n",
      "        - If passed 'index' will normalize over each row.\n",
      "        - If passed 'columns' will normalize over each column.\n",
      "        - If margins is `True`, will also normalize margin values.\n",
      "    \n",
      "    Returns\n",
      "    -------\n",
      "    DataFrame\n",
      "        Cross tabulation of the data.\n",
      "    \n",
      "    See Also\n",
      "    --------\n",
      "    DataFrame.pivot : Reshape data based on column values.\n",
      "    pivot_table : Create a pivot table as a DataFrame.\n",
      "    \n",
      "    Notes\n",
      "    -----\n",
      "    Any Series passed will have their name attributes used unless row or column\n",
      "    names for the cross-tabulation are specified.\n",
      "    \n",
      "    Any input passed containing Categorical data will have **all** of its\n",
      "    categories included in the cross-tabulation, even if the actual data does\n",
      "    not contain any instances of a particular category.\n",
      "    \n",
      "    In the event that there aren't overlapping indexes an empty DataFrame will\n",
      "    be returned.\n",
      "    \n",
      "    Reference :ref:`the user guide <reshaping.crosstabulations>` for more examples.\n",
      "    \n",
      "    Examples\n",
      "    --------\n",
      "    >>> a = np.array([\"foo\", \"foo\", \"foo\", \"foo\", \"bar\", \"bar\",\n",
      "    ...               \"bar\", \"bar\", \"foo\", \"foo\", \"foo\"], dtype=object)\n",
      "    >>> b = np.array([\"one\", \"one\", \"one\", \"two\", \"one\", \"one\",\n",
      "    ...               \"one\", \"two\", \"two\", \"two\", \"one\"], dtype=object)\n",
      "    >>> c = np.array([\"dull\", \"dull\", \"shiny\", \"dull\", \"dull\", \"shiny\",\n",
      "    ...               \"shiny\", \"dull\", \"shiny\", \"shiny\", \"shiny\"],\n",
      "    ...              dtype=object)\n",
      "    >>> pd.crosstab(a, [b, c], rownames=['a'], colnames=['b', 'c'])\n",
      "    b   one        two\n",
      "    c   dull shiny dull shiny\n",
      "    a\n",
      "    bar    1     2    1     0\n",
      "    foo    2     2    1     2\n",
      "    \n",
      "    Here 'c' and 'f' are not represented in the data and will not be\n",
      "    shown in the output because dropna is True by default. Set\n",
      "    dropna=False to preserve categories with no data.\n",
      "    \n",
      "    >>> foo = pd.Categorical(['a', 'b'], categories=['a', 'b', 'c'])\n",
      "    >>> bar = pd.Categorical(['d', 'e'], categories=['d', 'e', 'f'])\n",
      "    >>> pd.crosstab(foo, bar)\n",
      "    col_0  d  e\n",
      "    row_0\n",
      "    a      1  0\n",
      "    b      0  1\n",
      "    >>> pd.crosstab(foo, bar, dropna=False)\n",
      "    col_0  d  e  f\n",
      "    row_0\n",
      "    a      1  0  0\n",
      "    b      0  1  0\n",
      "    c      0  0  0\n",
      "\n"
     ]
    }
   ],
   "source": [
    "help(pan.crosstab)"
   ]
  },
  {
   "cell_type": "code",
   "execution_count": 15,
   "id": "5ccfda6b-0039-4b41-adbc-64b599084853",
   "metadata": {},
   "outputs": [
    {
     "data": {
      "text/html": [
       "<div>\n",
       "<style scoped>\n",
       "    .dataframe tbody tr th:only-of-type {\n",
       "        vertical-align: middle;\n",
       "    }\n",
       "\n",
       "    .dataframe tbody tr th {\n",
       "        vertical-align: top;\n",
       "    }\n",
       "\n",
       "    .dataframe thead th {\n",
       "        text-align: right;\n",
       "    }\n",
       "</style>\n",
       "<table border=\"1\" class=\"dataframe\">\n",
       "  <thead>\n",
       "    <tr style=\"text-align: right;\">\n",
       "      <th>matgras</th>\n",
       "      <th>Beurre</th>\n",
       "      <th>Margarine</th>\n",
       "      <th>Huille de d'arachide</th>\n",
       "      <th>Huille de tournesol</th>\n",
       "      <th>Huille d'olive</th>\n",
       "      <th>Melange d'hulle (type Isio4)</th>\n",
       "      <th>Huille de colza</th>\n",
       "      <th>Grasse de carnard ou d'oie</th>\n",
       "    </tr>\n",
       "    <tr>\n",
       "      <th>sexe</th>\n",
       "      <th></th>\n",
       "      <th></th>\n",
       "      <th></th>\n",
       "      <th></th>\n",
       "      <th></th>\n",
       "      <th></th>\n",
       "      <th></th>\n",
       "      <th></th>\n",
       "    </tr>\n",
       "  </thead>\n",
       "  <tbody>\n",
       "    <tr>\n",
       "      <th>Femme</th>\n",
       "      <td>5</td>\n",
       "      <td>17</td>\n",
       "      <td>32</td>\n",
       "      <td>47</td>\n",
       "      <td>20</td>\n",
       "      <td>18</td>\n",
       "      <td>1</td>\n",
       "      <td>1</td>\n",
       "    </tr>\n",
       "    <tr>\n",
       "      <th>Homme</th>\n",
       "      <td>10</td>\n",
       "      <td>10</td>\n",
       "      <td>16</td>\n",
       "      <td>21</td>\n",
       "      <td>20</td>\n",
       "      <td>5</td>\n",
       "      <td>0</td>\n",
       "      <td>3</td>\n",
       "    </tr>\n",
       "  </tbody>\n",
       "</table>\n",
       "</div>"
      ],
      "text/plain": [
       "matgras  Beurre  Margarine  Huille de d'arachide  Huille de tournesol  \\\n",
       "sexe                                                                    \n",
       "Femme         5         17                    32                   47   \n",
       "Homme        10         10                    16                   21   \n",
       "\n",
       "matgras  Huille d'olive  Melange d'hulle (type Isio4)  Huille de colza  \\\n",
       "sexe                                                                     \n",
       "Femme                20                            18                1   \n",
       "Homme                20                             5                0   \n",
       "\n",
       "matgras  Grasse de carnard ou d'oie  \n",
       "sexe                                 \n",
       "Femme                             1  \n",
       "Homme                             3  "
      ]
     },
     "execution_count": 15,
     "metadata": {},
     "output_type": "execute_result"
    }
   ],
   "source": [
    "pan.crosstab(df[\"sexe\"],df[\"matgras\"])"
   ]
  },
  {
   "cell_type": "code",
   "execution_count": 17,
   "id": "f10dbfbf-80fb-446d-a5d9-a545ac54d6a8",
   "metadata": {},
   "outputs": [
    {
     "data": {
      "text/html": [
       "<div>\n",
       "<style scoped>\n",
       "    .dataframe tbody tr th:only-of-type {\n",
       "        vertical-align: middle;\n",
       "    }\n",
       "\n",
       "    .dataframe tbody tr th {\n",
       "        vertical-align: top;\n",
       "    }\n",
       "\n",
       "    .dataframe thead th {\n",
       "        text-align: right;\n",
       "    }\n",
       "</style>\n",
       "<table border=\"1\" class=\"dataframe\">\n",
       "  <thead>\n",
       "    <tr style=\"text-align: right;\">\n",
       "      <th>matgras</th>\n",
       "      <th>Beurre</th>\n",
       "      <th>Margarine</th>\n",
       "      <th>Huille de d'arachide</th>\n",
       "      <th>Huille de tournesol</th>\n",
       "      <th>Huille d'olive</th>\n",
       "      <th>Melange d'hulle (type Isio4)</th>\n",
       "      <th>Huille de colza</th>\n",
       "      <th>Grasse de carnard ou d'oie</th>\n",
       "      <th>All</th>\n",
       "    </tr>\n",
       "    <tr>\n",
       "      <th>sexe</th>\n",
       "      <th></th>\n",
       "      <th></th>\n",
       "      <th></th>\n",
       "      <th></th>\n",
       "      <th></th>\n",
       "      <th></th>\n",
       "      <th></th>\n",
       "      <th></th>\n",
       "      <th></th>\n",
       "    </tr>\n",
       "  </thead>\n",
       "  <tbody>\n",
       "    <tr>\n",
       "      <th>Femme</th>\n",
       "      <td>0.022124</td>\n",
       "      <td>0.075221</td>\n",
       "      <td>0.141593</td>\n",
       "      <td>0.207965</td>\n",
       "      <td>0.088496</td>\n",
       "      <td>0.079646</td>\n",
       "      <td>0.004425</td>\n",
       "      <td>0.004425</td>\n",
       "      <td>0.623894</td>\n",
       "    </tr>\n",
       "    <tr>\n",
       "      <th>Homme</th>\n",
       "      <td>0.044248</td>\n",
       "      <td>0.044248</td>\n",
       "      <td>0.070796</td>\n",
       "      <td>0.092920</td>\n",
       "      <td>0.088496</td>\n",
       "      <td>0.022124</td>\n",
       "      <td>0.000000</td>\n",
       "      <td>0.013274</td>\n",
       "      <td>0.376106</td>\n",
       "    </tr>\n",
       "    <tr>\n",
       "      <th>All</th>\n",
       "      <td>0.066372</td>\n",
       "      <td>0.119469</td>\n",
       "      <td>0.212389</td>\n",
       "      <td>0.300885</td>\n",
       "      <td>0.176991</td>\n",
       "      <td>0.101770</td>\n",
       "      <td>0.004425</td>\n",
       "      <td>0.017699</td>\n",
       "      <td>1.000000</td>\n",
       "    </tr>\n",
       "  </tbody>\n",
       "</table>\n",
       "</div>"
      ],
      "text/plain": [
       "matgras    Beurre  Margarine  Huille de d'arachide  Huille de tournesol  \\\n",
       "sexe                                                                      \n",
       "Femme    0.022124   0.075221              0.141593             0.207965   \n",
       "Homme    0.044248   0.044248              0.070796             0.092920   \n",
       "All      0.066372   0.119469              0.212389             0.300885   \n",
       "\n",
       "matgras  Huille d'olive  Melange d'hulle (type Isio4)  Huille de colza  \\\n",
       "sexe                                                                     \n",
       "Femme          0.088496                      0.079646         0.004425   \n",
       "Homme          0.088496                      0.022124         0.000000   \n",
       "All            0.176991                      0.101770         0.004425   \n",
       "\n",
       "matgras  Grasse de carnard ou d'oie       All  \n",
       "sexe                                           \n",
       "Femme                      0.004425  0.623894  \n",
       "Homme                      0.013274  0.376106  \n",
       "All                        0.017699  1.000000  "
      ]
     },
     "execution_count": 17,
     "metadata": {},
     "output_type": "execute_result"
    }
   ],
   "source": [
    "pan.crosstab(df[\"sexe\"],df[\"matgras\"],normalize = True,margins=True)"
   ]
  },
  {
   "cell_type": "code",
   "execution_count": 21,
   "id": "f1c29936-de42-453d-a4d3-893d923fec28",
   "metadata": {},
   "outputs": [
    {
     "data": {
      "text/plain": [
       "matgras\n",
       "Beurre                           5\n",
       "Margarine                       17\n",
       "Huille de d'arachide            32\n",
       "Huille de tournesol             47\n",
       "Huille d'olive                  20\n",
       "Melange d'hulle (type Isio4)    18\n",
       "Huille de colza                  1\n",
       "Grasse de carnard ou d'oie       1\n",
       "Name: Femme, dtype: int64"
      ]
     },
     "execution_count": 21,
     "metadata": {},
     "output_type": "execute_result"
    }
   ],
   "source": [
    "pan.crosstab(df[\"matgras\"],df[\"sexe\"]).iloc[0:9,0]"
   ]
  },
  {
   "cell_type": "code",
   "execution_count": 22,
   "id": "459ea96f-ef75-47ec-af26-09b4f8f8e08f",
   "metadata": {},
   "outputs": [
    {
     "data": {
      "text/plain": [
       "([<matplotlib.patches.Wedge at 0x7f80c6caf6a0>,\n",
       "  <matplotlib.patches.Wedge at 0x7f80c6cafb80>,\n",
       "  <matplotlib.patches.Wedge at 0x7f80c6caff40>,\n",
       "  <matplotlib.patches.Wedge at 0x7f80c49cb460>,\n",
       "  <matplotlib.patches.Wedge at 0x7f80c49cb940>,\n",
       "  <matplotlib.patches.Wedge at 0x7f80c49cbe20>,\n",
       "  <matplotlib.patches.Wedge at 0x7f80c49d9340>,\n",
       "  <matplotlib.patches.Wedge at 0x7f80c49d9820>],\n",
       " [Text(1.076173844573151, 0.22770563510076727, ''),\n",
       "  Text(0.7723925685336014, 0.7832047753136252, ''),\n",
       "  Text(-0.28716180315506146, 1.0618559689565876, ''),\n",
       "  Text(-1.0489608476019545, -0.33118143093807256, ''),\n",
       "  Text(0.25753326586598585, -1.0694281728907273, ''),\n",
       "  Text(0.9862780561670755, -0.48708889940471367, ''),\n",
       "  Text(1.0914026597013786, -0.13725973334068928, ''),\n",
       "  Text(1.0982999808164309, -0.06113225121511388, '')])"
      ]
     },
     "execution_count": 22,
     "metadata": {},
     "output_type": "execute_result"
    },
    {
     "data": {
      "image/png": "[encoded data removed]",
      "text/plain": [
       "<Figure size 432x288 with 1 Axes>"
      ]
     },
     "metadata": {},
     "output_type": "display_data"
    }
   ],
   "source": [
    "plt.pie(pan.crosstab(df[\"matgras\"],1).iloc[0:9,0])"
   ]
  },
  {
   "cell_type": "code",
   "execution_count": 23,
   "id": "963923cd-238e-41c8-a124-7cf8e6585fee",
   "metadata": {},
   "outputs": [
    {
     "data": {
      "text/plain": [
       "viande\n",
       "Jamais                           1\n",
       "moins d'une fois par semaine     3\n",
       "une fois par semaine            11\n",
       "2/3 fois par semaine            83\n",
       "4/6 fois par semaine            67\n",
       "tous les jours                  61\n",
       "Name: 1, dtype: int64"
      ]
     },
     "execution_count": 23,
     "metadata": {},
     "output_type": "execute_result"
    }
   ],
   "source": [
    "pan.crosstab(df[\"viande\"],1).iloc[0:9,0]"
   ]
  },
  {
   "cell_type": "code",
   "execution_count": 31,
   "id": "0347e092-5dc9-42ad-bb01-3abe6557ad37",
   "metadata": {},
   "outputs": [
    {
     "data": {
      "text/plain": [
       "<BarContainer object of 6 artists>"
      ]
     },
     "execution_count": 31,
     "metadata": {},
     "output_type": "execute_result"
    },
    {
     "data": {
      "image/png": "[encoded data removed]",
      "text/plain": [
       "<Figure size 432x288 with 1 Axes>"
      ]
     },
     "metadata": {
      "needs_background": "light"
     },
     "output_type": "display_data"
    }
   ],
   "source": [
    "plt.bar([0,1,2,3,4,5],pan.crosstab(df[\"viande\"],1).iloc[0:9,0])"
   ]
  },
  {
   "cell_type": "code",
   "execution_count": 64,
   "id": "0106e540-4f93-4d05-8496-961e27bbfffa",
   "metadata": {},
   "outputs": [
    {
     "data": {
      "text/plain": [
       "[<matplotlib.lines.Line2D at 0x7f80c0a36100>]"
      ]
     },
     "execution_count": 64,
     "metadata": {},
     "output_type": "execute_result"
    },
    {
     "data": {
      "image/png": "[encoded data removed]",
      "text/plain": [
       "<Figure size 864x360 with 1 Axes>"
      ]
     },
     "metadata": {
      "needs_background": "light"
     },
     "output_type": "display_data"
    }
   ],
   "source": [
    "plt.figure(figsize=(12,5)) \n",
    "plt.plot(np.cumsum(pan.crosstab(df[\"viande\"],1,normalize=True).iloc[0:9,0]))"
   ]
  },
  {
   "cell_type": "code",
   "execution_count": 69,
   "id": "a7477c70-15eb-4348-a24c-9b1ab5a5bed6",
   "metadata": {},
   "outputs": [
    {
     "data": {
      "text/plain": [
       "Text(0, 0.5, 'Fréquences cumulées')"
      ]
     },
     "execution_count": 69,
     "metadata": {},
     "output_type": "execute_result"
    },
    {
     "data": {
      "image/png": "[encoded data removed]",
      "text/plain": [
       "<Figure size 432x288 with 2 Axes>"
      ]
     },
     "metadata": {
      "needs_background": "light"
     },
     "output_type": "display_data"
    }
   ],
   "source": [
    "fig, ax = plt.subplots()\n",
    "ax.bar([0,1,2,3,4,5],pan.crosstab(df[\"viande\"],1).iloc[0:9,0])\n",
    "ax2 = ax.twinx()\n",
    "ax2.plot(np.cumsum(pan.crosstab(df[\"viande\"],1,normalize=True).iloc[0:9,0]),color=\"orange\")\n",
    "ax.set_xlabel('Catégories de viande')\n",
    "ax.set_ylabel('Effectifs', color='skyblue')\n",
    "ax2.set_ylabel('Fréquences cumulées', color='red')\n"
   ]
  },
  {
   "cell_type": "code",
   "execution_count": 31,
   "id": "5d9c7650-533d-4fd0-935a-d41732dfe012",
   "metadata": {},
   "outputs": [
    {
     "data": {
      "text/plain": [
       "<BarContainer object of 6 artists>"
      ]
     },
     "execution_count": 31,
     "metadata": {},
     "output_type": "execute_result"
    },
    {
     "data": {
      "image/png": "[encoded data removed]",
      "text/plain": [
       "<Figure size 432x288 with 1 Axes>"
      ]
     },
     "metadata": {
      "needs_background": "light"
     },
     "output_type": "display_data"
    }
   ],
   "source": [
    "plt.bar([0,1,2,3,4,5],pan.crosstab(df[\"cafe\"],1).iloc[0:9,0],width=0.5)"
   ]
  },
  {
   "cell_type": "code",
   "execution_count": 41,
   "id": "a176d511-846b-4181-90ff-1fa637ce69e0",
   "metadata": {},
   "outputs": [
    {
     "data": {
      "text/plain": [
       "[<matplotlib.lines.Line2D at 0x7f80c13457f0>]"
      ]
     },
     "execution_count": 41,
     "metadata": {},
     "output_type": "execute_result"
    },
    {
     "data": {
      "image/png": "[encoded data removed]",
      "text/plain": [
       "<Figure size 432x288 with 1 Axes>"
      ]
     },
     "metadata": {
      "needs_background": "light"
     },
     "output_type": "display_data"
    }
   ],
   "source": [
    "freq_the=pan.crosstab(df[\"the\"],1,normalize=True)\n",
    "freqCum = np.cumsum(freq_the.iloc[:, 0])\n",
    "value=freq_the.index\n",
    "plt.step(value,freqCum, where='post',color='green')"
   ]
  },
  {
   "cell_type": "code",
   "execution_count": 44,
   "id": "527a45b8-59cd-4e51-8acb-c04e64b023b8",
   "metadata": {},
   "outputs": [
    {
     "data": {
      "text/plain": [
       "(array([ 4.,  9., 26., 26., 39., 29., 27., 30., 17.,  6., 10.,  2.,  0.]),\n",
       " array([ 40,  45,  50,  55,  60,  65,  70,  75,  80,  85,  90,  95, 100,\n",
       "        105]),\n",
       " <BarContainer object of 13 artists>)"
      ]
     },
     "execution_count": 44,
     "metadata": {},
     "output_type": "execute_result"
    },
    {
     "data": {
      "image/png": "[encoded data removed]",
      "text/plain": [
       "<Figure size 432x288 with 1 Axes>"
      ]
     },
     "metadata": {
      "needs_background": "light"
     },
     "output_type": "display_data"
    }
   ],
   "source": [
    "plt.hist(df[\"poids\"], bins=range(40,110,5),edgecolor='black')"
   ]
  },
  {
   "cell_type": "code",
   "execution_count": 45,
   "id": "4cdc7da4-7ea3-4f52-b66a-28d8070fcfc4",
   "metadata": {},
   "outputs": [
    {
     "data": {
      "text/plain": [
       "(array([16., 19., 30., 27., 33., 27., 30., 14.]),\n",
       " array([65, 67, 69, 71, 73, 75, 77, 79, 81]),\n",
       " <BarContainer object of 8 artists>)"
      ]
     },
     "execution_count": 45,
     "metadata": {},
     "output_type": "execute_result"
    },
    {
     "data": {
      "image/png": "[encoded data removed]",
      "text/plain": [
       "<Figure size 432x288 with 1 Axes>"
      ]
     },
     "metadata": {
      "needs_background": "light"
     },
     "output_type": "display_data"
    }
   ],
   "source": [
    "plt.hist(df[\"age\"], bins = range(65,83,2), edgecolor=\"black\")"
   ]
  },
  {
   "cell_type": "code",
   "execution_count": 46,
   "id": "d22daa3d-1581-4182-bb9f-451eb3207325",
   "metadata": {},
   "outputs": [
    {
     "data": {
      "text/plain": [
       "(array([12.]), array([83, 85]), <BarContainer object of 1 artists>)"
      ]
     },
     "execution_count": 46,
     "metadata": {},
     "output_type": "execute_result"
    },
    {
     "data": {
      "image/png": "[encoded data removed]",
      "text/plain": [
       "<Figure size 432x288 with 1 Axes>"
      ]
     },
     "metadata": {
      "needs_background": "light"
     },
     "output_type": "display_data"
    }
   ],
   "source": [
    "plt.hist(df[\"age\"], bins = range(83,87,2), edgecolor=\"black\")"
   ]
  },
  {
   "cell_type": "code",
   "execution_count": 47,
   "id": "c01095e4-0fbe-44da-b9ca-077502b041fa",
   "metadata": {},
   "outputs": [
    {
     "data": {
      "text/plain": [
       "(array([9.]), array([87, 89]), <BarContainer object of 1 artists>)"
      ]
     },
     "execution_count": 47,
     "metadata": {},
     "output_type": "execute_result"
    },
    {
     "data": {
      "image/png": "[encoded data removed]",
      "text/plain": [
       "<Figure size 432x288 with 1 Axes>"
      ]
     },
     "metadata": {
      "needs_background": "light"
     },
     "output_type": "display_data"
    }
   ],
   "source": [
    "plt.hist(df[\"age\"], bins = range(87,91,2), edgecolor=\"black\")"
   ]
  },
  {
   "cell_type": "code",
   "execution_count": 54,
   "id": "af9f8cd6-f65d-4264-89b9-006e81b3ca7b",
   "metadata": {},
   "outputs": [
    {
     "data": {
      "text/plain": [
       "Text(0.5, 1.0, 'le poids en fonction de la taille')"
      ]
     },
     "execution_count": 54,
     "metadata": {},
     "output_type": "execute_result"
    },
    {
     "data": {
      "image/png": "[encoded data removed]",
      "text/plain": [
       "<Figure size 432x288 with 1 Axes>"
      ]
     },
     "metadata": {
      "needs_background": "light"
     },
     "output_type": "display_data"
    }
   ],
   "source": [
    "plt.scatter(df[\"taille\"],df[\"poids\"],alpha=0.7)\n",
    "plt.xlabel(\"Taille (cm)\")\n",
    "plt.ylabel(\"Poids (kg)\")\n",
    "plt.title(\"le poids en fonction de la taille\")"
   ]
  },
  {
   "cell_type": "code",
   "execution_count": 58,
   "id": "9d3ff78f-c4d3-422a-936e-53d169b9d106",
   "metadata": {},
   "outputs": [
    {
     "data": {
      "text/plain": [
       "<AxesSubplot:>"
      ]
     },
     "execution_count": 58,
     "metadata": {},
     "output_type": "execute_result"
    },
    {
     "data": {
      "image/png": "[encoded data removed]",
      "text/plain": [
       "<Figure size 864x432 with 1 Axes>"
      ]
     },
     "metadata": {
      "needs_background": "light"
     },
     "output_type": "display_data"
    }
   ],
   "source": [
    "plt.figure(figsize=(12, 6))  # Taille de la figure\n",
    "df[['age', 'poids', 'taille']].boxplot()"
   ]
  },
  {
   "cell_type": "code",
   "execution_count": 70,
   "id": "45e633c0-2dc4-42eb-b307-51e93f560f06",
   "metadata": {},
   "outputs": [
    {
     "data": {
      "text/plain": [
       "<AxesSubplot:>"
      ]
     },
     "execution_count": 70,
     "metadata": {},
     "output_type": "execute_result"
    },
    {
     "data": {
      "image/png": "[encoded data removed]",
      "text/plain": [
       "<Figure size 432x288 with 1 Axes>"
      ]
     },
     "metadata": {
      "needs_background": "light"
     },
     "output_type": "display_data"
    }
   ],
   "source": [
    "df[['the', 'cafe']].boxplot()"
   ]
  },
  {
   "cell_type": "code",
   "execution_count": 72,
   "id": "9fbe72ce-12e3-46b7-ad44-d96419d8d19c",
   "metadata": {},
   "outputs": [
    {
     "name": "stdout",
     "output_type": "stream",
     "text": [
      "[1 8 5 1]\n"
     ]
    }
   ],
   "source": [
    "x = np.array([1,8,5,1])\n",
    "print(x)"
   ]
  },
  {
   "cell_type": "code",
   "execution_count": 81,
   "id": "afb22cf2-ede4-46ef-b157-b0331f6d8f42",
   "metadata": {},
   "outputs": [
    {
     "name": "stdout",
     "output_type": "stream",
     "text": [
      "[0 1 3 5 7 9]\n"
     ]
    }
   ],
   "source": [
    "a = np.array(range(0,2))\n",
    "b = np.array(range(3,10,2))\n",
    "y = np.concatenate((a,b))\n",
    "print(y)"
   ]
  },
  {
   "cell_type": "code",
   "execution_count": 82,
   "id": "559402c3-3d4f-45ef-ba9d-7f3cebb13af5",
   "metadata": {},
   "outputs": [
    {
     "name": "stdout",
     "output_type": "stream",
     "text": [
      "7\n",
      "[3 5]\n",
      "7\n",
      "[0 1 3 5]\n"
     ]
    }
   ],
   "source": [
    "print(y[4])\n",
    "print(y[2:4])\n",
    "print(y[-2])\n",
    "print(y[y<=5])"
   ]
  },
  {
   "cell_type": "code",
   "execution_count": 84,
   "id": "1b06d6be-76ef-4183-afba-73e8de8a3d1e",
   "metadata": {},
   "outputs": [
    {
     "name": "stdout",
     "output_type": "stream",
     "text": [
      "[0 3 7]\n",
      "[3 5 7 9]\n"
     ]
    }
   ],
   "source": [
    "yPpaire = y[::2]\n",
    "yPlusgrand1 = y[y>1]\n",
    "print(yPpaire)\n",
    "print(yPlusgrand1)"
   ]
  },
  {
   "cell_type": "code",
   "execution_count": 86,
   "id": "1eecd6a7-97bc-45db-8f3b-757e153fe0a4",
   "metadata": {},
   "outputs": [
    {
     "name": "stdout",
     "output_type": "stream",
     "text": [
      "[1 3 5 7 9]\n"
     ]
    }
   ],
   "source": [
    "y_sans_premier = y[1:]\n",
    "print(y_sans_premier)"
   ]
  },
  {
   "cell_type": "code",
   "execution_count": 9,
   "id": "34677940-36cf-4a46-a0c2-f358c76f737e",
   "metadata": {},
   "outputs": [
    {
     "name": "stdout",
     "output_type": "stream",
     "text": [
      "[1 1 1 1 1 1 1 1 1 1 1 1 1 1 1 1 1 1 1 1 1 1 1 1 1 5 5 5 5 5 5 5 5 5 5 5 5\n",
      " 5 5 5 5 5 5 5 5 5 5 5 5 5 8 8 8 8 8 8 8 8 8 8 8 8 8 8 8 8 8 8 8 8 8 8 8 8\n",
      " 8 1 1 1 1 1 1 1 1 1 1 1 1 1 1 1 1 1 1 1 1 1 1 1 1 1]\n"
     ]
    }
   ],
   "source": [
    "z = np.array([1,5,8,1])\n",
    "Z =np.repeat(z,25)\n",
    "Z = Z.reshape(100)\n",
    "print(Z)"
   ]
  },
  {
   "cell_type": "code",
   "execution_count": 7,
   "id": "54d69811-8e7b-41ef-b3c1-d52c5af43047",
   "metadata": {},
   "outputs": [
    {
     "name": "stdout",
     "output_type": "stream",
     "text": [
      "[1 8 5 1 1 8 5 1 1 8 5 1 1 8 5 1 1 8 5 1 1 8 5 1 1 8 5 1 1 8 5 1 1 8 5 1 1\n",
      " 8 5 1 1 8 5 1 1 8 5 1 1 8 5 1 1 8 5 1 1 8 5 1 1 8 5 1 1 8 5 1 1 8 5 1 1 8\n",
      " 5 1 1 8 5 1 1 8 5 1 1 8 5 1 1 8 5 1 1 8 5 1 1 8 5 1]\n"
     ]
    }
   ],
   "source": [
    "x = np.array([1, 8, 5, 1])\n",
    "X = np.tile(x, 25)\n",
    "print(X)"
   ]
  },
  {
   "cell_type": "code",
   "execution_count": null,
   "id": "adf12d29-a00b-4a0a-8dcb-a72ba04557bf",
   "metadata": {},
   "outputs": [],
   "source": []
  }
 ],
 "metadata": {
  "kernelspec": {
   "display_name": "Python 3 (ipykernel)",
   "language": "python",
   "name": "python3"
  },
  "language_info": {
   "codemirror_mode": {
    "name": "ipython",
    "version": 3
   },
   "file_extension": ".py",
   "mimetype": "text/x-python",
   "name": "python",
   "nbconvert_exporter": "python",
   "pygments_lexer": "ipython3",
   "version": "3.9.13"
  }
 },
 "nbformat": 4,
 "nbformat_minor": 5
}
